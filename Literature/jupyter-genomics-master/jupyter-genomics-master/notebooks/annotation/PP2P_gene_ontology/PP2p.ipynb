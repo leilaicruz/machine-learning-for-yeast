{
 "cells": [
  {
   "cell_type": "markdown",
   "metadata": {},
   "source": [
    "## PP2P protocol"
   ]
  },
  {
   "cell_type": "markdown",
   "metadata": {},
   "source": [
    "By Roman Sasik (rsasik@ucsd.edu)\n This Notebook describes the steps used in Gene Ontology analysis, which produces both conditional and unconditional posterior probabilities that a GO term is differentially regulated in a given experiment. It is assumed that posterior probabilities for all genes have been calculated, either directly using _eBayes_ in the _limma R_ package, or indirectly using the _lfdr_ function of the _qvalue R_ package. The conditional probabilities are defined in the context of the GO graph structure:\n",
    "\n",
    "<img src = \"files/GOstructure.png\">\n",
    "\n",
    "The node in red can be pronounced conditionally significant if it is significant _given_ the status of its descendant nodes. For instance, if the dark grey node had been found significant and the light grey nodes had been found not significant, the red node can be declared significant only if there are more significant genes in it than in the dark grey node. \n",
    "\n",
    "The program _PP2P_ works for both \"continuous\" PP's as well as for a simple cutoff, which is equivalent to the usual two-gene-list GO analysis (one a significant gene list, the other the expressed gene list). \n",
    "\n",
    "The algorithm is described in this paper: \n",
    "_\"Posterior conditional probabilities for gene ontologies\",_ R Sasik and A Chang, (to be published)\n",
    "\n",
    "GNU fortran compiler _gfortran_ is assumed to be installed (is part of gcc)."
   ]
  },
  {
   "cell_type": "markdown",
   "metadata": {},
   "source": [
    "### Compilation of the code"
   ]
  },
  {
   "cell_type": "markdown",
   "metadata": {},
   "source": [
    "Execute this command:"
   ]
  },
  {
   "cell_type": "code",
   "execution_count": 9,
   "metadata": {
    "collapsed": false
   },
   "outputs": [],
   "source": [
    "!gfortran -ffree-line-length-none PP2p_branch_conditional_exact_pvalues.f90"
   ]
  },
  {
   "cell_type": "code",
   "execution_count": 10,
   "metadata": {
    "collapsed": false
   },
   "outputs": [
    {
     "name": "stdout",
     "output_type": "stream",
     "text": [
      "a.out\t\t\t   dot_conditional.png\r\n",
      "BP_child_GO_GO_table.txt   go_interface.mod\r\n",
      "BP_GO_locus_table.txt\t   GOstructure.png\r\n",
      "BP_GO_term_table.txt\t   input.png\r\n",
      "BP_locus_GO_table.txt\t   PP2p_branch_conditional_exact_pvalues.f90\r\n",
      "BP_parent_GO_GO_table.txt  PP2p.ipynb\r\n",
      "chirp_transform.mod\t   xls_conditional_expanded.png\r\n",
      "C_T_1652.txt\t\t   xls_conditional.png\r\n",
      "C_T_PP.txt\r\n"
     ]
    }
   ],
   "source": [
    "!ls"
   ]
  },
  {
   "cell_type": "markdown",
   "metadata": {},
   "source": [
    "### Input file\n",
    "\n",
    "There is one input file - a tab-delimited list of genes, which must meet these requirements: 1) The first line is the header line 2) The first column contains Entrez gene ID's of all expressed genes, in no particular order. Each gene ID must be present only once. 3) The second column contains posterior probabilities (PP) of the genes in the first column. PP is the probability that, given some prior assumptions, the gene is differentially expressed (DE). An example of such a file is C_T_PP.txt. The genes in it are ordered by their PP but they don't have to be. This is the top of that file:\n",
    "\n",
    "<img src = \"files/input.png\">\n",
    "\n",
    "There are times when we do not have the PP's, but instead have a \"list of DE genes.\" In that case, define PP's in the second column as 1 when the corresponding gene is among the significant genes and 0 otherwise. An example of such a file is C_T_1652.txt. (The 1652 in the file name indicates the number of significant genes, but it has no other significance).\n"
   ]
  },
  {
   "cell_type": "markdown",
   "metadata": {},
   "source": [
    "## Running PP2p"
   ]
  },
  {
   "cell_type": "markdown",
   "metadata": {},
   "source": [
    "Enter this command if you want to find differentially regulated GO terms in the Biological Process ontology, in the experiment defined by the input file C_T_PP.txt, and if you want a term reported as significant with posterior error probability of 0.01:"
   ]
  },
  {
   "cell_type": "code",
   "execution_count": 7,
   "metadata": {
    "collapsed": false,
    "scrolled": false
   },
   "outputs": [
    {
     "name": "stdout",
     "output_type": "stream",
     "text": [
      " Reading expressed genes...\n",
      " Defining GO terms...\n",
      " Reading loci...\n",
      "   1651.9746816417971      significant genes;       11218 expressed genes\n",
      " Reading loci again...\n",
      " Defining GO children...\n",
      " Defining GO parents...\n",
      " Connecting loci to GO terms...\n",
      " Calling get_n\n",
      "100.00%\n",
      " Testing        9091 terms\n",
      " Finished level:           1\n",
      " Tests:        2749\n",
      " pi0:   1.0000000000000000     \n",
      " Total frozen genes:           0\n",
      " -----------------------------------------\n",
      " Finished level:           2\n",
      " Tests:        2076\n",
      " pi0:   1.0000000000000000     \n",
      " Total frozen genes:           0\n",
      " -----------------------------------------\n",
      " Finished level:           3\n",
      " Tests:        1463\n",
      " pi0:  0.92276150407811020     \n",
      " Total frozen genes:           0\n",
      " -----------------------------------------\n",
      " Finished level:           4\n",
      " Tests:         908\n",
      " pi0:  0.72320114600559338     \n",
      " Total frozen genes:           0\n",
      " -----------------------------------------\n",
      " *\n",
      " Finished level:           5\n",
      " Tests:         604\n",
      " pi0:  0.55187635776135313     \n",
      " Total frozen genes:         274\n",
      " -----------------------------------------\n",
      " Finished level:           6\n",
      " Tests:         403\n",
      " pi0:  0.45285362500706783     \n",
      " Total frozen genes:         274\n",
      " -----------------------------------------\n",
      " *\n",
      " Finished level:           7\n",
      " Tests:         277\n",
      " pi0:  0.37132540018251448     \n",
      " Total frozen genes:         755\n",
      " -----------------------------------------\n",
      " Finished level:           8\n",
      " Tests:         181\n",
      " pi0:  0.37292819902383295     \n",
      " Total frozen genes:         755\n",
      " -----------------------------------------\n",
      " *\n",
      " *\n",
      " *\n",
      " Finished level:           9\n",
      " Tests:         135\n",
      " pi0:  0.59259259847947121     \n",
      " Total frozen genes:        2914\n",
      " -----------------------------------------\n",
      " Finished level:          10\n",
      " Tests:          86\n",
      " pi0:  0.58914728682170536     \n",
      " Total frozen genes:        2914\n",
      " -----------------------------------------\n",
      " *\n",
      " Finished level:          11\n",
      " Tests:          69\n",
      " pi0:  0.57971015479994126     \n",
      " Total frozen genes:        3473\n",
      " -----------------------------------------\n",
      " *\n",
      " *\n",
      " Finished level:          12\n",
      " Tests:          46\n",
      " pi0:  0.61381074599221142     \n",
      " Total frozen genes:        4957\n",
      " -----------------------------------------\n",
      " Finished level:          13\n",
      " Tests:          34\n",
      " pi0:  0.86687306569534384     \n",
      " Total frozen genes:        4957\n",
      " -----------------------------------------\n",
      " Finished level:          14\n",
      " Tests:          21\n",
      " pi0:  0.85213032648283804     \n",
      " Total frozen genes:        4957\n",
      " -----------------------------------------\n",
      " Finished level:          15\n",
      " Tests:          15\n",
      " pi0:  0.77192982516680619     \n",
      " Total frozen genes:        4957\n",
      " -----------------------------------------\n",
      " Finished level:          16\n",
      " Tests:          12\n",
      " pi0:  0.78947368482968816     \n",
      " Total frozen genes:        4957\n",
      " -----------------------------------------\n",
      " Finished level:          17\n",
      " Tests:          10\n",
      " pi0:  0.73684210584104226     \n",
      " Total frozen genes:        4957\n",
      " -----------------------------------------\n",
      " Finished level:          18\n",
      " Tests:           2\n",
      " pi0:   1.0000000000000000     \n",
      " Total frozen genes:        4957\n",
      " -----------------------------------------\n",
      " Making dot files...\n"
     ]
    }
   ],
   "source": [
    "!./a.out BP C_T_PP.txt 0.01"
   ]
  },
  {
   "cell_type": "markdown",
   "metadata": {},
   "source": [
    "The output is a number of files:\n",
    "\n",
    "#### Conditional reporting is done in these files:\n",
    "\n",
    "BP_C_T_PP_0.01_conditional.dot \n",
    "\n",
    "BP_C_T_PP_0.01_conditional_lfdr_expanded.txt \n",
    "\n",
    "BP_C_T_PP_0.01_conditional_lfdr.txt\n",
    "\n",
    "\n",
    "#### Unconditional reporting is done in these files (BH indicates Benjamini-Hochberg adjustment of raw p-values; lfdr indicates local false discovery rate (Storey) corresponding to the raw p-values):\n",
    "\n",
    "BP_C_T_PP_0.01_unconditional_BH_expanded.txt\n",
    "\n",
    "BP_C_T_PP_0.01_unconditional_BH.txt\n",
    "\n",
    "\n",
    "BP_C_T_PP_0.01_unconditional.dot\n",
    "\n",
    "BP_C_T_PP_0.01_unconditional_lfdr_expanded.txt\n",
    "\n",
    "BP_C_T_PP_0.01_unconditional_lfdr.txt\n",
    "\n",
    "\n",
    "For instance, the simple list of conditionally significant GO terms is in BP_C_T_PP_0.01_conditional_lfdr.txt and looks like this:\n",
    "\n",
    "<img src = \"files/xls_conditional.png\">\n",
    "\n",
    "This is the entire file. There are no more conditionally significant GO terms. The way to read this output is from top to bottom, as GO terms are reported in levels depending on the significance (or not) of their child terms. Therefore, the \"level\" column also corresponds to the level of the GO organization - the lower the level, the more specific (and smaller) the term is. \n",
    "\n",
    "The expanded files contain all the genes from the reported GO terms. For instance, the top of BP_C_T_PP_0.01_conditional_lfdr_expanded.txt looks like this:\n",
    "\n",
    "<img src = \"files/xls_conditional_expanded.png\">\n",
    "\n",
    "The .dot files encode the ontology structure of the significant terms. Convert them into pdf files using the following commands:"
   ]
  },
  {
   "cell_type": "code",
   "execution_count": 8,
   "metadata": {
    "collapsed": false
   },
   "outputs": [
    {
     "name": "stdout",
     "output_type": "stream",
     "text": [
      "BP_C_T_PP_0.01_conditional.pdf\r\n"
     ]
    }
   ],
   "source": [
    "!dot -Tfig BP_C_T_PP_0.01_conditional.dot > BP_C_T_PP_0.01_conditional.fig\n",
    "!fig2dev -L pdf BP_C_T_PP_0.01_conditional.fig BP_C_T_PP_0.01_conditional.pdf\n",
    "!ls *pdf"
   ]
  },
  {
   "cell_type": "markdown",
   "metadata": {},
   "source": [
    "## Demultiplexing phenotyping reads"
   ]
  },
  {
   "cell_type": "markdown",
   "metadata": {},
   "source": [
    "The graph looks like this:\n",
    "\n",
    "<img src = \"files/dot_conditional.png\">\n"
   ]
  },
  {
   "cell_type": "markdown",
   "metadata": {},
   "source": [
    "Cleanup after exercize:"
   ]
  },
  {
   "cell_type": "code",
   "execution_count": 27,
   "metadata": {
    "collapsed": false
   },
   "outputs": [],
   "source": [
    "!rm BP_C_T*"
   ]
  }
 ],
 "metadata": {
  "kernelspec": {
   "display_name": "Python 2",
   "language": "python",
   "name": "python2"
  },
  "language_info": {
   "codemirror_mode": {
    "name": "ipython",
    "version": 2
   },
   "file_extension": ".py",
   "mimetype": "text/x-python",
   "name": "python",
   "nbconvert_exporter": "python",
   "pygments_lexer": "ipython2",
   "version": "2.7.11"
  }
 },
 "nbformat": 4,
 "nbformat_minor": 0
}
