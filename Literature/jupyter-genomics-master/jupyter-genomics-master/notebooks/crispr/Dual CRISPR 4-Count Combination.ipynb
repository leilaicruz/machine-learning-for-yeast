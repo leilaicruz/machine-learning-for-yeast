{
 "cells": [
  {
   "cell_type": "markdown",
   "metadata": {},
   "source": [
    "# Dual CRISPR Screen Analysis\n",
    "# Count Combination\n",
    "Amanda Birmingham, CCBB, UCSD (abirmingham@ucsd.edu)"
   ]
  },
  {
   "cell_type": "markdown",
   "metadata": {},
   "source": [
    "## Instructions\n",
    "\n",
    "To run this notebook reproducibly, follow these steps:\n",
    "1. Click **Kernel** > **Restart & Clear Output**\n",
    "2. When prompted, click the red **Restart & clear all outputs** button\n",
    "3. Fill in the values for your analysis for each of the variables in the [Input Parameters](#input-parameters) section\n",
    "4. Click **Cell** > **Run All**"
   ]
  },
  {
   "cell_type": "markdown",
   "metadata": {},
   "source": [
    "<a name = \"input-parameters\"></a>\n",
    "\n",
    "## Input Parameters"
   ]
  },
  {
   "cell_type": "code",
   "execution_count": null,
   "metadata": {
    "collapsed": false
   },
   "outputs": [],
   "source": [
    "g_timestamp = \"\"\n",
    "g_dataset_name = \"20160510_A549\"\n",
    "g_count_alg_name = \"19mer_1mm_py\"\n",
    "g_fastq_counts_dir = '/Users/Birmingham/Repositories/ccbb_tickets/20160210_mali_crispr/data/interim/20160510_D00611_0278_BHK55CBCXX_A549'\n",
    "g_fastq_counts_run_prefix = \"19mer_1mm_py_20160615223822\"\n",
    "g_collapsed_counts_dir = \"/Users/Birmingham/Repositories/ccbb_tickets/20160210_mali_crispr/data/processed/20160510_A549\"\n",
    "g_collapsed_counts_run_prefix = \"\"\n",
    "g_combined_counts_dir = \"\"\n",
    "g_combined_counts_run_prefix = \"\"\n",
    "g_code_location = \"/Users/Birmingham/Repositories/ccbb_tickets/20160210_mali_crispr/src/python\""
   ]
  },
  {
   "cell_type": "markdown",
   "metadata": {},
   "source": [
    "## CCBB Library Imports"
   ]
  },
  {
   "cell_type": "code",
   "execution_count": null,
   "metadata": {
    "collapsed": true
   },
   "outputs": [],
   "source": [
    "import sys\n",
    "sys.path.append(g_code_location)"
   ]
  },
  {
   "cell_type": "markdown",
   "metadata": {},
   "source": [
    "## Automated Set-Up"
   ]
  },
  {
   "cell_type": "code",
   "execution_count": null,
   "metadata": {
    "collapsed": true
   },
   "outputs": [],
   "source": [
    "# %load -s describe_var_list /Users/Birmingham/Repositories/ccbb_tickets/20160210_mali_crispr/src/python/ccbbucsd/utilities/analysis_run_prefixes.py\n",
    "def describe_var_list(input_var_name_list):\n",
    "    description_list =  [\"{0}: {1}\\n\".format(name, eval(name)) for name in input_var_name_list]\n",
    "    return \"\".join(description_list)\n"
   ]
  },
  {
   "cell_type": "code",
   "execution_count": null,
   "metadata": {
    "collapsed": false
   },
   "outputs": [],
   "source": [
    "from ccbbucsd.utilities.analysis_run_prefixes import check_or_set, get_run_prefix, get_timestamp\n",
    "g_timestamp = check_or_set(g_timestamp, get_timestamp())\n",
    "g_collapsed_counts_dir = check_or_set(g_collapsed_counts_dir, g_fastq_counts_dir)\n",
    "g_collapsed_counts_run_prefix = check_or_set(g_collapsed_counts_run_prefix, \n",
    "                                             get_run_prefix(g_dataset_name, g_count_alg_name, g_timestamp))\n",
    "g_combined_counts_dir = check_or_set(g_combined_counts_dir, g_collapsed_counts_dir)\n",
    "g_combined_counts_run_prefix = check_or_set(g_combined_counts_run_prefix, g_collapsed_counts_run_prefix)\n",
    "print(describe_var_list(['g_timestamp','g_collapsed_counts_dir','g_collapsed_counts_run_prefix', \n",
    "                         'g_combined_counts_dir', 'g_combined_counts_run_prefix']))"
   ]
  },
  {
   "cell_type": "code",
   "execution_count": null,
   "metadata": {
    "collapsed": true
   },
   "outputs": [],
   "source": [
    "from ccbbucsd.utilities.files_and_paths import verify_or_make_dir\n",
    "verify_or_make_dir(g_collapsed_counts_dir)\n",
    "verify_or_make_dir(g_combined_counts_dir)"
   ]
  },
  {
   "cell_type": "markdown",
   "metadata": {},
   "source": [
    "## Count Combination Functions"
   ]
  },
  {
   "cell_type": "code",
   "execution_count": null,
   "metadata": {
    "collapsed": false
   },
   "outputs": [],
   "source": [
    "# %load -s get_counts_file_suffix /Users/Birmingham/Repositories/ccbb_tickets/20160210_mali_crispr/src/python/ccbbucsd/malicrispr/construct_counter.py\n",
    "def get_counts_file_suffix():\n",
    "    return \"counts.txt\"\n"
   ]
  },
  {
   "cell_type": "code",
   "execution_count": null,
   "metadata": {
    "collapsed": false
   },
   "outputs": [],
   "source": [
    "# %load /Users/Birmingham/Repositories/ccbb_tickets/20160210_mali_crispr/src/python/ccbbucsd/malicrispr/count_combination.py\n",
    "# ccbb libraries\n",
    "from ccbbucsd.utilities.analysis_run_prefixes import strip_run_prefix\n",
    "from ccbbucsd.utilities.files_and_paths import build_multipart_fp, group_files, get_filepaths_by_prefix_and_suffix\n",
    "\n",
    "# project-specific libraries\n",
    "from ccbbucsd.malicrispr.count_files_and_dataframes import get_counts_df\n",
    "\n",
    "__author__ = \"Amanda Birmingham\"\n",
    "__maintainer__ = \"Amanda Birmingham\"\n",
    "__email__ = \"abirmingham@ucsd.edu\"\n",
    "__status__ = \"prototype\"\n",
    "\n",
    "\n",
    "def get_collapsed_counts_file_suffix():\n",
    "    return \"collapsed.txt\"\n",
    "\n",
    "\n",
    "def get_combined_counts_file_suffix():\n",
    "    return \"counts_combined.txt\"\n",
    "\n",
    "\n",
    "def group_lane_and_set_files(filepaths):\n",
    "    # NB: this regex assumes read designator has *already* been removed\n",
    "    # and replaced with _ as done by group_read_pairs\n",
    "    return group_files(filepaths, \"_L\\d\\d\\d_\\d\\d\\d\", \"\")\n",
    "\n",
    "\n",
    "def combine_count_files(counts_fp_for_dataset, run_prefix):\n",
    "    combined_df = None\n",
    "    \n",
    "    for curr_counts_fp in counts_fp_for_dataset:\n",
    "        count_header, curr_counts_df = get_counts_df(curr_counts_fp, run_prefix)\n",
    "        \n",
    "        if combined_df is None:\n",
    "            combined_df = curr_counts_df\n",
    "        else:\n",
    "            combined_df[count_header] = curr_counts_df[count_header]\n",
    "    \n",
    "    return combined_df\n",
    "\n",
    "\n",
    "def write_collapsed_count_files(input_dir, output_dir, curr_run_prefix, counts_run_prefix, counts_suffix, counts_collapsed_file_suffix):\n",
    "    counts_fps_for_dataset = get_filepaths_by_prefix_and_suffix(input_dir, counts_run_prefix, counts_suffix)\n",
    "    fps_by_sample = group_lane_and_set_files(counts_fps_for_dataset)\n",
    "    \n",
    "    for curr_sample, curr_fps in fps_by_sample.items():\n",
    "        stripped_sample = strip_run_prefix(curr_sample, counts_run_prefix)\n",
    "        output_fp = build_multipart_fp(output_dir, [curr_run_prefix, stripped_sample, counts_collapsed_file_suffix]) \n",
    "        combined_df = None        \n",
    "        \n",
    "        for curr_fp in curr_fps:\n",
    "            count_header, curr_counts_df = get_counts_df(curr_fp, counts_run_prefix)\n",
    "        \n",
    "            if combined_df is None:\n",
    "                combined_df = curr_counts_df\n",
    "                combined_df.rename(columns = {count_header:stripped_sample}, inplace = True) \n",
    "            else:\n",
    "                combined_df[stripped_sample] = combined_df[stripped_sample] + curr_counts_df[count_header]\n",
    "    \n",
    "        combined_df.to_csv(output_fp, sep=\"\\t\", index=False)    \n",
    "\n",
    "\n",
    "def write_combined_count_file(input_dir, output_dir, curr_run_prefix, counts_run_prefix, counts_suffix, combined_suffix):\n",
    "    output_fp = build_multipart_fp(output_dir, [curr_run_prefix, combined_suffix])\n",
    "    counts_fps_for_run = get_filepaths_by_prefix_and_suffix(input_dir, counts_run_prefix, counts_suffix)\n",
    "    combined_df = combine_count_files(counts_fps_for_run, curr_run_prefix)\n",
    "    combined_df.to_csv(output_fp, sep=\"\\t\", index=False)"
   ]
  },
  {
   "cell_type": "markdown",
   "metadata": {},
   "source": [
    "## Input Count Filenames"
   ]
  },
  {
   "cell_type": "code",
   "execution_count": null,
   "metadata": {
    "collapsed": false
   },
   "outputs": [],
   "source": [
    "from ccbbucsd.utilities.files_and_paths import summarize_filenames_for_prefix_and_suffix\n",
    "print(summarize_filenames_for_prefix_and_suffix(g_fastq_counts_dir, g_fastq_counts_run_prefix, get_counts_file_suffix()))"
   ]
  },
  {
   "cell_type": "markdown",
   "metadata": {},
   "source": [
    "## Count Combination Execution"
   ]
  },
  {
   "cell_type": "code",
   "execution_count": null,
   "metadata": {
    "collapsed": false
   },
   "outputs": [],
   "source": [
    "write_collapsed_count_files(g_fastq_counts_dir, g_collapsed_counts_dir, g_collapsed_counts_run_prefix, \n",
    "                            g_fastq_counts_run_prefix, get_counts_file_suffix(), get_collapsed_counts_file_suffix())"
   ]
  },
  {
   "cell_type": "code",
   "execution_count": null,
   "metadata": {
    "collapsed": false
   },
   "outputs": [],
   "source": [
    "write_combined_count_file(g_collapsed_counts_dir, g_combined_counts_dir, g_collapsed_counts_run_prefix, \n",
    "                          g_combined_counts_run_prefix, get_collapsed_counts_file_suffix(), \n",
    "                          get_combined_counts_file_suffix())"
   ]
  }
 ],
 "metadata": {
  "kernelspec": {
   "display_name": "Python 3",
   "language": "python",
   "name": "python3"
  },
  "language_info": {
   "codemirror_mode": {
    "name": "ipython",
    "version": 3
   },
   "file_extension": ".py",
   "mimetype": "text/x-python",
   "name": "python",
   "nbconvert_exporter": "python",
   "pygments_lexer": "ipython3",
   "version": "3.4.2"
  }
 },
 "nbformat": 4,
 "nbformat_minor": 0
}
