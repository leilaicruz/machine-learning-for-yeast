{
 "cells": [
  {
   "cell_type": "markdown",
   "metadata": {},
   "source": [
    "# Dual CRISPR Screen Analysis\n",
    "# Construct Counting\n",
    "Amanda Birmingham, CCBB, UCSD (abirmingham@ucsd.edu)"
   ]
  },
  {
   "cell_type": "markdown",
   "metadata": {},
   "source": [
    "## Instructions\n",
    "\n",
    "To run this notebook reproducibly, follow these steps:\n",
    "1. Click **Kernel** > **Restart & Clear Output**\n",
    "2. When prompted, click the red **Restart & clear all outputs** button\n",
    "3. Fill in the values for your analysis for each of the variables in the [Input Parameters](#input-parameters) section\n",
    "4. Click **Cell** > **Run All**"
   ]
  },
  {
   "cell_type": "markdown",
   "metadata": {},
   "source": [
    "<a name = \"input-parameters\"></a>\n",
    "\n",
    "## Input Parameters"
   ]
  },
  {
   "cell_type": "code",
   "execution_count": null,
   "metadata": {
    "collapsed": true
   },
   "outputs": [],
   "source": [
    "g_timestamp = ''\n",
    "g_num_processors = 3\n",
    "g_filtered_fastqs_dir = '/Users/Birmingham/Repositories/ccbb_tickets/20160210_mali_crispr/data/interim/20160504_D00611_0275_AHMM2JBCXX'\n",
    "g_count_alg_name = '19mer_1mm_py'\n",
    "g_constructs_fp = '/Users/Birmingham/Repositories/ccbb_tickets/20160210_mali_crispr/data/raw/general/Cancer_rep2_CRV4.txt'\n",
    "g_col_indices_str = \"1,3,5\"\n",
    "g_len_of_seq_to_match = 19\n",
    "g_num_allowed_mismatches = 1\n",
    "g_fastq_counts_dir = '/Users/Birmingham/Repositories/ccbb_tickets/20160210_mali_crispr/data/interim/20160504_D00611_0275_AHMM2JBCXX'\n",
    "g_fastq_counts_run_prefix = '20160504_CRV4_plasmid_20160701134823'\n",
    "g_code_location = '/Users/Birmingham/Repositories/ccbb_tickets/20160210_mali_crispr/src/python'"
   ]
  },
  {
   "cell_type": "markdown",
   "metadata": {},
   "source": [
    "## CCBB Library Imports"
   ]
  },
  {
   "cell_type": "code",
   "execution_count": null,
   "metadata": {
    "collapsed": false
   },
   "outputs": [],
   "source": [
    "import sys\n",
    "sys.path.append(g_code_location)"
   ]
  },
  {
   "cell_type": "markdown",
   "metadata": {},
   "source": [
    "## Automated Set-Up"
   ]
  },
  {
   "cell_type": "code",
   "execution_count": null,
   "metadata": {
    "collapsed": true
   },
   "outputs": [],
   "source": [
    "# %load -s describe_var_list /Users/Birmingham/Repositories/ccbb_tickets/20160210_mali_crispr/src/python/ccbbucsd/utilities/analysis_run_prefixes.py\n",
    "def describe_var_list(input_var_name_list):\n",
    "    description_list =  [\"{0}: {1}\\n\".format(name, eval(name)) for name in input_var_name_list]\n",
    "    return \"\".join(description_list)\n"
   ]
  },
  {
   "cell_type": "code",
   "execution_count": null,
   "metadata": {
    "collapsed": false
   },
   "outputs": [],
   "source": [
    "from ccbbucsd.utilities.analysis_run_prefixes import check_or_set, get_run_prefix, get_timestamp\n",
    "g_timestamp = check_or_set(g_timestamp, get_timestamp())\n",
    "g_fastq_counts_dir = check_or_set(g_fastq_counts_dir, g_filtered_fastqs_dir)\n",
    "g_fastq_counts_run_prefix = check_or_set(g_fastq_counts_run_prefix, \n",
    "                                         get_run_prefix(None, g_count_alg_name, g_timestamp))\n",
    "print(describe_var_list(['g_timestamp','g_fastq_counts_dir', 'g_fastq_counts_run_prefix']))"
   ]
  },
  {
   "cell_type": "code",
   "execution_count": null,
   "metadata": {
    "collapsed": true
   },
   "outputs": [],
   "source": [
    "from ccbbucsd.utilities.files_and_paths import verify_or_make_dir\n",
    "verify_or_make_dir(g_fastq_counts_dir)"
   ]
  },
  {
   "cell_type": "markdown",
   "metadata": {},
   "source": [
    "## Info Logging Pass-Through"
   ]
  },
  {
   "cell_type": "code",
   "execution_count": null,
   "metadata": {
    "collapsed": true
   },
   "outputs": [],
   "source": [
    "from ccbbucsd.utilities.notebook_logging import set_stdout_info_logger\n",
    "set_stdout_info_logger()"
   ]
  },
  {
   "cell_type": "markdown",
   "metadata": {},
   "source": [
    "## Construct Counting Functions"
   ]
  },
  {
   "cell_type": "code",
   "execution_count": null,
   "metadata": {
    "collapsed": false
   },
   "outputs": [],
   "source": [
    "# %load -s get_filtered_file_suffix /Users/Birmingham/Repositories/ccbb_tickets/20160210_mali_crispr/src/python/ccbbucsd/malicrispr/count_filterer.py\n",
    "def get_filtered_file_suffix():\n",
    "    return \"_len_filtered.fastq\"\n"
   ]
  },
  {
   "cell_type": "code",
   "execution_count": null,
   "metadata": {
    "collapsed": false
   },
   "outputs": [],
   "source": [
    "# %load /Users/Birmingham/Repositories/ccbb_tickets/20160210_mali_crispr/src/python/ccbbucsd/malicrispr/construct_file_extracter.py\n",
    "# third-party libraries\n",
    "import pandas\n",
    "\n",
    "# ccbb libraries\n",
    "from ccbbucsd.utilities.bio_seq_utilities import trim_seq\n",
    "\n",
    "__author__ = \"Amanda Birmingham\"\n",
    "__maintainer__ = \"Amanda Birmingham\"\n",
    "__email__ = \"abirmingham@ucsd.edu\"\n",
    "__status__ = \"prototype\"\n",
    "\n",
    "_CONSTRUCT_ID = \"CONSTRUCT_ID\"\n",
    "_GENE_A_SEQ = \"GENE_A_SEQ\"\n",
    "_GENE_B_SEQ = \"GENE_B_SEQ\"\n",
    "_CONSTRUCT_A_NAME = \"CONSTRUCT_A_NAME\"\n",
    "_CONSTRUCT_B_NAME = \"CONSTRUCT_B_NAME\"\n",
    "\n",
    "\n",
    "def get_construct_separator():\n",
    "    return \"__\"\n",
    "\n",
    "\n",
    "def extract_construct_and_grna_info(constructs_fp, column_indices):\n",
    "    construct_table = _read_in_construct_table(constructs_fp, column_indices, rows_to_skip=1)\n",
    "    seq_name_sets = _extract_grnas_from_construct_table(construct_table)\n",
    "    grna_name_seq_pairs = _format_and_check_grnas_input(seq_name_sets)\n",
    "    construct_names = construct_table[_CONSTRUCT_ID].unique().tolist()\n",
    "    return construct_names, grna_name_seq_pairs\n",
    "\n",
    "\n",
    "def _read_in_construct_table(constructs_fp, column_indices, rows_to_skip=1):\n",
    "    result = pandas.read_table(constructs_fp, skiprows=rows_to_skip, header=None)\n",
    "    result = _rename_columns(result, column_indices)\n",
    "    return result\n",
    "\n",
    "\n",
    "def _rename_columns(construct_table, column_indices):\n",
    "    new_names = [_CONSTRUCT_ID, _GENE_A_SEQ, _GENE_B_SEQ]\n",
    "    existing_names = list(construct_table.columns.values)\n",
    "\n",
    "    existing_to_new_names = {}\n",
    "    for curr_index in range(0, len(column_indices)):\n",
    "        curr_col_index = column_indices[curr_index]\n",
    "        curr_existing_name = existing_names[curr_col_index]\n",
    "        existing_to_new_names[curr_existing_name] = new_names[curr_index]\n",
    "\n",
    "    return construct_table.rename(columns=existing_to_new_names)\n",
    "\n",
    "\n",
    "def _extract_grnas_from_construct_table(construct_table):\n",
    "    grna_name_key = \"grna_name\"\n",
    "    grna_seq_key = \"grna_seq\"\n",
    "\n",
    "    # split the construct id in each row into two pieces--the two construct names--and put them into new columns\n",
    "    construct_table[_CONSTRUCT_A_NAME], construct_table[_CONSTRUCT_B_NAME] = \\\n",
    "        zip(*construct_table[_CONSTRUCT_ID].str.split(get_construct_separator()).tolist())\n",
    "\n",
    "    # get the gene/sequence pairs for each of the two genes and concatenate them\n",
    "    gene_a_pairs = _extract_grna_name_and_seq_df(construct_table, _CONSTRUCT_A_NAME,\n",
    "                                                 _GENE_A_SEQ, grna_name_key, grna_seq_key)\n",
    "    gene_b_pairs = _extract_grna_name_and_seq_df(construct_table, _CONSTRUCT_B_NAME,\n",
    "                                                 _GENE_B_SEQ, grna_name_key, grna_seq_key)\n",
    "    gene_pairs = pandas.concat([gene_a_pairs, gene_b_pairs])\n",
    "    gene_pairs[grna_seq_key] = gene_pairs[grna_seq_key].str.upper()  # upper-case all gRNA sequences\n",
    "\n",
    "    # extract only the unique pairs\n",
    "    grna_seq_name_groups = gene_pairs.groupby([grna_seq_key, grna_name_key]).groups\n",
    "    result = [x for x in grna_seq_name_groups]\n",
    "    return sorted(result)  # NB sort so that output order is predictable\n",
    "\n",
    "\n",
    "def _extract_grna_name_and_seq_df(construct_table, name_key, seq_key, grna_name_key, grna_seq_key):\n",
    "    name_and_seq_df = construct_table[[name_key, seq_key]]\n",
    "    name_and_seq_df.rename(columns={name_key: grna_name_key, seq_key: grna_seq_key}, inplace=True)\n",
    "    return name_and_seq_df\n",
    "\n",
    "\n",
    "def trim_grnas(grnas_name_and_seq_list, retain_len):\n",
    "    result = []\n",
    "    for name_seq_tuple in grnas_name_and_seq_list:\n",
    "        grna_name = name_seq_tuple[0]\n",
    "        full_seq = name_seq_tuple[1]\n",
    "        trimmed_seq = trim_seq(full_seq, retain_len, False)  # False = do not retain from 5p end but from 3p end\n",
    "        result.append((grna_name, trimmed_seq))\n",
    "    return result\n",
    "\n",
    "\n",
    "def _read_in_grnas(grnas_fp):\n",
    "    list_from_file = _read_grnas_input(grnas_fp)\n",
    "    return _format_and_check_grnas_input(list_from_file)\n",
    "\n",
    "\n",
    "def _read_grnas_input(grnas_fp, comment_prefix=\"#\", delimiter=\"\\t\"):\n",
    "    result = []\n",
    "    with open(grnas_fp, 'r') as file_handle:\n",
    "        for line in file_handle:\n",
    "            if not line.startswith(comment_prefix):\n",
    "                pieces = line.strip().split(delimiter)\n",
    "                result.append(pieces)\n",
    "    return result\n",
    "\n",
    "\n",
    "def _format_and_check_grnas_input(grnas_seq_and_name_list):\n",
    "    expected_num_pieces = 2\n",
    "    seqs_by_names = {}\n",
    "    names_by_seqs = {}\n",
    "    result = []\n",
    "\n",
    "    for curr_set in grnas_seq_and_name_list:\n",
    "        if len(curr_set) != expected_num_pieces:\n",
    "            raise ValueError(\n",
    "                \"input '{0}' has {1} pieces instead of the expected {2}\".format(\n",
    "                    curr_set, len(curr_set), expected_num_pieces\n",
    "                ))\n",
    "        curr_seq = curr_set[0]\n",
    "        curr_name = curr_set[1]\n",
    "\n",
    "        if curr_seq in names_by_seqs:\n",
    "            raise ValueError(\n",
    "                \"sequence '{0}' associated with name '{1}' but was already associated with name '{2}'\".format(\n",
    "                    curr_seq, curr_name, names_by_seqs[curr_seq]\n",
    "                ))\n",
    "\n",
    "        if curr_name in seqs_by_names:\n",
    "            raise ValueError(\n",
    "                \"name '{0}' associated with sequence '{1}' but was already associated with sequence '{2}'\".format(\n",
    "                    curr_name, curr_seq, seqs_by_names[curr_name]\n",
    "                ))\n",
    "\n",
    "        names_by_seqs[curr_seq] = curr_name\n",
    "        seqs_by_names[curr_name] = curr_seq\n",
    "        result.append((curr_name, curr_seq))\n",
    "    # next pair in\n",
    "\n",
    "    return result\n"
   ]
  },
  {
   "cell_type": "code",
   "execution_count": null,
   "metadata": {
    "collapsed": false
   },
   "outputs": [],
   "source": [
    "# %load /Users/Birmingham/Repositories/ccbb_tickets/20160210_mali_crispr/src/python/ccbbucsd/malicrispr/grna_position_matcher.py\n",
    "# ccbb libraries\n",
    "from ccbbucsd.utilities.bio_seq_utilities import rev_comp_canonical_dna_seq\n",
    "\n",
    "__author__ = \"Amanda Birmingham\"\n",
    "__maintainer__ = \"Amanda Birmingham\"\n",
    "__email__ = \"abirmingham@ucsd.edu\"\n",
    "__status__ = \"development\"\n",
    "\n",
    "\n",
    "class GrnaPositionMatcher:\n",
    "    @staticmethod\n",
    "    def _generate_seqs_to_check(fw_whole_seq, rv_whole_seq):\n",
    "        rc_whole_rv_seq = rev_comp_canonical_dna_seq(rv_whole_seq)\n",
    "        return fw_whole_seq, rc_whole_rv_seq\n",
    "\n",
    "    def __init__(self, grna_names_and_seqs, expected_len, num_allowed_fw_mismatches, num_allowed_rv_mismatches):\n",
    "        self._grna_names_and_seqs = grna_names_and_seqs\n",
    "        self._num_allowed_fw_mismatches = num_allowed_fw_mismatches\n",
    "        self._num_allowed_rv_mismatches = num_allowed_rv_mismatches\n",
    "        self._seq_len = expected_len\n",
    "\n",
    "    @property\n",
    "    def num_allowed_fw_mismatches(self):\n",
    "        return self._num_allowed_fw_mismatches\n",
    "\n",
    "    @property\n",
    "    def num_allowed_rv_mismatches(self):\n",
    "        return self._num_allowed_rv_mismatches\n",
    "\n",
    "    def find_fw_and_rv_read_matches(self, fw_whole_seq, rv_whole_seq):\n",
    "        fw_construct_window, rc_rv_construct_window = self._generate_seqs_to_check(fw_whole_seq, rv_whole_seq)\n",
    "        return self._id_pair_matches(fw_construct_window, rc_rv_construct_window)\n",
    "\n",
    "    def _id_pair_matches(self, input1_seq, input2_seq):\n",
    "        input2_match_name = None\n",
    "        input1_match_name = self._id_sequence_match(self.num_allowed_fw_mismatches, input1_seq)\n",
    "        if input1_match_name is not None:\n",
    "            input2_match_name = self._id_sequence_match(self.num_allowed_rv_mismatches, input2_seq)\n",
    "\n",
    "        return input1_match_name, input2_match_name\n",
    "\n",
    "    def _id_sequence_match(self, num_allowed_mismatches, input_seq):\n",
    "        found_name = None\n",
    "\n",
    "        # check for perfect matches\n",
    "        for potential_name, potential_reference in self._grna_names_and_seqs:\n",
    "            if input_seq == potential_reference:\n",
    "                found_name = potential_name\n",
    "                break\n",
    "\n",
    "        # if no perfect matches found, check for mismatches\n",
    "        if found_name is None:\n",
    "            min_found_mismatches = num_allowed_mismatches + 1  # nothing checked yet so num mismatches is maximum\n",
    "            found_name = None\n",
    "            for potential_name, potential_reference in self._grna_names_and_seqs:\n",
    "\n",
    "                # this way is not elegant, but it IS fast :) .... >3x faster than XOR approach\n",
    "                num_mismatches = 0\n",
    "                for x in range(0, self._seq_len):\n",
    "                    if input_seq[x] != potential_reference[x]:  # NB assumption that both are the same fixed length!\n",
    "                        num_mismatches += 1\n",
    "                        if num_mismatches > num_allowed_mismatches:\n",
    "                            break\n",
    "\n",
    "                if num_mismatches < min_found_mismatches:\n",
    "                    min_found_mismatches = num_mismatches\n",
    "                    if num_mismatches <= num_allowed_mismatches:\n",
    "                        found_name = potential_name\n",
    "\n",
    "        return found_name\n"
   ]
  },
  {
   "cell_type": "code",
   "execution_count": null,
   "metadata": {
    "collapsed": false
   },
   "outputs": [],
   "source": [
    "# %load /Users/Birmingham/Repositories/ccbb_tickets/20160210_mali_crispr/src/python/ccbbucsd/malicrispr/construct_counter.py\n",
    "\"\"\"This module counts almost-perfect matches of small sequences within forward and reverse fastq sequence pairs.\"\"\"\n",
    "\n",
    "# standard libraries\n",
    "import csv\n",
    "import datetime\n",
    "import logging\n",
    "\n",
    "# ccbb libraries\n",
    "from ccbbucsd.utilities.basic_fastq import FastqHandler, paired_fastq_generator\n",
    "\n",
    "# project-specific libraries\n",
    "from ccbbucsd.malicrispr.construct_file_extracter import get_construct_separator\n",
    "\n",
    "__author__ = \"Amanda Birmingham\"\n",
    "__maintainer__ = \"Amanda Birmingham\"\n",
    "__email__ = \"abirmingham@ucsd.edu\"\n",
    "__status__ = \"development\"\n",
    "\n",
    "\n",
    "def get_counts_file_suffix():\n",
    "    return \"counts.txt\"\n",
    "\n",
    "\n",
    "def get_counter_from_names(names_to_count):\n",
    "    return {x: 0 for x in names_to_count}\n",
    "\n",
    "\n",
    "def generate_construct_counts(grna_matcher, construct_names, output_fp, fw_fastq_fp, rv_fastq_fp):\n",
    "    counts_info_tuple = _match_and_count_constructs_from_files(grna_matcher, construct_names, fw_fastq_fp, rv_fastq_fp)\n",
    "    counts_by_construct = counts_info_tuple[0]\n",
    "    counts_by_type = counts_info_tuple[1]\n",
    "    _write_counts(counts_by_construct, counts_by_type, output_fp)\n",
    "\n",
    "\n",
    "def _match_and_count_constructs_from_files(grna_matcher, construct_names, fw_fastq_fp, rv_fastq_fp):\n",
    "    construct_counts = get_counter_from_names(construct_names)\n",
    "    fw_fastq_handler = FastqHandler(fw_fastq_fp)\n",
    "    rv_fastq_handler = FastqHandler(rv_fastq_fp)\n",
    "    return _match_and_count_constructs(grna_matcher, construct_counts, fw_fastq_handler, rv_fastq_handler)\n",
    "\n",
    "\n",
    "def _match_and_count_constructs(grna_matcher, construct_counts, fw_fastq_handler, rv_fastq_handler):\n",
    "    summary_counts = {\"num_pairs\": 0, \"num_pairs_unrecognized\": 0, \"num_constructs_found\": 0,\n",
    "                      \"num_constructs_unrecognized\": 0, \"num_constructs_recognized\": 0}\n",
    "\n",
    "    paired_fastq_seqs = paired_fastq_generator(fw_fastq_handler, rv_fastq_handler)\n",
    "    for curr_pair_seqs in paired_fastq_seqs:\n",
    "        summary_counts[\"num_pairs\"] += 1\n",
    "        _report_progress(summary_counts[\"num_pairs\"])\n",
    "\n",
    "        grna_name_A, grna_name_B = grna_matcher.find_fw_and_rv_read_matches(*curr_pair_seqs)\n",
    "        if grna_name_A is not None and grna_name_B is not None:\n",
    "            construct_name = _generate_construct_name(grna_name_A, grna_name_B)\n",
    "            summary_counts[\"num_constructs_found\"] += 1\n",
    "\n",
    "            if construct_name in construct_counts:\n",
    "                summary_counts[\"num_constructs_recognized\"] += 1\n",
    "                construct_counts[construct_name] += 1\n",
    "            else:\n",
    "                summary_counts[\"num_constructs_unrecognized\"] += 1\n",
    "                logging.debug(\"Unrecognized construct name: {0}\".format(construct_name))\n",
    "        else:\n",
    "            summary_counts[\"num_pairs_unrecognized\"] += 1\n",
    "            logging.debug(\"Unrecognized sequence: {0},{1}\".format(*curr_pair_seqs))\n",
    "\n",
    "    return construct_counts, summary_counts\n",
    "\n",
    "\n",
    "def _report_progress(num_fastq_pairs):\n",
    "    if num_fastq_pairs % 100000 == 0:\n",
    "        logging.info(\"On fastq pair number {0} at {1}\".format(num_fastq_pairs, datetime.datetime.now()))\n",
    "\n",
    "\n",
    "def _generate_construct_name(grna_name_A, grna_name_B):\n",
    "    return \"{0}{1}{2}\".format(grna_name_A, get_construct_separator(), grna_name_B)\n",
    "\n",
    "\n",
    "def _write_counts(counts_by_construct, counts_by_type, output_fp):\n",
    "    construct_names = list(counts_by_construct.keys())\n",
    "    construct_names.sort()\n",
    "\n",
    "    with open(output_fp, 'w') as file_handle:\n",
    "        summary_pieces = []\n",
    "        for curr_key, curr_value in counts_by_type.items():\n",
    "            summary_pieces.append(\"{0}:{1}\".format(curr_key, curr_value))\n",
    "        summary_comment = \",\".join(summary_pieces)\n",
    "        summary_comment = \"# \" + summary_comment\n",
    "        header = [\"construct_id\", \"counts\"]\n",
    "        writer = csv.writer(file_handle, delimiter=\"\\t\")\n",
    "\n",
    "        writer.writerow([summary_comment])\n",
    "        writer.writerow(header)\n",
    "        for curr_name in construct_names:\n",
    "            row = [curr_name, counts_by_construct[curr_name]]\n",
    "            writer.writerow(row)"
   ]
  },
  {
   "cell_type": "code",
   "execution_count": null,
   "metadata": {
    "collapsed": true
   },
   "outputs": [],
   "source": [
    "from ccbbucsd.utilities.files_and_paths import build_multipart_fp\n",
    "\n",
    "def count_constructs_for_one_fastq_pair(curr_base, run_prefix, seq_len, num_allowed_mismatches, constructs_fp, \n",
    "                                        col_indices, output_dir, fw_fastq_fp, rv_fastq_fp):\n",
    "    construct_names, grna_name_seq_pairs = extract_construct_and_grna_info(constructs_fp, col_indices)\n",
    "    trimmed_grna_name_seq_pairs = trim_grnas(grna_name_seq_pairs, seq_len)\n",
    "    # Note: currently same value (num_allowed_mismatches) is being used for number of mismatches allowed in forward\n",
    "    # read and number of mismatches allowed in reverse read, but this can be altered if desired\n",
    "    grna_matcher = GrnaPositionMatcher(trimmed_grna_name_seq_pairs, seq_len, num_allowed_mismatches, \n",
    "                                       num_allowed_mismatches)    \n",
    "    output_fp = build_multipart_fp(output_dir, [curr_base, run_prefix, get_counts_file_suffix()])\n",
    "    generate_construct_counts(grna_matcher, construct_names, output_fp, fw_fastq_fp, rv_fastq_fp)"
   ]
  },
  {
   "cell_type": "code",
   "execution_count": null,
   "metadata": {
    "collapsed": false
   },
   "outputs": [],
   "source": [
    "from ccbbucsd.utilities.parallel_process_fastqs import parallel_process_paired_reads, concatenate_parallel_results\n",
    "\n",
    "g_col_indices = [int(x.strip()) for x in g_col_indices_str.split(\",\")]\n",
    "g_parallel_results = parallel_process_paired_reads(g_filtered_fastqs_dir, get_filtered_file_suffix(), g_num_processors, \n",
    "                              count_constructs_for_one_fastq_pair, [g_fastq_counts_run_prefix, g_len_of_seq_to_match,\n",
    "                                                                    g_num_allowed_mismatches, g_constructs_fp, \n",
    "                                                                    g_col_indices, g_fastq_counts_dir], True)"
   ]
  },
  {
   "cell_type": "code",
   "execution_count": null,
   "metadata": {
    "collapsed": false
   },
   "outputs": [],
   "source": [
    "print(concatenate_parallel_results(g_parallel_results))"
   ]
  },
  {
   "cell_type": "code",
   "execution_count": null,
   "metadata": {
    "collapsed": true
   },
   "outputs": [],
   "source": []
  }
 ],
 "metadata": {
  "kernelspec": {
   "display_name": "Python 3",
   "language": "python",
   "name": "python3"
  },
  "language_info": {
   "codemirror_mode": {
    "name": "ipython",
    "version": 3
   },
   "file_extension": ".py",
   "mimetype": "text/x-python",
   "name": "python",
   "nbconvert_exporter": "python",
   "pygments_lexer": "ipython3",
   "version": "3.4.2"
  }
 },
 "nbformat": 4,
 "nbformat_minor": 0
}
