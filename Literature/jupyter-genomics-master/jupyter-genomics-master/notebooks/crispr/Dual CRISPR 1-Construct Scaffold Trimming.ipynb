{
 "cells": [
  {
   "cell_type": "markdown",
   "metadata": {},
   "source": [
    "# Dual CRISPR Screen Analysis\n",
    "# Construct Scaffold Trimming\n",
    "Amanda Birmingham, CCBB, UCSD (abirmingham@ucsd.edu)"
   ]
  },
  {
   "cell_type": "markdown",
   "metadata": {},
   "source": [
    "## Instructions\n",
    "\n",
    "To run this notebook reproducibly, follow these steps:\n",
    "1. Click **Kernel** > **Restart & Clear Output**\n",
    "2. When prompted, click the red **Restart & clear all outputs** button\n",
    "3. Fill in the values for your analysis for each of the variables in the [Input Parameters](#input-parameters) section\n",
    "4. Click **Cell** > **Run All**"
   ]
  },
  {
   "cell_type": "markdown",
   "metadata": {},
   "source": [
    "<a name = \"input-parameters\"></a>\n",
    "\n",
    "## Input Parameters"
   ]
  },
  {
   "cell_type": "code",
   "execution_count": null,
   "metadata": {
    "collapsed": true
   },
   "outputs": [],
   "source": [
    "g_num_processors = 3\n",
    "g_fastqs_dir = '/Users/Birmingham/Repositories/ccbb_tickets/20160210_mali_crispr/data/raw/20160504_D00611_0275_AHMM2JBCXX'\n",
    "g_trimmed_fastqs_dir = '/Users/Birmingham/Repositories/ccbb_tickets/20160210_mali_crispr/data/interim/20160504_D00611_0275_AHMM2JBCXX'\n",
    "g_full_5p_r1 = 'TATATATCTTGTGGAAAGGACGAAACACCG'\n",
    "g_full_5p_r2 = 'CCTTATTTTAACTTGCTATTTCTAGCTCTAAAAC'\n",
    "g_full_3p_r1 = 'GTTTCAGAGCTATGCTGGAAACTGCATAGCAAGTTGAAATAAGGCTAGTCCGTTATCAACTTGAAAAAGTGGCACCGAGTCGGTGCTTTTTTGTACTGAG'\n",
    "g_full_3p_r2 = 'CAAACAAGGCTTTTCTCCAAGGGATATTTATAGTCTCAAAACACACAATTACTTTACAGTTAGGGTGAGTTTCCTTTTGTGCTGTTTTTTAAAATA'\n",
    "g_code_location = '/Users/Birmingham/Repositories/ccbb_tickets/20160210_mali_crispr/src/python'"
   ]
  },
  {
   "cell_type": "markdown",
   "metadata": {},
   "source": [
    "## CCBB Library Imports"
   ]
  },
  {
   "cell_type": "code",
   "execution_count": null,
   "metadata": {
    "collapsed": true
   },
   "outputs": [],
   "source": [
    "import sys\n",
    "sys.path.append(g_code_location)"
   ]
  },
  {
   "cell_type": "markdown",
   "metadata": {},
   "source": [
    "## Automated Set-Up"
   ]
  },
  {
   "cell_type": "code",
   "execution_count": null,
   "metadata": {
    "collapsed": false
   },
   "outputs": [],
   "source": [
    "# %load -s describe_var_list /Users/Birmingham/Repositories/ccbb_tickets/20160210_mali_crispr/src/python/ccbbucsd/utilities/analysis_run_prefixes.py\n",
    "def describe_var_list(input_var_name_list):\n",
    "    description_list =  [\"{0}: {1}\\n\".format(name, eval(name)) for name in input_var_name_list]\n",
    "    return \"\".join(description_list)\n"
   ]
  },
  {
   "cell_type": "code",
   "execution_count": null,
   "metadata": {
    "collapsed": false
   },
   "outputs": [],
   "source": [
    "from ccbbucsd.utilities.analysis_run_prefixes import check_or_set, get_run_prefix, get_timestamp\n",
    "g_trimmed_fastqs_dir = check_or_set(g_trimmed_fastqs_dir, g_fastqs_dir)\n",
    "print(describe_var_list(['g_trimmed_fastqs_dir']))"
   ]
  },
  {
   "cell_type": "code",
   "execution_count": null,
   "metadata": {
    "collapsed": true
   },
   "outputs": [],
   "source": [
    "from ccbbucsd.utilities.files_and_paths import verify_or_make_dir\n",
    "verify_or_make_dir(g_trimmed_fastqs_dir)"
   ]
  },
  {
   "cell_type": "markdown",
   "metadata": {},
   "source": [
    "## Info Logging Pass-Through"
   ]
  },
  {
   "cell_type": "code",
   "execution_count": null,
   "metadata": {
    "collapsed": true
   },
   "outputs": [],
   "source": [
    "from ccbbucsd.utilities.notebook_logging import set_stdout_info_logger\n",
    "set_stdout_info_logger()"
   ]
  },
  {
   "cell_type": "markdown",
   "metadata": {},
   "source": [
    "## Scaffold Trimming Functions"
   ]
  },
  {
   "cell_type": "code",
   "execution_count": null,
   "metadata": {
    "collapsed": false
   },
   "outputs": [],
   "source": [
    "# %load /Users/Birmingham/Repositories/ccbb_tickets/20160210_mali_crispr/src/python/ccbbucsd/malicrispr/scaffold_trim.py\n",
    "# standard libraries\n",
    "import enum\n",
    "\n",
    "# third-party libraries\n",
    "import cutadapt.scripts.cutadapt\n",
    "\n",
    "# ccbb libraries\n",
    "from ccbbucsd.utilities.files_and_paths import get_file_name_pieces, make_file_path\n",
    "\n",
    "__author__ = 'Amanda Birmingham'\n",
    "__maintainer__ = \"Amanda Birmingham\"\n",
    "__email__ = \"abirmingham@ucsd.edu\"\n",
    "__status__ = \"prototype\"\n",
    "\n",
    "\n",
    "class TrimType(enum.Enum):\n",
    "    FIVE = \"5\"\n",
    "    THREE = \"3\"\n",
    "    FIVE_THREE = \"53\"\n",
    "\n",
    "\n",
    "def get_trimmed_suffix(trimtype):\n",
    "    return \"_trimmed{0}.fastq\".format(trimtype.value)\n",
    "\n",
    "\n",
    "def trim_linked_scaffold(output_dir, fastq_fp, scaffold_seq_5p, scaffold_seq_3p, quiet=True):\n",
    "    args = [\"-a\", \"{0}...{1}\".format(scaffold_seq_5p,scaffold_seq_3p)]\n",
    "    return _run_cutadapt(output_dir, fastq_fp, TrimType.FIVE_THREE, args, quiet)\n",
    "\n",
    "\n",
    "def trim_global_scaffold(output_dir, fastq_fp, scaffold_seq_5p=None, scaffold_seq_3p=None, quiet=True):\n",
    "    curr_fastq_fp = fastq_fp\n",
    "\n",
    "    if scaffold_seq_5p is not None:\n",
    "        curr_fastq_fp = _run_cutadapt_global(output_dir, curr_fastq_fp, scaffold_seq_5p, True, quiet)\n",
    "\n",
    "    if scaffold_seq_3p is not None:\n",
    "        curr_fastq_fp = _run_cutadapt_global(output_dir, curr_fastq_fp, scaffold_seq_3p, False, quiet)\n",
    "\n",
    "    return curr_fastq_fp\n",
    "\n",
    "\n",
    "def _run_cutadapt_global(output_dir, input_fastq_fp, seq_to_trim, is_5p, quiet):\n",
    "    end_switch = \"-g\"\n",
    "    end_name = TrimType.FIVE\n",
    "    if not is_5p:\n",
    "        end_switch = \"-a\"\n",
    "        end_name = TrimType.THREE\n",
    "\n",
    "    args = [end_switch, seq_to_trim]\n",
    "    return _run_cutadapt(output_dir, input_fastq_fp, end_name, args, quiet)\n",
    "\n",
    "\n",
    "def _run_cutadapt(output_dir, input_fastq_fp, trim_name, partial_args, quiet):\n",
    "    _, input_base, _ = get_file_name_pieces(input_fastq_fp)\n",
    "    output_fastq_fp = make_file_path(output_dir, input_base, get_trimmed_suffix(trim_name))\n",
    "    args = [x for x in partial_args]\n",
    "    if quiet:\n",
    "        args.append(\"--quiet\")\n",
    "    args.extend([\"-o\", output_fastq_fp, input_fastq_fp])\n",
    "    cutadapt.scripts.cutadapt.main(args)\n",
    "    return output_fastq_fp\n"
   ]
  },
  {
   "cell_type": "code",
   "execution_count": null,
   "metadata": {
    "collapsed": false
   },
   "outputs": [],
   "source": [
    "def trim_fw_and_rv_reads(output_dir, full_5p_r1, full_3p_r1, full_5p_r2, full_3p_r2, fw_fastq_fp, rv_fastq_fp):        \n",
    "    trim_linked_scaffold(output_dir, fw_fastq_fp, full_5p_r1, full_3p_r1)\n",
    "    trim_linked_scaffold(output_dir, rv_fastq_fp, full_5p_r2, full_3p_r2) "
   ]
  },
  {
   "cell_type": "markdown",
   "metadata": {},
   "source": [
    "## Gzipped FASTQ Filenames"
   ]
  },
  {
   "cell_type": "code",
   "execution_count": null,
   "metadata": {
    "collapsed": true
   },
   "outputs": [],
   "source": [
    "g_seq_file_ext_name = \".fastq\"\n",
    "g_gzip_ext_name = \".gz\""
   ]
  },
  {
   "cell_type": "code",
   "execution_count": null,
   "metadata": {
    "collapsed": false
   },
   "outputs": [],
   "source": [
    "from ccbbucsd.utilities.files_and_paths import summarize_filenames_for_prefix_and_suffix\n",
    "print(summarize_filenames_for_prefix_and_suffix(g_fastqs_dir, \"\", \n",
    "                                                \"{0}{1}\".format(g_seq_file_ext_name, g_gzip_ext_name), \n",
    "                                                all_subdirs=True))"
   ]
  },
  {
   "cell_type": "markdown",
   "metadata": {},
   "source": [
    "## FASTQ Gunzip Execution"
   ]
  },
  {
   "cell_type": "code",
   "execution_count": null,
   "metadata": {
    "collapsed": true
   },
   "outputs": [],
   "source": [
    "from ccbbucsd.utilities.files_and_paths import gunzip_wildpath, move_to_dir_and_flatten\n",
    "\n",
    "def unzip_and_flatten_seq_files(top_fastqs_dir, ext_name, gzip_ext_name, keep_gzs):\n",
    "    # first, recursively unzip all fastq.gz files anywhere under the input dir\n",
    "    gunzip_wildpath(top_fastqs_dir, ext_name + gzip_ext_name, keep_gzs, True)  # True = do recursive\n",
    "    # now move all fastqs to top-level directory so don't have to work recursively in future\n",
    "    move_to_dir_and_flatten(top_fastqs_dir, top_fastqs_dir, ext_name)"
   ]
  },
  {
   "cell_type": "code",
   "execution_count": null,
   "metadata": {
    "collapsed": false
   },
   "outputs": [],
   "source": [
    "# False = don't keep gzs as well as expanding, True = do keep them (True only works for gzip 1.6+)\n",
    "unzip_and_flatten_seq_files(g_fastqs_dir, g_seq_file_ext_name, g_gzip_ext_name, False)  "
   ]
  },
  {
   "cell_type": "markdown",
   "metadata": {},
   "source": [
    "## FASTQ Filenames"
   ]
  },
  {
   "cell_type": "code",
   "execution_count": null,
   "metadata": {
    "collapsed": false
   },
   "outputs": [],
   "source": [
    "print(summarize_filenames_for_prefix_and_suffix(g_fastqs_dir, \"\", g_seq_file_ext_name))"
   ]
  },
  {
   "cell_type": "markdown",
   "metadata": {},
   "source": [
    "## Scaffold Trim Execution"
   ]
  },
  {
   "cell_type": "code",
   "execution_count": null,
   "metadata": {
    "collapsed": false
   },
   "outputs": [],
   "source": [
    "from ccbbucsd.utilities.parallel_process_fastqs import parallel_process_paired_reads, concatenate_parallel_results\n",
    "g_parallel_results = parallel_process_paired_reads(g_fastqs_dir, g_seq_file_ext_name, g_num_processors, \n",
    "                                                   trim_fw_and_rv_reads, [g_trimmed_fastqs_dir, g_full_5p_r1, \n",
    "                                                                          g_full_3p_r1, g_full_5p_r2, g_full_3p_r2])"
   ]
  },
  {
   "cell_type": "code",
   "execution_count": null,
   "metadata": {
    "collapsed": false
   },
   "outputs": [],
   "source": [
    "print(concatenate_parallel_results(g_parallel_results))"
   ]
  },
  {
   "cell_type": "markdown",
   "metadata": {},
   "source": [
    "## Trimmed FASTQ Filenames"
   ]
  },
  {
   "cell_type": "code",
   "execution_count": null,
   "metadata": {
    "collapsed": false
   },
   "outputs": [],
   "source": [
    "print(summarize_filenames_for_prefix_and_suffix(g_trimmed_fastqs_dir, \"\", get_trimmed_suffix(TrimType.FIVE_THREE)))"
   ]
  }
 ],
 "metadata": {
  "kernelspec": {
   "display_name": "Python 3",
   "language": "python",
   "name": "python3"
  },
  "language_info": {
   "codemirror_mode": {
    "name": "ipython",
    "version": 3
   },
   "file_extension": ".py",
   "mimetype": "text/x-python",
   "name": "python",
   "nbconvert_exporter": "python",
   "pygments_lexer": "ipython3",
   "version": "3.4.2"
  }
 },
 "nbformat": 4,
 "nbformat_minor": 0
}
