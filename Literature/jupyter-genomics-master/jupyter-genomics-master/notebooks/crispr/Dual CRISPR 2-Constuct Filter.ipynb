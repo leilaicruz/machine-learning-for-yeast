{
 "cells": [
  {
   "cell_type": "markdown",
   "metadata": {},
   "source": [
    "# Dual CRISPR Screen Analysis\n",
    "# Construct Filter\n",
    "Amanda Birmingham, CCBB, UCSD (abirmingham@ucsd.edu)"
   ]
  },
  {
   "cell_type": "markdown",
   "metadata": {},
   "source": [
    "## Instructions\n",
    "\n",
    "To run this notebook reproducibly, follow these steps:\n",
    "1. Click **Kernel** > **Restart & Clear Output**\n",
    "2. When prompted, click the red **Restart & clear all outputs** button\n",
    "3. Fill in the values for your analysis for each of the variables in the [Input Parameters](#input-parameters) section\n",
    "4. Click **Cell** > **Run All**"
   ]
  },
  {
   "cell_type": "markdown",
   "metadata": {},
   "source": [
    "<a name = \"input-parameters\"></a>\n",
    "\n",
    "## Input Parameters"
   ]
  },
  {
   "cell_type": "code",
   "execution_count": null,
   "metadata": {
    "collapsed": true
   },
   "outputs": [],
   "source": [
    "g_num_processors = 3\n",
    "g_trimmed_fastqs_dir = \"/Users/Birmingham/Repositories/ccbb_tickets/20160210_mali_crispr/data/processed/runTemp\"\n",
    "g_filtered_fastas_dir = \"\"\n",
    "g_min_trimmed_grna_len = 19\n",
    "g_max_trimmed_grna_len = 21\n",
    "g_len_of_seq_to_match = 19\n",
    "g_code_location = \"/Users/Birmingham/Repositories/ccbb_tickets/20160210_mali_crispr/src/python\""
   ]
  },
  {
   "cell_type": "markdown",
   "metadata": {},
   "source": [
    "## CCBB Library Imports"
   ]
  },
  {
   "cell_type": "code",
   "execution_count": null,
   "metadata": {
    "collapsed": true
   },
   "outputs": [],
   "source": [
    "import sys\n",
    "sys.path.append(g_code_location)"
   ]
  },
  {
   "cell_type": "markdown",
   "metadata": {},
   "source": [
    "## Automated Set-Up"
   ]
  },
  {
   "cell_type": "code",
   "execution_count": null,
   "metadata": {
    "collapsed": true
   },
   "outputs": [],
   "source": [
    "# %load -s describe_var_list /Users/Birmingham/Repositories/ccbb_tickets/20160210_mali_crispr/src/python/ccbbucsd/utilities/analysis_run_prefixes.py\n",
    "def describe_var_list(input_var_name_list):\n",
    "    description_list =  [\"{0}: {1}\\n\".format(name, eval(name)) for name in input_var_name_list]\n",
    "    return \"\".join(description_list)\n"
   ]
  },
  {
   "cell_type": "code",
   "execution_count": null,
   "metadata": {
    "collapsed": false
   },
   "outputs": [],
   "source": [
    "from ccbbucsd.utilities.analysis_run_prefixes import check_or_set, get_run_prefix, get_timestamp\n",
    "g_filtered_fastas_dir = check_or_set(g_filtered_fastas_dir, g_trimmed_fastqs_dir)\n",
    "print(describe_var_list(['g_filtered_fastas_dir']))"
   ]
  },
  {
   "cell_type": "code",
   "execution_count": null,
   "metadata": {
    "collapsed": true
   },
   "outputs": [],
   "source": [
    "from ccbbucsd.utilities.files_and_paths import verify_or_make_dir\n",
    "verify_or_make_dir(g_filtered_fastas_dir)"
   ]
  },
  {
   "cell_type": "markdown",
   "metadata": {},
   "source": [
    "## Info Logging Pass-Through"
   ]
  },
  {
   "cell_type": "code",
   "execution_count": null,
   "metadata": {
    "collapsed": true
   },
   "outputs": [],
   "source": [
    "from ccbbucsd.utilities.notebook_logging import set_stdout_info_logger\n",
    "set_stdout_info_logger()"
   ]
  },
  {
   "cell_type": "markdown",
   "metadata": {},
   "source": [
    "## Construct Filtering Functions"
   ]
  },
  {
   "cell_type": "code",
   "execution_count": null,
   "metadata": {
    "collapsed": true
   },
   "outputs": [],
   "source": [
    "import enum"
   ]
  },
  {
   "cell_type": "code",
   "execution_count": null,
   "metadata": {
    "collapsed": false
   },
   "outputs": [],
   "source": [
    "# %load -s TrimType,get_trimmed_suffix /Users/Birmingham/Repositories/ccbb_tickets/20160210_mali_crispr/src/python/ccbbucsd/malicrispr/scaffold_trim.py\n",
    "class TrimType(enum.Enum):\n",
    "    FIVE = \"5\"\n",
    "    THREE = \"3\"\n",
    "    FIVE_THREE = \"53\"\n",
    "\n",
    "def get_trimmed_suffix(trimtype):\n",
    "    return \"_trimmed{0}.fastq\".format(trimtype.value)\n"
   ]
  },
  {
   "cell_type": "code",
   "execution_count": null,
   "metadata": {
    "collapsed": false
   },
   "outputs": [],
   "source": [
    "# %load /Users/Birmingham/Repositories/ccbb_tickets/20160210_mali_crispr/src/python/ccbbucsd/malicrispr/count_filterer.py\n",
    "# standard libraries\n",
    "import logging\n",
    "\n",
    "# ccbb libraries\n",
    "from ccbbucsd.utilities.bio_seq_utilities import trim_seq\n",
    "from ccbbucsd.utilities.basic_fastq import FastqHandler, paired_fastq_generator\n",
    "from ccbbucsd.utilities.files_and_paths import transform_path\n",
    "\n",
    "__author__ = \"Amanda Birmingham\"\n",
    "__maintainer__ = \"Amanda Birmingham\"\n",
    "__email__ = \"abirmingham@ucsd.edu\"\n",
    "__status__ = \"development\"\n",
    "\n",
    "\n",
    "def get_filtered_file_suffix():\n",
    "    return \"_len_filtered.fastq\"\n",
    "\n",
    "\n",
    "def filter_pair_by_len(min_len, max_len, retain_len, output_dir, fw_fastq_fp, rv_fastq_fp):\n",
    "    fw_fastq_handler = FastqHandler(fw_fastq_fp)\n",
    "    rv_fastq_handler = FastqHandler(rv_fastq_fp)\n",
    "    fw_out_handle, rv_out_handle = _open_output_file_pair(fw_fastq_fp, rv_fastq_fp, output_dir)\n",
    "    counters = {\"num_pairs\": 0, \"num_pairs_passing\": 0}\n",
    "\n",
    "    filtered_fastq_records = _filtered_fastq_generator(fw_fastq_handler, rv_fastq_handler, min_len, max_len, retain_len,\n",
    "                                                       counters)\n",
    "    for fw_record, rv_record in filtered_fastq_records:\n",
    "        fw_out_handle.writelines(fw_record.lines)\n",
    "        rv_out_handle.writelines(rv_record.lines)\n",
    "\n",
    "    fw_out_handle.close()\n",
    "    rv_out_handle.close()\n",
    "    return _summarize_counts(counters)\n",
    "\n",
    "\n",
    "def _filtered_fastq_generator(fw_fastq_handler, rv_fastq_handler, min_len, max_len, retain_len, counters):\n",
    "    paired_fastq_records = paired_fastq_generator(fw_fastq_handler, rv_fastq_handler, True)\n",
    "    for curr_pair_fastq_records in paired_fastq_records:\n",
    "        counters[\"num_pairs\"] += 1\n",
    "        _report_progress(counters[\"num_pairs\"])\n",
    "\n",
    "        fw_record = curr_pair_fastq_records[0]\n",
    "        fw_passing_seq = _check_and_trim_seq(_get_upper_seq(fw_record), min_len, max_len, retain_len, False)\n",
    "        if fw_passing_seq is not None:\n",
    "            rv_record = curr_pair_fastq_records[1]\n",
    "            rv_passing_seq = _check_and_trim_seq(_get_upper_seq(rv_record), min_len, max_len, retain_len, True)\n",
    "            if rv_passing_seq is not None:\n",
    "                counters[\"num_pairs_passing\"] += 1\n",
    "                fw_record.sequence = fw_passing_seq\n",
    "                fw_record.quality = trim_seq(fw_record.quality, retain_len, False)\n",
    "                rv_record.sequence = rv_passing_seq\n",
    "                rv_record.quality = trim_seq(rv_record.quality, retain_len, True)\n",
    "                yield fw_record, rv_record\n",
    "\n",
    "\n",
    "def _open_output_file_pair(fw_fastq_fp, rv_fastq_fp, output_dir):\n",
    "    fw_fp = transform_path(fw_fastq_fp, output_dir, get_filtered_file_suffix())\n",
    "    rv_fp = transform_path(rv_fastq_fp, output_dir, get_filtered_file_suffix())\n",
    "    fw_handle = open(fw_fp, 'w')\n",
    "    rv_handle = open(rv_fp, 'w')\n",
    "    return fw_handle, rv_handle\n",
    "\n",
    "\n",
    "def _report_progress(num_fastq_pairs):\n",
    "    if num_fastq_pairs % 100000 == 0:\n",
    "        logging.debug(\"On fastq pair number {0}\".format(num_fastq_pairs))\n",
    "\n",
    "\n",
    "def _get_upper_seq(fastq_record):\n",
    "    return fastq_record.sequence.upper()\n",
    "\n",
    "\n",
    "def _check_and_trim_seq(input_seq, min_len, max_len, retain_len, retain_5p_end):\n",
    "    result = None\n",
    "    seq_len = len(input_seq)\n",
    "    if seq_len >= min_len and seq_len <= max_len:\n",
    "        result = trim_seq(input_seq, retain_len, retain_5p_end)\n",
    "    return result\n",
    "\n",
    "\n",
    "def _summarize_counts(counts_by_type):\n",
    "    summary_pieces = []\n",
    "    sorted_keys = sorted(counts_by_type.keys())  # sort to ensure deterministic output ordering\n",
    "    for curr_key in sorted_keys:\n",
    "        curr_value = counts_by_type[curr_key]\n",
    "        summary_pieces.append(\"{0}:{1}\".format(curr_key, curr_value))\n",
    "    result = \",\".join(summary_pieces)\n",
    "    return result\n"
   ]
  },
  {
   "cell_type": "code",
   "execution_count": null,
   "metadata": {
    "collapsed": false
   },
   "outputs": [],
   "source": [
    "from ccbbucsd.utilities.parallel_process_fastqs import parallel_process_paired_reads, concatenate_parallel_results\n",
    "\n",
    "g_parallel_results = parallel_process_paired_reads(g_trimmed_fastqs_dir, get_trimmed_suffix(TrimType.FIVE_THREE), \n",
    "                                                   g_num_processors, filter_pair_by_len, \n",
    "                                                   [g_min_trimmed_grna_len, g_max_trimmed_grna_len, \n",
    "                                                    g_len_of_seq_to_match, g_filtered_fastas_dir])"
   ]
  },
  {
   "cell_type": "code",
   "execution_count": null,
   "metadata": {
    "collapsed": false
   },
   "outputs": [],
   "source": [
    "print(concatenate_parallel_results(g_parallel_results))"
   ]
  }
 ],
 "metadata": {
  "kernelspec": {
   "display_name": "Python 3",
   "language": "python",
   "name": "python3"
  },
  "language_info": {
   "codemirror_mode": {
    "name": "ipython",
    "version": 3
   },
   "file_extension": ".py",
   "mimetype": "text/x-python",
   "name": "python",
   "nbconvert_exporter": "python",
   "pygments_lexer": "ipython3",
   "version": "3.4.2"
  }
 },
 "nbformat": 4,
 "nbformat_minor": 0
}
