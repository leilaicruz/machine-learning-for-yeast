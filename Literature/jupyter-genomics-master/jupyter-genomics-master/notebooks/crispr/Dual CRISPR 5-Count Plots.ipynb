{
 "cells": [
  {
   "cell_type": "markdown",
   "metadata": {},
   "source": [
    "# Dual CRISPR Screen Analysis\n",
    "# Count Plots\n",
    "Amanda Birmingham, CCBB, UCSD (abirmingham@ucsd.edu)"
   ]
  },
  {
   "cell_type": "markdown",
   "metadata": {},
   "source": [
    "## Instructions\n",
    "\n",
    "To run this notebook reproducibly, follow these steps:\n",
    "1. Click **Kernel** > **Restart & Clear Output**\n",
    "2. When prompted, click the red **Restart & clear all outputs** button\n",
    "3. Fill in the values for your analysis for each of the variables in the [Input Parameters](#input-parameters) section\n",
    "4. Click **Cell** > **Run All**"
   ]
  },
  {
   "cell_type": "markdown",
   "metadata": {},
   "source": [
    "<a name = \"input-parameters\"></a>\n",
    "\n",
    "## Input Parameters"
   ]
  },
  {
   "cell_type": "code",
   "execution_count": null,
   "metadata": {
    "collapsed": false
   },
   "outputs": [],
   "source": [
    "g_timestamp = \"\"\n",
    "g_dataset_name = \"20160510_A549\"\n",
    "g_count_alg_name = \"19mer_1mm_py\"\n",
    "g_fastq_counts_dir = '/Users/Birmingham/Repositories/ccbb_tickets/20160210_mali_crispr/data/interim/20160510_D00611_0278_BHK55CBCXX_A549'\n",
    "g_fastq_counts_run_prefix = \"19mer_1mm_py_20160615223822\"\n",
    "g_collapsed_counts_dir = \"/Users/Birmingham/Repositories/ccbb_tickets/20160210_mali_crispr/data/processed/20160510_A549\"\n",
    "g_collapsed_counts_run_prefix = \"20160510_A549_19mer_1mm_py_20160616101309\"\n",
    "g_combined_counts_dir = \"\"\n",
    "g_combined_counts_run_prefix = \"\"\n",
    "g_plots_dir = \"\"\n",
    "g_plots_run_prefix = \"\"\n",
    "g_code_location = \"/Users/Birmingham/Repositories/ccbb_tickets/20160210_mali_crispr/src/python\""
   ]
  },
  {
   "cell_type": "markdown",
   "metadata": {},
   "source": [
    "## Matplotlib Display"
   ]
  },
  {
   "cell_type": "code",
   "execution_count": null,
   "metadata": {
    "collapsed": true
   },
   "outputs": [],
   "source": [
    "%matplotlib inline"
   ]
  },
  {
   "cell_type": "markdown",
   "metadata": {},
   "source": [
    "## CCBB Library Imports"
   ]
  },
  {
   "cell_type": "code",
   "execution_count": null,
   "metadata": {
    "collapsed": false
   },
   "outputs": [],
   "source": [
    "import sys\n",
    "sys.path.append(g_code_location)"
   ]
  },
  {
   "cell_type": "markdown",
   "metadata": {},
   "source": [
    "## Automated Set-Up"
   ]
  },
  {
   "cell_type": "code",
   "execution_count": null,
   "metadata": {
    "collapsed": true
   },
   "outputs": [],
   "source": [
    "# %load -s describe_var_list /Users/Birmingham/Repositories/ccbb_tickets/20160210_mali_crispr/src/python/ccbbucsd/utilities/analysis_run_prefixes.py\n",
    "def describe_var_list(input_var_name_list):\n",
    "    description_list =  [\"{0}: {1}\\n\".format(name, eval(name)) for name in input_var_name_list]\n",
    "    return \"\".join(description_list)\n"
   ]
  },
  {
   "cell_type": "code",
   "execution_count": null,
   "metadata": {
    "collapsed": false
   },
   "outputs": [],
   "source": [
    "from ccbbucsd.utilities.analysis_run_prefixes import check_or_set, get_run_prefix, get_timestamp\n",
    "g_timestamp = check_or_set(g_timestamp, get_timestamp())\n",
    "g_collapsed_counts_dir = check_or_set(g_collapsed_counts_dir, g_fastq_counts_dir)\n",
    "g_collapsed_counts_run_prefix = check_or_set(g_collapsed_counts_run_prefix, g_fastq_counts_run_prefix)\n",
    "g_combined_counts_dir = check_or_set(g_combined_counts_dir, g_collapsed_counts_dir)\n",
    "g_combined_counts_run_prefix = check_or_set(g_combined_counts_run_prefix, g_collapsed_counts_run_prefix)\n",
    "g_plots_dir = check_or_set(g_plots_dir, g_combined_counts_dir)\n",
    "g_plots_run_prefix = check_or_set(g_plots_run_prefix,\n",
    "                                  get_run_prefix(g_dataset_name, g_count_alg_name, g_timestamp))\n",
    "print(describe_var_list(['g_timestamp','g_collapsed_counts_dir', 'g_collapsed_counts_run_prefix', \n",
    "                         'g_combined_counts_dir', 'g_combined_counts_run_prefix', 'g_plots_dir', \n",
    "                         'g_plots_run_prefix']))"
   ]
  },
  {
   "cell_type": "code",
   "execution_count": null,
   "metadata": {
    "collapsed": true
   },
   "outputs": [],
   "source": [
    "from ccbbucsd.utilities.files_and_paths import verify_or_make_dir\n",
    "verify_or_make_dir(g_collapsed_counts_dir)\n",
    "verify_or_make_dir(g_combined_counts_dir)\n",
    "verify_or_make_dir(g_plots_dir)"
   ]
  },
  {
   "cell_type": "markdown",
   "metadata": {},
   "source": [
    "## Count File Suffixes"
   ]
  },
  {
   "cell_type": "code",
   "execution_count": null,
   "metadata": {
    "collapsed": false
   },
   "outputs": [],
   "source": [
    "# %load -s get_counts_file_suffix /Users/Birmingham/Repositories/ccbb_tickets/20160210_mali_crispr/src/python/ccbbucsd/malicrispr/construct_counter.py\n",
    "def get_counts_file_suffix():\n",
    "    return \"counts.txt\"\n"
   ]
  },
  {
   "cell_type": "code",
   "execution_count": null,
   "metadata": {
    "collapsed": false
   },
   "outputs": [],
   "source": [
    "# %load -s get_collapsed_counts_file_suffix,get_combined_counts_file_suffix /Users/Birmingham/Repositories/ccbb_tickets/20160210_mali_crispr/src/python/ccbbucsd/malicrispr/count_combination.py\n",
    "def get_collapsed_counts_file_suffix():\n",
    "    return \"collapsed.txt\"\n",
    "\n",
    "def get_combined_counts_file_suffix():\n",
    "    return \"counts_combined.txt\"\n"
   ]
  },
  {
   "cell_type": "markdown",
   "metadata": {},
   "source": [
    "## Count Plots Functions"
   ]
  },
  {
   "cell_type": "code",
   "execution_count": null,
   "metadata": {
    "collapsed": false
   },
   "outputs": [],
   "source": [
    "# %load /Users/Birmingham/Repositories/ccbb_tickets/20160210_mali_crispr/src/python/ccbbucsd/malicrispr/count_plots.py\n",
    "# third-party libraries\n",
    "import matplotlib.pyplot\n",
    "import numpy\n",
    "import pandas\n",
    "\n",
    "# ccbb libraries\n",
    "from ccbbucsd.utilities.analysis_run_prefixes import strip_run_prefix\n",
    "from ccbbucsd.utilities.files_and_paths import build_multipart_fp, get_file_name_pieces, get_filepaths_by_prefix_and_suffix\n",
    "\n",
    "# project-specific libraries\n",
    "from ccbbucsd.malicrispr.count_files_and_dataframes import get_counts_df\n",
    "\n",
    "__author__ = \"Amanda Birmingham\"\n",
    "__maintainer__ = \"Amanda Birmingham\"\n",
    "__email__ = \"abirmingham@ucsd.edu\"\n",
    "__status__ = \"prototype\"\n",
    "\n",
    "DEFAULT_PSEUDOCOUNT = 1\n",
    "\n",
    "\n",
    "def get_boxplot_suffix():\n",
    "    return \"boxplots.png\"\n",
    "\n",
    "\n",
    "def make_log2_series(input_series, pseudocount_val):\n",
    "    revised_series = input_series + pseudocount_val\n",
    "    log2_series = revised_series.apply(numpy.log2)\n",
    "    nan_log2_series = log2_series.replace([numpy.inf, -numpy.inf], numpy.nan)\n",
    "    return nan_log2_series.dropna().reset_index(drop=True)\n",
    "    # note that .reset_index(drop=True) is necessary as matplotlib boxplot function (perhaps among others)\n",
    "    # throws an error if the input series doesn't include an item with index 0--which can be the case if\n",
    "    # that first item was NaN and was dropped, and series wasn't reindexed.\n",
    "    \n",
    "\n",
    "def show_and_save_histogram(output_fp, title, count_data):\n",
    "    matplotlib.pyplot.figure(figsize=(20,20))\n",
    "    matplotlib.pyplot.hist(count_data)\n",
    "    matplotlib.pyplot.title(title)\n",
    "    matplotlib.pyplot.xlabel(\"log2(raw counts)\")\n",
    "    matplotlib.pyplot.ylabel(\"Frequency\")\n",
    "    matplotlib.pyplot.savefig(output_fp)\n",
    "    matplotlib.pyplot.show()\n",
    "\n",
    "\n",
    "def show_and_save_boxplot(output_fp, title, samples_names, samples_data, rotation_val=0):\n",
    "    fig = matplotlib.pyplot.figure(1, figsize=(20,20))\n",
    "    ax = fig.add_subplot(111)\n",
    "    bp = ax.boxplot(samples_data)\n",
    "    ax.set_xticklabels(samples_names, rotation=rotation_val)   \n",
    "    ax.set_xlabel(\"samples\")\n",
    "    ax.set_ylabel(\"log2(raw counts)\")\n",
    "\n",
    "    matplotlib.pyplot.title(title)\n",
    "    fig.savefig(output_fp, bbox_inches='tight')\n",
    "    matplotlib.pyplot.show()\n",
    "\n",
    "\n",
    "def plot_raw_counts(input_dir, input_run_prefix, counts_suffix, output_dir, output_run_prefix, boxplot_suffix):\n",
    "    counts_fps_for_run = get_filepaths_by_prefix_and_suffix(input_dir, input_run_prefix, counts_suffix)\n",
    "    \n",
    "    for curr_counts_fp in counts_fps_for_run:\n",
    "        _, curr_sample, _ = get_file_name_pieces(curr_counts_fp)\n",
    "        stripped_sample = strip_run_prefix(curr_sample, input_run_prefix)\n",
    "        count_header, curr_counts_df = get_counts_df(curr_counts_fp, input_run_prefix)\n",
    "        curr_counts_df.rename(columns={count_header:stripped_sample}, inplace=True)\n",
    "        count_header = stripped_sample\n",
    "        log2_series = make_log2_series(curr_counts_df[count_header], DEFAULT_PSEUDOCOUNT)\n",
    "        \n",
    "        title = \" \".join([input_run_prefix, count_header, \"with pseudocount\", str(DEFAULT_PSEUDOCOUNT)])\n",
    "        output_fp_prefix = build_multipart_fp(output_dir, [count_header, input_run_prefix])\n",
    "        \n",
    "        boxplot_fp = output_fp_prefix + \"_\" + boxplot_suffix\n",
    "        show_and_save_boxplot(boxplot_fp, title, [count_header], log2_series)\n",
    "        \n",
    "        hist_fp = output_fp_prefix + \"_\" + \"hist.png\"\n",
    "        show_and_save_histogram(hist_fp, title, log2_series)\n",
    "        \n",
    "        \n",
    "def plot_combined_raw_counts(input_dir, input_run_prefix, combined_suffix, output_dir, output_run_prefix, boxplot_suffix):\n",
    "    output_fp = build_multipart_fp(output_dir, [output_run_prefix, boxplot_suffix])\n",
    "    combined_counts_fp = build_multipart_fp(input_dir, [input_run_prefix, combined_suffix])\n",
    "    combined_counts_df = pandas.read_table(combined_counts_fp)\n",
    "    samples_names = combined_counts_df.columns.values[1:]  # TODO: remove hardcode\n",
    "    samples_data = []\n",
    "    for curr_name in samples_names:\n",
    "        log2_series = make_log2_series(combined_counts_df[curr_name], DEFAULT_PSEUDOCOUNT)\n",
    "        samples_data.append(log2_series.tolist())\n",
    "        \n",
    "    title = \" \".join([input_run_prefix, \"all samples\", \"with pseudocount\", str(DEFAULT_PSEUDOCOUNT)])\n",
    "    show_and_save_boxplot(output_fp, title, samples_names, samples_data, 90)\n"
   ]
  },
  {
   "cell_type": "markdown",
   "metadata": {},
   "source": [
    "## Individual fastq Plots"
   ]
  },
  {
   "cell_type": "code",
   "execution_count": null,
   "metadata": {
    "collapsed": true
   },
   "outputs": [],
   "source": [
    "from ccbbucsd.utilities.files_and_paths import summarize_filenames_for_prefix_and_suffix"
   ]
  },
  {
   "cell_type": "code",
   "execution_count": null,
   "metadata": {
    "collapsed": false
   },
   "outputs": [],
   "source": [
    "print(summarize_filenames_for_prefix_and_suffix(g_fastq_counts_dir, g_fastq_counts_run_prefix, get_counts_file_suffix()))"
   ]
  },
  {
   "cell_type": "code",
   "execution_count": null,
   "metadata": {
    "collapsed": false
   },
   "outputs": [],
   "source": [
    "# this call makes one boxplot per raw fastq  \n",
    "plot_raw_counts(g_fastq_counts_dir, g_fastq_counts_run_prefix, get_counts_file_suffix(), g_plots_dir, \n",
    "                g_plots_run_prefix, get_boxplot_suffix())"
   ]
  },
  {
   "cell_type": "markdown",
   "metadata": {},
   "source": [
    "## Individual Sample Plots"
   ]
  },
  {
   "cell_type": "code",
   "execution_count": null,
   "metadata": {
    "collapsed": false
   },
   "outputs": [],
   "source": [
    "print(summarize_filenames_for_prefix_and_suffix(g_collapsed_counts_dir, g_collapsed_counts_run_prefix, \n",
    "                                        get_collapsed_counts_file_suffix()))"
   ]
  },
  {
   "cell_type": "code",
   "execution_count": null,
   "metadata": {
    "collapsed": false
   },
   "outputs": [],
   "source": [
    "plot_raw_counts(g_collapsed_counts_dir, g_collapsed_counts_run_prefix, get_collapsed_counts_file_suffix(), \n",
    "                g_plots_dir, g_plots_run_prefix, get_boxplot_suffix())"
   ]
  },
  {
   "cell_type": "markdown",
   "metadata": {
    "collapsed": false
   },
   "source": [
    "## Combined Samples Plots"
   ]
  },
  {
   "cell_type": "code",
   "execution_count": null,
   "metadata": {
    "collapsed": false
   },
   "outputs": [],
   "source": [
    "print(summarize_filenames_for_prefix_and_suffix(g_combined_counts_dir, g_combined_counts_run_prefix, \n",
    "                                        get_combined_counts_file_suffix()))"
   ]
  },
  {
   "cell_type": "code",
   "execution_count": null,
   "metadata": {
    "collapsed": false
   },
   "outputs": [],
   "source": [
    "plot_combined_raw_counts(g_combined_counts_dir, g_combined_counts_run_prefix, get_combined_counts_file_suffix(), \n",
    "                         g_plots_dir, g_plots_run_prefix, get_boxplot_suffix())"
   ]
  }
 ],
 "metadata": {
  "kernelspec": {
   "display_name": "Python 3",
   "language": "python",
   "name": "python3"
  },
  "language_info": {
   "codemirror_mode": {
    "name": "ipython",
    "version": 3
   },
   "file_extension": ".py",
   "mimetype": "text/x-python",
   "name": "python",
   "nbconvert_exporter": "python",
   "pygments_lexer": "ipython3",
   "version": "3.4.2"
  }
 },
 "nbformat": 4,
 "nbformat_minor": 0
}
