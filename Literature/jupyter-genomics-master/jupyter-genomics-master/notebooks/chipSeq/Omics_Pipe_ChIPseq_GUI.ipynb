{
 "cells": [
  {
   "cell_type": "markdown",
   "metadata": {},
   "source": [
    "# Omics Pipe GUI -- ChIPseq Homer Pipeline"
   ]
  },
  {
   "cell_type": "markdown",
   "metadata": {},
   "source": [
    "#### Author: K. Fisch\n",
    "#### Email: Kfisch@ucsd.edu\n",
    "#### Date: June 2016"
   ]
  },
  {
   "cell_type": "markdown",
   "metadata": {},
   "source": [
    "#### Note: Before editing this notebook, please make a copy (File --> Make a copy)."
   ]
  },
  {
   "cell_type": "markdown",
   "metadata": {
    "collapsed": true
   },
   "source": [
    "## Table of Contents\n",
    "\n",
    "<a id = \"toc\"></a>\n",
    "1. <a href = \"#intro\">Introduction</a>\n",
    "    * <a href = \"#config\">Configuration</a>\n",
    "    * <a href = \"#params\">Parameters</a>\n",
    "    * <a href = \"#input\">User Input Required </a>\n",
    "2. <a href = \"#pipeline\">ChIPseq Homer Pipeline</a>\n",
    "3. <a href = \"#results\">ChIPseq QC Results</a>\n",
    "    * <a href = \"#qc\">Raw Data Quality Control (FastQC)</a>\n",
    "    * <a href = \"#alignment\">Alignment QC (Bowtie)</a>\n",
    "    * <a href = \"#clonal\">Clonal Tag Distribution</a>\n",
    "    * <a href = \"#autocorr\">Autocorrelation Analysis</a>\n",
    "4. <a href = \"#homer\">Homer Results</a>\n",
    "\t* <a href = \"#peaks\">Peak Summary</a>\n",
    "\t* <a href = \"#annot\">Annotation Summary</a>\n",
    "\t* <a href = \"#kegg\">KEGG enrichment</a>\n",
    "\t* <a href = \"#motif\">Motif Analysis</a>\n",
    "\t* <a href = \"#promoters\">Peaks in Promoters</a>\n",
    "\t* <a href = \"#genes\">Peaks Annotated to Genes of Interest</a>\n",
    "\t* <a href = \"#venn1\">Venn Analysis for Comparison of Peaks Annotated to Genes</a>\n",
    "    * <a href = \"#browse\">View Peak Pileups in UCSC Genome Browser</a>"
   ]
  },
  {
   "cell_type": "markdown",
   "metadata": {},
   "source": [
    "<a id = \"intro\"></a>\n",
    "## Introduction\n",
    "\n",
    "Omics pipe is an open-source, modular computational platform that automates ‘best practice’ multi-omics data analysis pipelines.  \n",
    "This Jupyter notebook wraps the functionality of Omics Pipe into an easy-to-use interactive Jupyter notebook and parses\n",
    "the output for genomic interpretation. Read more about Omics Pipe at https://pythonhosted.org/omics_pipe/."
   ]
  },
  {
   "cell_type": "code",
   "execution_count": null,
   "metadata": {
    "code_folding": [
     0
    ],
    "collapsed": false
   },
   "outputs": [],
   "source": [
    "#Omics Pipe Overview\n",
    "from IPython.display import Image\n",
    "Image(filename='/data/chip/2606129465-omics_pipe_overview.png', width=500, height=100)"
   ]
  },
  {
   "cell_type": "markdown",
   "metadata": {
    "collapsed": true
   },
   "source": [
    "<a id = \"config\"></a>\n",
    "### Set up your Jupyter notebook to  import Python modules needed"
   ]
  },
  {
   "cell_type": "code",
   "execution_count": null,
   "metadata": {
    "code_folding": [
     0
    ],
    "collapsed": false,
    "run_control": {
     "marked": false
    }
   },
   "outputs": [],
   "source": [
    "#Import Omics pipe and module dependencies\n",
    "import yaml\n",
    "from omics_pipe.parameters.default_parameters import default_parameters \n",
    "from ruffus import *\n",
    "import sys \n",
    "import os\n",
    "import time\n",
    "import datetime \n",
    "import drmaa\n",
    "import csv\n",
    "from omics_pipe.utils import *\n",
    "from IPython.display import IFrame\n",
    "import pandas\n",
    "import glob\n",
    "import os\n",
    "import matplotlib.pyplot as plt\n",
    "from matplotlib_venn import venn2,venn3, venn3_circles\n",
    "%matplotlib inline\n",
    "#%matplotlib notebook\n",
    "import qgrid\n",
    "qgrid.nbinstall(overwrite=True)\n",
    "qgrid.set_defaults(remote_js=True, precision=4)\n",
    "from IPython.display import HTML\n",
    "import mygene\n",
    "#Download scripts from https://github.com/gdavidson/ChIPseq_tools\n",
    "sys.path.append('/data/chip/ChIPseq_tools-master') #append path to downloaded scripts\n",
    "import compareGeneLists as compare\n",
    "\n",
    "now = datetime.datetime.now()\n",
    "date = now.strftime(\"%Y-%m-%d %H:%M\")"
   ]
  },
  {
   "cell_type": "code",
   "execution_count": null,
   "metadata": {
    "code_folding": [
     0
    ],
    "collapsed": false
   },
   "outputs": [],
   "source": [
    "#Change top directory to locate result files\n",
    "os.chdir(\"/data/chip\")"
   ]
  },
  {
   "cell_type": "markdown",
   "metadata": {},
   "source": [
    "<a id = \"params\"></a>\n",
    "### Customize input parameters for Omics Pipe\n",
    "\n",
    "Required: Sample names, condition for each sample\n",
    "\n",
    "Optional: genome build, gene annotation, output paths, tool parameters, etc. \n",
    "\n",
    "See full Omics Pipe documentation for a description of the configurable parameters. "
   ]
  },
  {
   "cell_type": "markdown",
   "metadata": {},
   "source": [
    "<a id = \"input\"></a>\n",
    "## ***User Input Required Here ***"
   ]
  },
  {
   "cell_type": "code",
   "execution_count": null,
   "metadata": {
    "code_folding": [
     0
    ],
    "collapsed": false
   },
   "outputs": [],
   "source": [
    "###Customize parameters: Specify sample names and conditions\n",
    "sample_names = [\"1_2percent_input_R1\",\n",
    "\"1_h3k4me3_R1\",\n",
    "\"1_h3k9ac_R1\",\n",
    "\"1_h3k9me3_R1\",\n",
    "\"2_2percent_input_R1\",\n",
    "\"2_h3k4me3_R1\",\n",
    "\"2_h3k9ac_R1\",\n",
    "\"2_h3k9me3_R1\",\n",
    "\"3_2percent_input_R1\",\n",
    "\"3_h3k4me3_R1\",\n",
    "\"3_h3k9ac_R1\",\n",
    "\"3_h3k9me3_R1\",\n",
    "\"4_2percent_input_R1\",\n",
    "\"4_h3k4me3_R1\",\n",
    "\"4_h3k9ac_R1\",\n",
    "\"4_h3k9me3_R1\",\n",
    "\"5_2percent_input_R1\",\n",
    "\"5_h3k4me3_R1\",\n",
    "\"5_h3k9ac_R1\",\n",
    "\"5_h3k9me3_R1\",\n",
    "\"6_2percent_input_R1\",\n",
    "\"6_h3k4me3_R1\",\n",
    "\"6_h3k9ac_R1\",\n",
    "\"6_h3k9me3_R1\"]\n",
    "condition = [\"Control\",\n",
    "\"H3K4me3\",\n",
    "\"H3K4ac\",\n",
    "\"H3K9me3\",\n",
    "\"Control\",\n",
    "\"H3K4me3\",\n",
    "\"H3K4ac\",\n",
    "\"H3K9me3\",\n",
    "\"Control\",\n",
    "\"H3K4me3\",\n",
    "\"H3K4ac\",\n",
    "\"H3K9me3\",\n",
    "\"Control\",\n",
    "\"H3K4me3\",\n",
    "\"H3K4ac\",\n",
    "\"H3K9me3\",\n",
    "\"Control\",\n",
    "\"H3K4me3\",\n",
    "\"H3K4ac\",\n",
    "\"H3K9me3\",\n",
    "\"Control\",\n",
    "\"H3K4me3\",\n",
    "\"H3K4ac\",\n",
    "\"H3K9me3\"\n",
    "            ]\n",
    "lib_type = [\"single_end\"]*len(condition)"
   ]
  },
  {
   "cell_type": "code",
   "execution_count": null,
   "metadata": {
    "code_folding": [
     0
    ],
    "collapsed": false
   },
   "outputs": [],
   "source": [
    "#Update Metadata File\n",
    "meta = {'Sample': pandas.Series(sample_names), 'condition': pandas.Series(condition) , 'libType': pandas.Series(lib_type)}\n",
    "meta_df = pandas.DataFrame(data = meta)\n",
    "deseq_meta_new = \"/data/chip/new_meta.csv\"\n",
    "meta_df.to_csv(deseq_meta_new,index=False)\n",
    "print meta_df"
   ]
  },
  {
   "cell_type": "code",
   "execution_count": null,
   "metadata": {
    "collapsed": true
   },
   "outputs": [],
   "source": [
    "#Define pairs for differential peak calling (ChIP-input or Treatment-Control)\n",
    "pairs = '1_h3k4me3_R1-1_2percent_input_R1 1_h3k9ac_R1-1_2percent_input_R1 1_h3k9me3_R1-1_2percent_input_R1 2_h3k4me3_R1-2_2percent_input_R1 2_h3k9ac_R1-2_2percent_input_R1 2_h3k9me3_R1-2_2percent_input_R1 3_h3k4me3_R1-3_2percent_input_R1 3_h3k9ac_R1-3_2percent_input_R1 3_h3k9me3_R1-3_2percent_input_R1 4_h3k4me3_R1-4_2percent_input_R1 4_h3k9ac_R1-4_2percent_input_R1 4_h3k9me3_R1-4_2percent_input_R1 5_h3k4me3_R1-5_2percent_input_R1 5_h3k9ac_R1-5_2percent_input_R1 5_h3k9me3_R1-5_2percent_input_R1 6_h3k4me3_R1-6_2percent_input_R1 6_h3k9ac_R1-6_2percent_input_R1 6_h3k9me3_R1-6_2percent_input_R1 6_2percent_input_R1-4_2percent_input_R1 6_h3k4me3_R1-4_h3k4me3_R1 6_h3k9ac_R1-4_h3k9ac_R1 6_h3k9me3_R1-4_h3k9me3_R1 5_2percent_input_R1-4_2percent_input_R1 5_h3k4me3_R1-4_h3k4me3_R1 5_h3k9ac_R1-4_h3k9ac_R1 5_h3k9me3_R1-4_h3k9me3_R1 6_2percent_input_R1-3_2percent_input_R1 6_h3k4me3_R1-3_h3k4me3_R1 6_h3k9ac_R1-3_h3k9ac_R1 6_h3k9me3_R1-3_h3k9me3_R1 5_2percent_input_R1-3_2percent_input_R1 5_h3k4me3_R1-3_h3k4me3_R1 5_h3k9ac_R1-3_h3k9ac_R1 5_h3k9me3_R1-3_h3k9me3_R1 1_2percent_input_R1-3_2percent_input_R1 1_h3k4me3_R1-3_h3k4me3_R1 1_h3k9ac_R1-3_h3k9ac_R1 1_h3k9me3_R1-3_h3k9me3_R1 2_2percent_input_R1-3_2percent_input_R1 2_h3k4me3_R1-3_h3k4me3_R1 2_h3k9ac_R1-3_h3k9ac_R1 2_h3k9me3_R1-3_h3k9me3_R1 1_2percent_input_R1-4_2percent_input_R1 1_h3k4me3_R1-4_h3k4me3_R1 1_h3k9ac_R1-4_h3k9ac_R1 1_h3k9me3_R1-4_h3k9me3_R1 2_2percent_input_R1-4_2percent_input_R1 2_h3k4me3_R1-4_h3k4me3_R1 2_h3k9ac_R1-4_h3k9ac_R1 2_h3k9me3_R1-4_h3k9me3_R1'"
   ]
  },
  {
   "cell_type": "code",
   "execution_count": null,
   "metadata": {
    "collapsed": true
   },
   "outputs": [],
   "source": [
    "#Define pairs of peaks to compare\n",
    "pairs_to_compare = ['5_h3k4me3_R1_vs_5_2percent_input_R1-3_h3k4me3_R1_vs_3_2percent_input_R1','5_h3k9ac_R1_vs_5_2percent_input_R1-3_h3k9ac_R1_vs_3_2percent_input_R1','5_h3k9me3_R1_vs_5_2percent_input_R1-3_h3k9me3_R1_vs_3_2percent_input_R1','5_h3k4me3_R1_vs_5_2percent_input_R1-4_h3k4me3_R1_vs_4_2percent_input_R1','5_h3k9ac_R1_vs_5_2percent_input_R1-4_h3k9ac_R1_vs_4_2percent_input_R1','5_h3k9me3_R1_vs_5_2percent_input_R1-4_h3k9me3_R1_vs_4_2percent_input_R1','6_h3k4me3_R1_vs_6_2percent_input_R1-3_h3k4me3_R1_vs_3_2percent_input_R1','6_h3k9ac_R1_vs_6_2percent_input_R1-3_h3k9ac_R1_vs_3_2percent_input_R1','6_h3k9me3_R1_vs_6_2percent_input_R1-3_h3k9me3_R1_vs_3_2percent_input_R1','6_h3k4me3_R1_vs_6_2percent_input_R1-4_h3k4me3_R1_vs_4_2percent_input_R1','6_h3k9ac_R1_vs_6_2percent_input_R1-4_h3k9ac_R1_vs_4_2percent_input_R1','6_h3k9me3_R1_vs_6_2percent_input_R1-4_h3k9me3_R1_vs_4_2percent_input_R1','1_h3k4me3_R1_vs_1_2percent_input_R1-3_h3k4me3_R1_vs_3_2percent_input_R1','1_h3k9ac_R1_vs_1_2percent_input_R1-3_h3k9ac_R1_vs_3_2percent_input_R1','1_h3k9me3_R1_vs_1_2percent_input_R1-3_h3k9me3_R1_vs_3_2percent_input_R1','2_h3k4me3_R1_vs_2_2percent_input_R1-4_h3k4me3_R1_vs_4_2percent_input_R1','2_h3k9ac_R1_vs_2_2percent_input_R1-4_h3k9ac_R1_vs_4_2percent_input_R1','2_h3k9me3_R1_vs_2_2percent_input_R1-4_h3k9me3_R1_vs_4_2percent_input_R1','1_h3k4me3_R1_vs_1_2percent_input_R1-3_h3k4me3_R1_vs_3_2percent_input_R1','1_h3k9ac_R1_vs_1_2percent_input_R1-3_h3k9ac_R1_vs_3_2percent_input_R1','1_h3k9me3_R1_vs_1_2percent_input_R1-3_h3k9me3_R1_vs_3_2percent_input_R1','2_h3k4me3_R1_vs_2_2percent_input_R1-4_h3k4me3_R1_vs_4_2percent_input_R1','2_h3k9ac_R1_vs_2_2percent_input_R1-4_h3k9ac_R1_vs_4_2percent_input_R1','2_h3k9me3_R1_vs_2_2percent_input_R1-4_h3k9me3_R1_vs_4_2percent_input_R1','6_h3k4me3_R1_vs_4_h3k4me3_R1-6_h3k9me3_R1_vs_4_h3k9me3_R1','5_h3k4me3_R1_vs_4_h3k4me3_R1-5_h3k9me3_R1_vs_4_h3k9me3_R1','6_h3k4me3_R1_vs_3_h3k4me3_R1-6_h3k9me3_R1_vs_3_h3k9me3_R1','5_h3k4me3_R1_vs_3_h3k4me3_R1-5_h3k9me3_R1_vs_3_h3k9me3_R1','6_h3k9ac_R1_vs_4_h3k9ac_R1-6_h3k9me3_R1_vs_4_h3k9me3_R1','5_h3k9ac_R1_vs_4_h3k9ac_R1-5_h3k9me3_R1_vs_4_h3k9me3_R1','6_h3k9ac_R1_vs_3_h3k9ac_R1-6_h3k9me3_R1_vs_3_h3k9me3_R1','5_h3k9ac_R1_vs_3_h3k9ac_R1-5_h3k9me3_R1_vs_3_h3k9me3_R1','6_h3k4me3_R1_vs_4_h3k4me3_R1-6_h3k9ac_R1_vs_4_h3k9ac_R1','5_h3k4me3_R1_vs_4_h3k4me3_R1-5_h3k9ac_R1_vs_4_h3k9ac_R1','6_h3k4me3_R1_vs_3_h3k4me3_R1-6_h3k9ac_R1_vs_3_h3k9ac_R1','5_h3k4me3_R1_vs_3_h3k4me3_R1-5_h3k9ac_R1_vs_3_h3k9ac_R1']"
   ]
  },
  {
   "cell_type": "code",
   "execution_count": null,
   "metadata": {
    "code_folding": [
     0
    ],
    "collapsed": false
   },
   "outputs": [],
   "source": [
    "###Update parameters, such as GENOME, GTF_FILE, paths, etc\n",
    "parameters = \"/root/src/omics-pipe/tests/test_params_ChIPseq_HOMER_AWS.yaml\"\n",
    "stream = file(parameters, 'r')\n",
    "params = yaml.load(stream)\n",
    "params.update({\"SAMPLE_LIST\": sample_names})\n",
    "params.update({\"PAIR_LIST\": pairs})\n",
    "params.update({\"R_VERSION\": '3.2.3'})\n",
    "params.update({\"GENOME\": '/database/Homo_sapiens/UCSC/hg19/Sequence/WholeGenomeFasta/genome.fa'})\n",
    "params.update({\"REF_GENES\": '/database/Homo_sapiens/UCSC/hg19/Annotation/Genes/genes.gtf'})\n",
    "params.update({\"RAW_DATA_DIR\": '/data/data'})\n",
    "params.update({\"TEMP_DIR\": '/data/data/tmp'})\n",
    "params.update({\"PIPE_MULTIPROCESS\": 100})\n",
    "params.update({\"STAR_VERSION\": '2.4.5a'})\n",
    "params.update({\"PARAMS_FILE\": '/data/results/updated_params.yaml'})\n",
    "params.update({\"LOG_PATH\": ':/data/results/logs'})\n",
    "params.update({\"QC_PATH\": \"/data/results/QC\"})\n",
    "params.update({\"FLAG_PATH\": \"/data/results/flags\"})\n",
    "params.update({\"BOWTIE_RESULTS\": \"/data/results/bowtie\"})\n",
    "params.update({\"HOMER_RESULTS\": \"/data/results/homer\"})\n",
    "params.update({\"BOWTIE_INDEX\": \"/data/database/Homo_sapiens/UCSC/hg19/Sequence/BowtieIndex/genome\"})\n",
    "params.update({\"ENDS\": 'SE'})\n",
    "params.update({\"HOMER_VERSION\": '4.6'})\n",
    "params.update({\"TRIMMED_DATA_PATH\": \"/data/results/trimmed\"})\n",
    "params.update({\"HOMER_TRIM_OPTIONS\": \"-3 GATCGGAAGAGCACACGTCT -mis 1 -minMatchLength 6 -min 45\"})\n",
    "params.update({\"HOMER_PEAKS_OPTIONS\": \"-o auto -region -size 1000 -minDist 2500\"})\n",
    "params.update({\"HOMER_MOTIFS_OPTIONS\": \"-start -1000 -end 100 -len 8,10 -p 4\"})\n",
    "params.update({\"HOMER_ANNOTATE_OPTIONS\":\"\"})\n",
    "params.update({\"HOMER_GENOME\": \"hg19\"})\n",
    "#update params\n",
    "default_parameters.update(params)\n",
    "\n",
    "#write yaml file\n",
    "stream = file('updated_params.yaml', 'w')\n",
    "yaml.dump(params,stream)\n",
    "p = Bunch(default_parameters)\n",
    "#View Parameters\n",
    "print \"Run Parameters: \\n\" + str(params)"
   ]
  },
  {
   "cell_type": "markdown",
   "metadata": {},
   "source": [
    "<a id = \"pipeline\"></a>\n",
    "## Omics Pipe ChIPseq HOMER Pipeline\n",
    "\n",
    "The following commands execute the Omics Pipe ChIPseq HOMER pipeline http://homer.salk.edu/homer/index.html"
   ]
  },
  {
   "cell_type": "code",
   "execution_count": null,
   "metadata": {
    "code_folding": [
     0
    ],
    "collapsed": false
   },
   "outputs": [],
   "source": [
    "### Omics Pipe Pipelines\n",
    "from IPython.display import Image\n",
    "Image(filename='/data/chip/2365251253-omics_pipe_pipelines_20140402.png', width=700, height=250)"
   ]
  },
  {
   "cell_type": "code",
   "execution_count": null,
   "metadata": {
    "collapsed": false
   },
   "outputs": [],
   "source": [
    "###Run Omics Pipe from the command line\n",
    "!omics_pipe ChIPseq_HOMER /data/chip/updated_params.yaml"
   ]
  },
  {
   "cell_type": "markdown",
   "metadata": {},
   "source": [
    "<a id = \"results\"></a>\n",
    "# ChIPseq Results\n",
    "\n",
    "Omics Pipe produces output files for each of the steps in the pipeline, as well as log files and run information (for reproducibility). \n",
    "Summarized output for each of the steps is displayed below for biological interpretation. "
   ]
  },
  {
   "cell_type": "code",
   "execution_count": null,
   "metadata": {
    "code_folding": [
     0
    ],
    "collapsed": false
   },
   "outputs": [],
   "source": [
    "#Change top directory to locate result files\n",
    "os.chdir(\"/data/chip\")"
   ]
  },
  {
   "cell_type": "code",
   "execution_count": null,
   "metadata": {
    "code_folding": [
     0
    ],
    "collapsed": false,
    "run_control": {
     "marked": false
    },
    "scrolled": true
   },
   "outputs": [],
   "source": [
    "#Display Omics Pipe Pipeline Run Status\n",
    "#pipeline = './flags/pipeline_combined_%s.pdf' % date\n",
    "pipeline = './flags/pipeline_combined_2016-05-16 17:41.pdf'\n",
    "IFrame(pipeline, width=700, height=500)"
   ]
  },
  {
   "cell_type": "markdown",
   "metadata": {},
   "source": [
    "<a id = \"qc\"></a>\n",
    "## Quality Control of Raw Data -- FastQC\n",
    "\n",
    "Quality control of the raw data (fastq files) was assessed using the tool FastQC (http://www.bioinformatics.babraham.ac.uk/projects/fastqc/). \n",
    "The results for all samples are summarized below, and samples are given a PASS/FAIL rating. "
   ]
  },
  {
   "cell_type": "code",
   "execution_count": null,
   "metadata": {
    "code_folding": [
     0
    ],
    "collapsed": false,
    "run_control": {
     "marked": false
    }
   },
   "outputs": [],
   "source": [
    "###Summarize FastQC raw data QC results per sample\n",
    "results_dir = './QC/'\n",
    "# Below is the complete list of labels in the summary file\n",
    "summary_labels = [\"Basic Statistics\", \"Per base sequence quality\", \"Per tile sequence quality\", \n",
    "                  \"Per sequence quality scores\", \"Per base sequence content\", \"Per sequence GC content\", \n",
    "                  \"Per base N content\", \"Sequence Length Distribution\", \"Sequence Duplication Levels\", \n",
    "                  \"Overrepresented sequences\", \"Adapter Content\", \"Kmer Content\"]\n",
    "\n",
    "# Below is the list I anticipate caring about; I leave the full list above in case it turns out later\n",
    "# I anticipated wrong and need to update this one.\n",
    "labels_of_interest = [\"Basic Statistics\", \"Per base sequence quality\"]\n",
    "\n",
    "# Look for each file named summary.txt in each subdirectory named *_fastqc in the results directory\n",
    "summary_wildpath = os.path.join(results_dir, '*/*_fastqc', \"summary.txt\")\n",
    "summary_filepaths = [x for x in glob.glob(summary_wildpath)]\n",
    "#print os.getcwd()\n",
    "# Examine each of these files to find lines starting with \"FAIL\" or \"WARN\"\n",
    "for curr_summary_path in summary_filepaths:\n",
    "    has_error = False\n",
    "    #print(divider)    \n",
    "    with open(curr_summary_path, 'r') as f:\n",
    "        for line in f:\n",
    "            if line.startswith(\"FAIL\") or line.startswith(\"WARN\"):\n",
    "                fields = line.split(\"\\t\")\n",
    "                if not has_error:\n",
    "                    print(fields[2].strip() + \": PASS\") # the file name\n",
    "                    has_error = True                    \n",
    "                if fields[1] in labels_of_interest:\n",
    "                    print(fields[0] + \"\\t\" + fields[1])"
   ]
  },
  {
   "cell_type": "code",
   "execution_count": null,
   "metadata": {
    "code_folding": [
     0
    ],
    "collapsed": false
   },
   "outputs": [],
   "source": [
    "#Display QC results for individual samples\n",
    "sample = \"6_h3k9me3_R1\"\n",
    "name = '/data/chip/QC/%s_fastqc/fastqc_report.html' % (sample)\n",
    "#name = './QC/%s/%s_fastqc/fastqc_report.html' % (sample,sample)\n",
    "IFrame(name, width=1000, height=600)"
   ]
  },
  {
   "cell_type": "markdown",
   "metadata": {},
   "source": [
    "<a id = \"alignment\"></a>\n",
    "## Alignment Summary Statistics -- Bowtie\n",
    "\n",
    "The samples were aligned to the genome with the Bowtie aligner (http://bowtie-bio.sourceforge.net/index.shtml). \n",
    "The alignment statistics for all samples are summarized and displayed below. Samples that do not pass the alignment quality filter \n",
    "(Good quality = # aligned reads > 10 million and % aligned > 60%) are excluded from downstream analyses. "
   ]
  },
  {
   "cell_type": "code",
   "execution_count": null,
   "metadata": {
    "collapsed": false,
    "scrolled": false
   },
   "outputs": [],
   "source": [
    "#Run samstat to produce summary statistics from Bowtie output\n",
    "!samstat ./bowtie/*/*.bam"
   ]
  },
  {
   "cell_type": "code",
   "execution_count": null,
   "metadata": {
    "code_folding": [
     0
    ],
    "collapsed": false,
    "scrolled": true
   },
   "outputs": [],
   "source": [
    "##Summarize Alignment QC Statistics\n",
    "import sys\n",
    "from io import StringIO\n",
    "align_dir = './bowtie/'\n",
    "# Look for each file named summary.txt in each subdirectory named *_fastqc in the results directory\n",
    "summary_wildpath = os.path.join(align_dir, '*/', \"*.bam.samstat.html\")\n",
    "#summary_wildpath = os.path.join(star_dir, \"*Log.final.out\")\n",
    "summary_filepaths = [x for x in glob.glob(summary_wildpath)]\n",
    "#print summary_filepaths\n",
    "\n",
    "alignment_stats = pandas.DataFrame()\n",
    "for curr_summary_path in summary_filepaths:    \n",
    "    #with open(curr_summary_path, 'r') as f:\n",
    "    filename = curr_summary_path.replace(\"./bowtie/\",\"\")\n",
    "    filename2 = filename.replace(\".bam.samstat.html\",\"\")\n",
    "    filename3 = filename2.replace(\"/*\",\"\")\n",
    "    dfs = pandas.read_html(curr_summary_path, header =0)\n",
    "    df = dfs[0]\n",
    "    raw_reads1 = df[\"Number\"]\n",
    "    raw_reads = raw_reads1[6]\n",
    "    aligned_reads1 = df[\"Number\"]\n",
    "    aligned_reads = aligned_reads1[0]\n",
    "    percent_aligned1 = df[\"Percentage\"]\n",
    "    percent_aligned = percent_aligned1[0]\n",
    "    d = {\"Sample\": pandas.Series(filename3), \"Raw_Reads\": pandas.Series(float(raw_reads)),\n",
    "         \"Aligned_Reads\": pandas.Series(float(aligned_reads)),\n",
    "         \"Percent_Uniquely_Aligned\": pandas.Series(percent_aligned)}\n",
    "    p = pandas.DataFrame(data=d)\n",
    "    alignment_stats = alignment_stats.append(p)\n",
    "#print alignment_stats\n",
    "alignment_stats.to_csv(\"alignment_stats_summary.csv\",index=False)\n",
    "#View interactive table \n",
    "qgrid.show_grid(alignment_stats, grid_options={'forceFitColumns': False, 'defaultColumnWidth': 200})"
   ]
  },
  {
   "cell_type": "code",
   "execution_count": null,
   "metadata": {
    "code_folding": [
     0
    ],
    "collapsed": false
   },
   "outputs": [],
   "source": [
    "#Barplot of number of aligned reads per sample\n",
    "plt.figure(figsize=(10,10))\n",
    "ax = plt.subplot(111)\n",
    "alignment_stats.plot(ax=ax, kind='barh', title='# of Reads')\n",
    "ax.axis(x='off')\n",
    "ax.axvline(x=10000000, linewidth=2, color='Red', zorder=0)\n",
    "#plt.xlabel('# Aligned Reads',fontsize=16)\n",
    "for i, x in enumerate(alignment_stats.Sample):\n",
    "    ax.text(0, i + 0, x, ha='right', va= \"bottom\", fontsize='medium')\n",
    "plt.savefig('./alignment_stats_%s' %date ,dpi=300)  # save figure"
   ]
  },
  {
   "cell_type": "code",
   "execution_count": null,
   "metadata": {
    "code_folding": [
     0
    ],
    "collapsed": false,
    "run_control": {
     "marked": false
    }
   },
   "outputs": [],
   "source": [
    "###Flag samples with poor alignment or low numbers of reads\n",
    "df = alignment_stats\n",
    "failed_samples = df.loc[(df.Aligned_Reads < 10000000) | (df.Percent_Uniquely_Aligned < 40), ['Sample','Raw_Reads', 'Aligned_Reads', 'Percent_Uniquely_Aligned']]\n",
    "print failed_samples\n",
    "#View interactive table \n",
    "#qgrid.show_grid(failed_samples, grid_options={'forceFitColumns': False, 'defaultColumnWidth': 200})"
   ]
  },
  {
   "cell_type": "code",
   "execution_count": null,
   "metadata": {
    "code_folding": [
     0
    ],
    "collapsed": false
   },
   "outputs": [],
   "source": [
    "#View Alignment Statistics for failed samples\n",
    "for failed in failed_samples[\"Sample\"]:\n",
    "    #fname = \"/data/results/star/%s/Log.final.out\" % failed\n",
    "    fname = \"./bowtie/%s.bam.samstat.html\" % failed\n",
    "    print fname\n",
    "    IFrame(fname, width=1000, height=600)"
   ]
  },
  {
   "cell_type": "code",
   "execution_count": null,
   "metadata": {
    "code_folding": [
     0
    ],
    "collapsed": false,
    "scrolled": true
   },
   "outputs": [],
   "source": [
    "###Samples that passed QC for alignment \n",
    "passed_samples = df.loc[(df.Aligned_Reads > 10000000) | (df.Percent_Uniquely_Aligned > 40), ['Sample','Raw_Reads', 'Aligned_Reads', 'Percent_Uniquely_Aligned']]\n",
    "\n",
    "print \"Number of samples that passed alignment QC = \" + str(len(passed_samples))\n",
    "#View interactive table \n",
    "#qgrid.show_grid(passed_samples, grid_options={'forceFitColumns': False, 'defaultColumnWidth': 200})"
   ]
  },
  {
   "cell_type": "code",
   "execution_count": null,
   "metadata": {
    "code_folding": [
     0
    ],
    "collapsed": false
   },
   "outputs": [],
   "source": [
    "#View Alignment Statistics for passed samples\n",
    "for passed in passed_samples[\"Sample\"]:\n",
    "    #fname = \"/data/results/star/%s/Log.final.out\" % passed\n",
    "    fname = \"./bowtie/%s.bam.samstat.html\" % passed\n",
    "    print passed\n",
    "    IFrame(fname, width=1000, height=600)"
   ]
  },
  {
   "cell_type": "markdown",
   "metadata": {},
   "source": [
    "<a id = \"clonal\"></a>\n",
    "## Clonal Tag Distribution\n",
    "tagCountDistribution.txt - File contains a histogram of clonal read depth, showing the number of reads per unique position.  If an experiment is \"over-sequenced\", you start seeing the same reads over and over instead of unique reads.  "
   ]
  },
  {
   "cell_type": "code",
   "execution_count": null,
   "metadata": {
    "code_folding": [],
    "collapsed": false
   },
   "outputs": [],
   "source": [
    "for sample in sample_names:\n",
    "    fi = \"./%s/tagCountDistribution.txt\" % sample\n",
    "    counts1 = pandas.read_csv(fi, sep=\"\\t\")\n",
    "    counts = counts1.head(10)\n",
    "    counts.set_index = 0\n",
    "    counts[[1]].plot.bar().set_title(sample)\n",
    "    plt.savefig('./clonal_distribution_plot_%s' %sample ,dpi=300)  # save figure"
   ]
  },
  {
   "cell_type": "markdown",
   "metadata": {},
   "source": [
    "<a id = \"autocorr\"></a>\n",
    "## Autocorrelation Analysis\n",
    "tagAutocorrelation.txt - The autocorrelation routine creates a distribution of distances between adjacent reads in the genome.  If reads are mapped to the same strand, they are added to the first column.  If adjacent reads map to different strands, they are added to the 2nd column.  The results from autocorrelation analysis are very useful for troubleshooting problems with the experiment, and are used to estimate the fragment length for ChIP-Seq and MNase-Seq."
   ]
  },
  {
   "cell_type": "code",
   "execution_count": null,
   "metadata": {
    "collapsed": false
   },
   "outputs": [],
   "source": [
    "for sample in sample_names:\n",
    "    fi = \"./%s/tagAutocorrelation.txt\" % sample\n",
    "    tags = pandas.read_csv(fi, sep=\"\\t\")\n",
    "    #Distance in bp(Fragment Length Estimate: 164)(Peak Width Estimate: 164)\tSame Strand (+ for Watson strand, - for Crick)\tOpposite Strand\n",
    "    tags.columns = ['Relative_Distance_Between_Reads(bp)', 'Same_Strand', 'Opposite_Strand']\n",
    "    ax1 = tags.plot(x='Relative_Distance_Between_Reads(bp)', y=['Same_Strand','Opposite_Strand'])\n",
    "    ax1.set_ylim(10000,250000)\n",
    "    ax1.set_xlim(-1000,1000)\n",
    "    ax1.set_title(sample)\n",
    "    plt.savefig('./autocorrelation_plot_%s' %sample ,dpi=300)  # save figure"
   ]
  },
  {
   "cell_type": "markdown",
   "metadata": {},
   "source": [
    "<a id = \"homer\"></a>\n",
    "# Homer Results\n",
    "\n",
    "HOMER (Hypergeometric Optimization of Motif EnRichment) is a suite of tools for Motif Discovery and next-gen sequencing analysis. It is a collection of command line programs for unix-style operating systems written in Perl and C++. HOMER was primarily written as a de novo motif discovery algorithm and is well suited for finding 8-20 bp motifs in large scale genomics data.  http://homer.salk.edu/homer/index.html\n"
   ]
  },
  {
   "cell_type": "markdown",
   "metadata": {},
   "source": [
    "<a id = \"peaks\"></a>\n",
    "## Peak Summary\n",
    "\n",
    "View top of peaks file for peak calling statistics"
   ]
  },
  {
   "cell_type": "code",
   "execution_count": null,
   "metadata": {
    "collapsed": false
   },
   "outputs": [],
   "source": [
    "pairs1 = pairs.replace(\" \", \",\")\n",
    "pairs2 = pairs1.replace(\"-\", \"_vs_\")\n",
    "pairs3 = pairs2.split(\",\")\n",
    "peak_stats = pandas.DataFrame()\n",
    "for pair in pairs3: \n",
    "    fname = \"./%s/regions.txt\" % pair\n",
    "    with open(fname, 'r') as fin:\n",
    "        head = [next(fin) for x in xrange(40)]\n",
    "        df = pandas.DataFrame(head)\n",
    "        df.columns=[\"col\"]\n",
    "        df['col'] = df['col'].str.replace('\\n','')\n",
    "        df = pandas.DataFrame(df.col.str.split('=',1).tolist(),columns = ['sample',pair])\n",
    "        df_items = df[['sample']]\n",
    "        df_values = df[[pair]]\n",
    "    peak_stats = pandas.concat([peak_stats, df_values],axis=1)\n",
    "    #print pair\n",
    "peak_stats = pandas.concat([df_items,peak_stats],axis=1)\n",
    "peak_stats =peak_stats.transpose()\n",
    "peak_stats =peak_stats.dropna(axis=1)\n",
    "peak_stats.columns = peak_stats.iloc[0]\n",
    "peak_stats = peak_stats[1:]\n",
    "peak_stats.to_csv(\"peak_stats_summary.csv\",index=False)\n",
    "\n",
    "#View interactive table \n",
    "qgrid.show_grid(peak_stats, grid_options={'forceFitColumns': False, 'defaultColumnWidth': 200})\n"
   ]
  },
  {
   "cell_type": "markdown",
   "metadata": {},
   "source": [
    "#### Number of Peaks Per Sample"
   ]
  },
  {
   "cell_type": "code",
   "execution_count": null,
   "metadata": {
    "code_folding": [],
    "collapsed": false
   },
   "outputs": [],
   "source": [
    "#Display peak summary graphs\n",
    "\n",
    "#Barplot of number of peaks per sample\n",
    "num_peaks = peak_stats.iloc[:,[1]]\n",
    "num_peaks.columns = [\"Number of Peaks\"]\n",
    "num_peaks =num_peaks.convert_objects(convert_numeric=True)\n",
    "num_peaks = num_peaks.sort_values([\"Number of Peaks\"],axis=0,ascending=False)\n",
    "\n",
    "num_peaks.plot.bar(figsize=(15, 5))\n",
    "plt.savefig('./peaks_summary.png' ,dpi=300)  # save figure\n",
    "\n"
   ]
  },
  {
   "cell_type": "markdown",
   "metadata": {},
   "source": [
    "#### IP Efficiency\n",
    "Approximate IP effeciency describes the fraction of tags found in peaks versus. genomic background.  This provides an estimate of how well the ChIP worked.  Certain antibodies like H3K4me3, ERa, or PU.1 will yield very high IP efficiencies (>20%), while most rand in the 1-20% range.  Once this number dips below 1% it's a good sign the ChIP didn't work very well and should probably be optimized. http://homer.salk.edu/homer/ngs/peaks.html"
   ]
  },
  {
   "cell_type": "code",
   "execution_count": null,
   "metadata": {
    "collapsed": false
   },
   "outputs": [],
   "source": [
    "#Display IP efficiency summary graphs, with horizontal line at y=1\n",
    "IP = peak_stats.iloc[:,[8]]\n",
    "IP.columns = [\"IP_Efficiency\"]\n",
    "IP['IP_Efficiency'] = IP['IP_Efficiency'].replace('%','',regex=True).astype('float')\n",
    "IP =IP.sort_values(['IP_Efficiency'],axis=0,ascending=False)\n",
    "IP.plot.bar(figsize=(15, 5))\n",
    "plt.axhline(y=1, color =  \"red\", linewidth = 2)\n",
    "plt.savefig('./ipefficiency_summary.png' ,dpi=300)  # save figure\n"
   ]
  },
  {
   "cell_type": "markdown",
   "metadata": {},
   "source": [
    "<a id = \"annot\"></a>\n",
    "## Annotation Summary\n",
    "\n",
    "Visualize pie chart/bar graph of annotated peaks"
   ]
  },
  {
   "cell_type": "markdown",
   "metadata": {},
   "source": [
    "#### Gene Type"
   ]
  },
  {
   "cell_type": "code",
   "execution_count": null,
   "metadata": {
    "collapsed": false,
    "run_control": {
     "marked": true
    }
   },
   "outputs": [],
   "source": [
    "#Summarize annotation stats\n",
    "annot_stats = pandas.DataFrame()\n",
    "for pair in pairs3: \n",
    "    fname = \"./%s/regions.annotate.txt\" % pair\n",
    "    fi = pandas.read_csv(fname, sep=\"\\t\")\n",
    "    fi.columns = [c.replace(' ', '_') for c in fi.columns]\n",
    "    fi.Gene_Type.value_counts().plot(kind=\"pie\",figsize=(6, 6))\n",
    "    plt.axis('equal')\n",
    "    plt.title(pair)\n",
    "    plt.savefig('./Peaks_Gene_Type_pie_%s.png' %pair ,dpi=300)  # save figure\n",
    "    plt.show()\n",
    "    #qgrid.show_grid(fi, grid_options={'forceFitColumns': False, 'defaultColumnWidth': 200})\n",
    "\n",
    "#View interactive table \n",
    "#qgrid.show_grid(peak_stats, grid_options={'forceFitColumns': False, 'defaultColumnWidth': 200})\n"
   ]
  },
  {
   "cell_type": "markdown",
   "metadata": {},
   "source": [
    "#### Annotation"
   ]
  },
  {
   "cell_type": "code",
   "execution_count": null,
   "metadata": {
    "collapsed": false
   },
   "outputs": [],
   "source": [
    "#Summarize annotation stats\n",
    "annot_stats = pandas.DataFrame()\n",
    "for pair in pairs3: \n",
    "    fname = \"./%s/regions.annotate.txt\" % pair\n",
    "    fi = pandas.read_csv(fname, sep=\"\\t\")\n",
    "    fi.columns = [c.replace(' ', '_') for c in fi.columns]\n",
    "    fi['Annotation'] = fi['Annotation'].replace('\\(.*?\\)','',regex=True)\n",
    "    fi['Annotation'] = fi['Annotation'].replace(' \\.*?','',regex=True) \n",
    "    fi['Annotation'] = fi['Annotation'].replace('\\..*$','',regex=True) \n",
    "\n",
    "    fi.Annotation.value_counts().plot(kind=\"pie\", figsize=(8, 8))\n",
    "    plt.axis('equal')\n",
    "    plt.title(pair)\n",
    "    plt.savefig('./Peaks_Gene_Type_pie_%s' %pair ,dpi=300)  # save figure\n",
    "    plt.show()\n",
    "    "
   ]
  },
  {
   "cell_type": "code",
   "execution_count": null,
   "metadata": {
    "collapsed": false
   },
   "outputs": [],
   "source": [
    "#Download scripts from https://github.com/gdavidson/ChIPseq_tools\n",
    "import sys\n",
    "sys.path.append('/data/chip/ChIPseq_tools-master') #append path to downloaded scripts\n",
    "import getFromAnnotations as gfa\n",
    "\n",
    "for pair in pairs3:\n",
    "    annotationList = gfa.getAnnotationList('%s/regions.annotate.txt' %pair)\n",
    "    #plot distances\n",
    "    try:\n",
    "        #pie chart \n",
    "        pieChartMap = gfa.getPieChartMap(annotationList)\n",
    "        gfa.pieChart(pieChartMap, pair)\n",
    "        plt.show()\n",
    "        plt.savefig('./Pie_Chart_with_numbers_%s' %pair ,dpi=300)  # save figure\n",
    " \n",
    "    except ValueError: \n",
    "        next"
   ]
  },
  {
   "cell_type": "code",
   "execution_count": null,
   "metadata": {
    "collapsed": true
   },
   "outputs": [],
   "source": [
    "#qgrid.show_grid(fi.sample(200), grid_options={'forceFitColumns': False, 'defaultColumnWidth': 200})"
   ]
  },
  {
   "cell_type": "markdown",
   "metadata": {},
   "source": [
    "<a id = \"kegg\"></a>\n",
    "## KEGG Enrichment for peaks\n",
    "\n",
    "Visualize KEGG gene set enrichment for peaks annotated to genes"
   ]
  },
  {
   "cell_type": "code",
   "execution_count": null,
   "metadata": {
    "collapsed": false
   },
   "outputs": [],
   "source": [
    "#Summarize annotation stats\n",
    "kegg_stats = pandas.DataFrame()\n",
    "for pair in pairs3: \n",
    "    fname = \"./%s_GO/kegg.txt\" % pair\n",
    "    fi = pandas.read_csv(fname, sep=\"\\t\")\n",
    "    fi.columns = [c.replace(' ', '_') for c in fi.columns]\n",
    "    fi = fi.loc[fi[\"Enrichment\"] < 0.05]\n",
    "    fi[\"comparison\"] = pair\n",
    "    kegg_stats = kegg_stats.append(fi)\n",
    "\n",
    "#write summary to file\n",
    "kegg_stats.to_csv(\"kegg_stats_summary.csv\",index=False)\n",
    "\n",
    "#View interactive table \n",
    "qgrid.show_grid(kegg_stats, grid_options={'forceFitColumns': False, 'defaultColumnWidth': 200})"
   ]
  },
  {
   "cell_type": "markdown",
   "metadata": {},
   "source": [
    "<a id = \"motif\"></a>\n",
    "## Motif Analysis\n",
    "\n",
    "View enriched motifs http://homer.salk.edu/homer/ngs/peakMotifs.html\n",
    "\n",
    "In general, when analyzing ChIP-Seq / ChIP-Chip peaks you should expect to see strong enrichment for a motif resembling the site recognized by the DNA binding domain of the factor you are studying.  Enrichment p-values reported by HOMER should be very very significant (i.e. << 1e-50).  If this is not the case, there is a strong possibility that the experiment may have failed in one way or another.  For example, the peaks could be of low quality because the factor is not expressed very high. \n"
   ]
  },
  {
   "cell_type": "code",
   "execution_count": null,
   "metadata": {
    "collapsed": false
   },
   "outputs": [],
   "source": [
    "#Summarize enriched motifs stats\n",
    "motif_stats = pandas.DataFrame()\n",
    "for pair in pairs3: \n",
    "    fname = \"./%s/MotifOutput/knownResults.txt\" % pair\n",
    "    fi = pandas.read_csv(fname, sep=\"\\t\")\n",
    "    fi.columns = [\"Motif_Name\", \"Consensus\", \"P-value\", \"Log_P-value\", \"q-value_Benjamini\", \"#TargetSequenceswithMotif\", \n",
    "                  \"%TargetSequenceswithMotif\",\"#BackgroundSequenceswithMotif\", \"%BackgroundSequenceswithMotif\",]\n",
    "    fi = fi.loc[fi[\"P-value\"] < 1e-50]\n",
    "    fi[\"comparison\"] = pair\n",
    "    motif_stats = motif_stats.append(fi)\n",
    "\n",
    "#write summary to file\n",
    "motif_stats.to_csv(\"motif_stats_summary.csv\",index=False)\n",
    "\n",
    "\n",
    "#View interactive table \n",
    "qgrid.show_grid(motif_stats, grid_options={'forceFitColumns': False, 'defaultColumnWidth': 200})"
   ]
  },
  {
   "cell_type": "markdown",
   "metadata": {},
   "source": [
    "<a id = \"promoters\"></a>\n",
    "## Peaks in Promoters\n",
    "\n",
    "Extract peaks in promoter regions"
   ]
  },
  {
   "cell_type": "code",
   "execution_count": null,
   "metadata": {
    "collapsed": false
   },
   "outputs": [],
   "source": [
    "#Summarize peaks in promoters\n",
    "promoter_stats = pandas.DataFrame()\n",
    "for pair in pairs3: \n",
    "    fname = \"./%s/regions.annotate.txt\" % pair\n",
    "    fi = pandas.read_csv(fname, sep=\"\\t\")\n",
    "    fi.columns = [c.replace(' ', '_') for c in fi.columns]\n",
    "    fi['Annotation'] = fi['Annotation'].replace('\\(.*?\\)','',regex=True)\n",
    "    fi['Annotation'] = fi['Annotation'].replace(' \\.*?','',regex=True) \n",
    "    fi['Annotation'] = fi['Annotation'].replace('\\..*$','',regex=True) \n",
    "    fi = fi.loc[fi[\"Annotation\"] == \"promoter-TSS\"]\n",
    "    fi[\"comparison\"] = pair\n",
    "    fi.Gene_Type.value_counts().plot(kind=\"bar\", figsize=(8, 8))\n",
    "    plt.title(\"Peaks in Promoters by Gene Type -\" + pair)\n",
    "    plt.show()\n",
    "    plt.xlabel('Gene Type', fontsize=12)\n",
    "    plt.ylabel('# of Peaks', fontsize=12)\n",
    "    plt.savefig('./Promoter_Peaks_Gene_Type_bar_%s' %pair ,dpi=300)  # save figure\n",
    "    promoter_stats = promoter_stats.append(fi)\n",
    "#write summary to file\n",
    "promoter_stats.to_csv(\"promoter_stats_summary.csv\",index=False)"
   ]
  },
  {
   "cell_type": "markdown",
   "metadata": {},
   "source": [
    "<a id = \"genes\"></a>\n",
    "## Peaks Annotated to Genes of Interest\n",
    "\n",
    "Extract peaks annotated to genes of interest"
   ]
  },
  {
   "cell_type": "code",
   "execution_count": null,
   "metadata": {
    "collapsed": false
   },
   "outputs": [],
   "source": [
    "genes_df = pandas.read_csv(\"./genes_of_interest_validated_junctions.csv\")\n",
    "gene_names = genes_df[\"gene\"]\n",
    "genes_stats = pandas.DataFrame()\n",
    "for pair in pairs3: \n",
    "    fname = \"./%s/regions.annotate.txt\" % pair\n",
    "    fi = pandas.read_csv(fname, sep=\"\\t\")\n",
    "    fi.columns = [c.replace(' ', '_') for c in fi.columns]\n",
    "    fi['Annotation'] = fi['Annotation'].replace('\\(.*?\\)','',regex=True)\n",
    "    fi['Annotation'] = fi['Annotation'].replace(' \\.*?','',regex=True) \n",
    "    fi['Annotation'] = fi['Annotation'].replace('\\..*$','',regex=True) \n",
    "    fi = fi.loc[fi[\"Gene_Name\"].isin(gene_names)]\n",
    "    fi[\"comparison\"] = pair\n",
    "    \n",
    "    if fi.Annotation.empty:\n",
    "        next\n",
    "    else: \n",
    "        fi.Annotation.value_counts().plot(kind=\"bar\", figsize=(8, 8))\n",
    "        plt.title(\"Peaks in Promoters by Annotation -\" + pair)\n",
    "        plt.show()\n",
    "        plt.xlabel('Annotation', fontsize=12)\n",
    "        plt.ylabel('# of Peaks', fontsize=12)\n",
    "        plt.savefig('./Genes_of_Interest_Peaks_Annotation_bar_%s' %pair ,dpi=300)  # save figure\n",
    "        genes_stats = genes_stats.append(fi)\n",
    "#write summary to file\n",
    "genes_stats.to_csv(\"genes_stats_summary.csv\",index=False)"
   ]
  },
  {
   "cell_type": "code",
   "execution_count": null,
   "metadata": {
    "collapsed": false
   },
   "outputs": [],
   "source": [
    "#Download scripts from https://github.com/gdavidson/ChIPseq_tools\n",
    "import sys\n",
    "sys.path.append('/data/chip/ChIPseq_tools-master') #append path to downloaded scripts\n",
    "import getFromAnnotations as gfa\n",
    "\n",
    "for pair in pairs3:\n",
    "    annotationList = gfa.getAnnotationList('%s/regions.annotate.txt' %pair)\n",
    "    #plot distances\n",
    "    try:\n",
    "        distanceList,countMap = gfa.getDistanceList(annotationList)\n",
    "        gfa.histDistances(distanceList, pair)\n",
    "        plt.show()\n",
    "        plt.savefig('./TSS_distance_%s' %pair ,dpi=300)  # save figure\n",
    "        gfa.plotDistances(countMap)\n",
    "        plt.show()\n",
    "        plt.savefig('./TSS_distance_bp_%s' %pair ,dpi=300)  # save figure \n",
    "    except ValueError: \n",
    "        next\n",
    "    "
   ]
  },
  {
   "cell_type": "code",
   "execution_count": null,
   "metadata": {
    "collapsed": false
   },
   "outputs": [],
   "source": [
    "genes_stats2 = genes_stats[['Gene_Name','comparison']]\n",
    "genes_stats2.Gene_Name.value_counts().plot(kind=\"bar\", figsize=(15, 8), stacked=True)\n",
    "plt.xlabel('Genes of Interest', fontsize=12)\n",
    "plt.ylabel('# of Peaks', fontsize=12)\n",
    "plt.savefig('./Genes_of_Interest_Peaks_all.png' ,dpi=300)  # save figure"
   ]
  },
  {
   "cell_type": "code",
   "execution_count": null,
   "metadata": {
    "collapsed": false
   },
   "outputs": [],
   "source": [
    "genes_stats2 = genes_stats[['Gene_Name','comparison']]\n",
    "genes_stats2.comparison.value_counts().plot(kind=\"barh\", figsize=(15, 8), stacked=True)\n",
    "plt.xlabel('# Peaks', fontsize=12)\n",
    "plt.ylabel('Comparison', fontsize=12)\n",
    "plt.savefig('./Genes_of_Interest_Comparison_Peaks_all.png' ,dpi=300)  # save figure"
   ]
  },
  {
   "cell_type": "code",
   "execution_count": null,
   "metadata": {
    "collapsed": false
   },
   "outputs": [],
   "source": [
    "sub_df = genes_stats2.groupby(['Gene_Name']).comparison.value_counts().unstack()\n",
    "sub_df.plot(kind='bar',stacked=True, figsize=(15, 8)).legend(loc='center left', bbox_to_anchor=(1.0, 0.5)  )\n",
    "plt.xlabel('Genes of Interest', fontsize=12)\n",
    "plt.ylabel('# of Peaks', fontsize=12)\n",
    "plt.savefig('./Genes_of_Interest_Peaks_by_comparison.png' ,dpi=300)  # save figure"
   ]
  },
  {
   "cell_type": "code",
   "execution_count": null,
   "metadata": {
    "collapsed": false,
    "run_control": {
     "marked": true
    },
    "scrolled": true
   },
   "outputs": [],
   "source": [
    "sub_df = genes_stats2.groupby(['comparison']).Gene_Name.value_counts().unstack()\n",
    "sub_df.plot(kind='barh',stacked=True, figsize=(15, 8)).legend(loc='center left', bbox_to_anchor=(1.0, 0.5)  )\n",
    "plt.xlabel('# Peaks', fontsize=12)\n",
    "plt.ylabel('Comparison', fontsize=12)\n",
    "plt.savefig('./Comparison_by_genes_of_interest.png' ,dpi=300)  # save figure"
   ]
  },
  {
   "cell_type": "markdown",
   "metadata": {},
   "source": [
    "<a id = \"venn2\"></a>\n",
    "## Venn Analysis for Comparison of Peaks"
   ]
  },
  {
   "cell_type": "code",
   "execution_count": null,
   "metadata": {
    "collapsed": false
   },
   "outputs": [],
   "source": [
    "for pairs in pairs_to_compare: \n",
    "    #print pairs\n",
    "    pairs_split = pairs.split(\"-\")\n",
    "    pair1 = pairs_split[0]\n",
    "    pair2= pairs_split[1]\n",
    "    peaks1 = pandas.read_csv('./%s/regions.annotate.txt' %pair1, sep=\"\\t\")\n",
    "    peaks2 = pandas.read_csv('./%s/regions.annotate.txt' %pair2, sep=\"\\t\")\n",
    "    peaks1.columns = [c.replace(' ', '_') for c in peaks1.columns]\n",
    "    peaks1.columns.values[0] = \"Peak_ID\"\n",
    "    peaks2.columns = [c.replace(' ', '_') for c in peaks2.columns]\n",
    "    peaks2.columns.values[0] = \"Peak_ID\"\n",
    "    peaks1_list = peaks1['Gene_Name'].tolist()\n",
    "    peaks2_list = peaks2['Gene_Name'].tolist()\n",
    "    venn2([set(peaks1_list), set(peaks2_list)], (pair1,pair2))\n",
    "    plt.show()\n",
    "    plt.savefig('./Venn_Analysis_Genes_with_Peaks_%s.png' %pairs ,dpi=300)  # save figure\n",
    "    commonGenes, uniqueL1, uniqueL2 = compare.compareLists(peaks1_list, peaks2_list)\n",
    "    commonGenes_df = pandas.DataFrame(commonGenes, columns = [\"commonGenes\"])\n",
    "    commonGenes_df.to_csv(\"CommonGenes_%s.csv\" %pairs)\n",
    "    uniqueL1_df = pandas.DataFrame(uniqueL1, columns = [\"uniqueL1\"])\n",
    "    uniqueL1_df.to_csv(\"uniqueL1_%s_%s.csv\" %(pair1, pairs))\n",
    "    uniqueL2_df = pandas.DataFrame(uniqueL2, columns = [\"uniqueL2\"])\n",
    "    uniqueL2_df.to_csv(\"uniqueL2_%s_%s.csv\" %(pair2, pairs))"
   ]
  },
  {
   "cell_type": "markdown",
   "metadata": {},
   "source": [
    "<a id = \"browse\"></a>\n",
    "## View Pileups on Genome Browser"
   ]
  },
  {
   "cell_type": "markdown",
   "metadata": {},
   "source": [
    "Cut and copy the following URLs to create custom tracks for your samples in UCSC Genome Browser"
   ]
  },
  {
   "cell_type": "code",
   "execution_count": null,
   "metadata": {
    "collapsed": false,
    "scrolled": true
   },
   "outputs": [],
   "source": [
    "for sample in sample_names:\n",
    "    url = \"http://ccbb-analysis.s3.amazonaws.com/%s/%s.ucsc.bedGraph.gz\" %(sample,sample)\n",
    "    print url"
   ]
  },
  {
   "cell_type": "code",
   "execution_count": null,
   "metadata": {
    "collapsed": false,
    "run_control": {
     "marked": true
    },
    "scrolled": true
   },
   "outputs": [],
   "source": [
    "IFrame(\"https://genome.ucsc.edu/cgi-bin/hgCustom?hgsid=504023239_5efJ2ONTkgrqUm6AcaAkNGcyXKmn\", width=900, height=500)"
   ]
  },
  {
   "cell_type": "code",
   "execution_count": null,
   "metadata": {
    "collapsed": true
   },
   "outputs": [],
   "source": []
  }
 ],
 "metadata": {
  "kernelspec": {
   "display_name": "Python 2",
   "language": "python",
   "name": "python2"
  },
  "language_info": {
   "codemirror_mode": {
    "name": "ipython",
    "version": 2
   },
   "file_extension": ".py",
   "mimetype": "text/x-python",
   "name": "python",
   "nbconvert_exporter": "python",
   "pygments_lexer": "ipython2",
   "version": "2.7.11"
  }
 },
 "nbformat": 4,
 "nbformat_minor": 0
}
