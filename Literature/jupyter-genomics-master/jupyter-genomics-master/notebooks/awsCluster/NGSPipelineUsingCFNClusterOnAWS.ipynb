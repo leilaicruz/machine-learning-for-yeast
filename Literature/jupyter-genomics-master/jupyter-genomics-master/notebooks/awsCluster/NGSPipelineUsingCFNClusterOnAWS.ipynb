{
 "cells": [
  {
   "cell_type": "markdown",
   "metadata": {
    "collapsed": false
   },
   "source": [
    "<h1 align=\"center\">NGS Pipeline Using CFNCluster On AWS</h1> \n",
    "<h3 align=\"center\">Author: Guorong Xu</h3>\n",
    "<h3 align=\"center\">2016-06-21</h3> "
   ]
  },
  {
   "cell_type": "markdown",
   "metadata": {},
   "source": [
    "## The notebook is an example that tells you how to configure your project information and run the Whole-genome sequencing, RNA sequencing, ChiP sequencing or miRNA sequencing pipelines on AWS."
   ]
  },
  {
   "cell_type": "markdown",
   "metadata": {},
   "source": [
    "### <font color='red'>Notice: Please open the notebook under /notebooks/awsCluster/BasicCFNClusterSetup.ipynb to install CFNCluster package on your Jupyter-notebook server before running the notebook.</font>"
   ]
  },
  {
   "cell_type": "markdown",
   "metadata": {},
   "source": [
    "## 1. Configure AWS key pair, data location on S3 and the project information"
   ]
  },
  {
   "cell_type": "code",
   "execution_count": null,
   "metadata": {
    "collapsed": false
   },
   "outputs": [],
   "source": [
    "import os\n",
    "import sys\n",
    "\n",
    "sys.path.append(os.getcwd().replace(\"notebooks/awsCluster\", \"src/awsCluster\"))\n",
    "from util import DesignFileLoader\n",
    "\n",
    "## S3 input and output address.\n",
    "s3_input_files_address = \"s3://path/to/s3_input_files_address\"\n",
    "s3_output_files_address = \"s3://path/to/s3_output_files_address\"\n",
    "\n",
    "## CFNCluster name\n",
    "your_cluster_name = \"cluster_name\"\n",
    "\n",
    "## The private key pair for accessing cluster.\n",
    "private_key = \"/path/to/aws_priate_key.pem\"\n",
    "\n",
    "## Project information\n",
    "project_name = \"project_name\"\n",
    "\n",
    "## The use case number\n",
    "# use_case = 1: whole-genome sequencing pipeline\n",
    "# use_case = 2.1: the workflow \"star_htseq_workflow\" of the RNA sequencing pipeline\n",
    "# use_case = 2.2: the workflow \"kallisto_deseq_workflow\" of the RNA sequencing pipeline\n",
    "# use_case = 2.3: the workflow \"star_gatk_workflow\" of the RNA sequencing pipeline\n",
    "# use_case = 3: ChiP sequencing pipeline\n",
    "# use_case = 4: miRNA sequencing pipeline\n",
    "use_case = \"1\"\n",
    "\n",
    "## If delete cfncluster after job is done.\n",
    "delete_cfncluster = False"
   ]
  },
  {
   "cell_type": "markdown",
   "metadata": {},
   "source": [
    "## 2. Create CFNCluster"
   ]
  },
  {
   "cell_type": "markdown",
   "metadata": {},
   "source": [
    "### Notice: The CFNCluster package can be only installed on Linux box which supports pip installation."
   ]
  },
  {
   "cell_type": "code",
   "execution_count": null,
   "metadata": {
    "collapsed": false
   },
   "outputs": [],
   "source": [
    "from cfnCluster import CFNClusterManager, ConnectionManager\n",
    "\n",
    "## Create a new cluster\n",
    "master_ip_address = CFNClusterManager.create_cfn_cluster(cluster_name=your_cluster_name)\n",
    "ssh_client = ConnectionManager.connect_master(hostname=master_ip_address,\n",
    "               username=\"ec2-user\",\n",
    "               private_key_file=private_key)"
   ]
  },
  {
   "cell_type": "markdown",
   "metadata": {},
   "source": [
    "### After you verified the project information, you can execute the pipeline. When the job is done, you will see the log infomration returned from the cluster."
   ]
  },
  {
   "cell_type": "markdown",
   "metadata": {},
   "source": [
    "## Use case 1: Run the Whole-genome sequencing pipeline"
   ]
  },
  {
   "cell_type": "code",
   "execution_count": null,
   "metadata": {
    "collapsed": false
   },
   "outputs": [],
   "source": [
    "from dnaSeq import WGSPipelineManager\n",
    "\n",
    "if use_case == \"1\":\n",
    "    ## analysis steps include: \"fastqc\", \"bwa-alignment\", \"post-alignment\", \"gatk-haplotype\"\n",
    "    analysis_steps = [\"fastqc\", \"bwa-alignment\"]\n",
    "    \n",
    "    ## load design file by calling a function load_design_file in GroupFileMaker.\n",
    "    design_file = os.getcwd().replace(\"notebooks/awsCluster\", \"data/awsCluster/dnaseq_design_example.txt\")\n",
    "    sample_list, group_list = DesignFileLoader.load_design_file(design_file)\n",
    "    \n",
    "    WGSPipelineManager.execute(ssh_client, project_name, analysis_steps, s3_input_files_address,\n",
    "                       sample_list, group_list, s3_output_files_address)"
   ]
  },
  {
   "cell_type": "markdown",
   "metadata": {},
   "source": [
    "## Use case 2.1: Run the workflow \"star_htseq_workflow\" of the RNA sequencing pipeline"
   ]
  },
  {
   "cell_type": "code",
   "execution_count": null,
   "metadata": {
    "collapsed": false
   },
   "outputs": [],
   "source": [
    "from rnaSeq import RNAPipelineManager\n",
    "    \n",
    "if use_case == \"2.1\":\n",
    "    ## star_htseq_workflow\n",
    "    workflow = \"star_htseq_workflow\" \n",
    "\n",
    "    ## \"fastqc\", \"alignment\", \"counting\"\n",
    "    analysis_steps = [\"fastqc\", \"alignment\", \"counting\"]\n",
    "    \n",
    "    ## load design file by calling a function load_design_file in GroupFileMaker.\n",
    "    design_file = os.getcwd().replace(\"notebooks/awsCluster\", \"data/awsCluster/rnaseq_design_example.txt\")\n",
    "    sample_list, group_list = DesignFileLoader.load_design_file(design_file)\n",
    "    \n",
    "    ## run the RNA sequencing pipeline\n",
    "    RNAPipelineManager.run_analysis(ssh_client, workflow, project_name, analysis_steps,\n",
    "                     s3_input_files_address, sample_list, group_list, s3_output_files_address)"
   ]
  },
  {
   "cell_type": "markdown",
   "metadata": {},
   "source": [
    "## Use case 2.2: Run the workflow \"kallisto_deseq_workflow\" of the RNA sequencing pipeline"
   ]
  },
  {
   "cell_type": "code",
   "execution_count": null,
   "metadata": {
    "collapsed": false
   },
   "outputs": [],
   "source": [
    "from rnaSeq import RNAPipelineManager\n",
    "    \n",
    "if use_case == \"2.2\":\n",
    "    ## kallisto_deseq_workflow\n",
    "    workflow = \"kallisto_deseq_workflow\" \n",
    "\n",
    "    ## \"fastqc\", \"alignment\", \"counting\", \"differential_calculation\"\n",
    "    analysis_steps = [\"fastqc\"]\n",
    "    \n",
    "    ## load design file by calling a function load_design_file in GroupFileMaker.\n",
    "    design_file = os.getcwd().replace(\"notebooks/awsCluster\", \"data/awsCluster/rnaseq_design_example.txt\")\n",
    "    sample_list, group_list = DesignFileLoader.load_design_file(design_file)\n",
    "    \n",
    "    ## run the RNA sequencing pipeline\n",
    "    RNAPipelineManager.run_analysis(ssh_client, workflow, project_name, analysis_steps,\n",
    "                     s3_input_files_address, sample_list, group_list, s3_output_files_address)"
   ]
  },
  {
   "cell_type": "markdown",
   "metadata": {},
   "source": [
    "## Use case 2.3: Run the workflow \"star_gatk_workflow\" of the RNA sequencing pipeline"
   ]
  },
  {
   "cell_type": "code",
   "execution_count": null,
   "metadata": {
    "collapsed": false
   },
   "outputs": [],
   "source": [
    "from rnaSeq import RNAPipelineManager\n",
    "    \n",
    "if use_case == \"2.3\":\n",
    "    ## star_gatk_workflow\n",
    "    workflow = \"star_gatk_workflow\" \n",
    "\n",
    "    ## \"fastqc\", \"alignment\", \"variant_calling\"\n",
    "    analysis_steps = [\"fastqc\"]\n",
    "    \n",
    "    ## load design file by calling a function load_design_file in GroupFileMaker.\n",
    "    design_file = os.getcwd().replace(\"notebooks/awsCluster\", \"data/awsCluster/rnaseq_vc_design_example.txt\")\n",
    "    sample_list, group_list = DesignFileLoader.load_design_file(design_file)\n",
    "    \n",
    "    ## run the RNA sequencing pipeline\n",
    "    RNAPipelineManager.run_analysis(ssh_client, workflow, project_name, analysis_steps,\n",
    "                     s3_input_files_address, sample_list, group_list, s3_output_files_address)"
   ]
  },
  {
   "cell_type": "markdown",
   "metadata": {},
   "source": [
    "## Use case 3: Run the ChiP sequencing pipeline"
   ]
  },
  {
   "cell_type": "code",
   "execution_count": null,
   "metadata": {
    "collapsed": false
   },
   "outputs": [],
   "source": [
    "from chipSeq import ChipPipelineManager\n",
    "\n",
    "if use_case == \"3\":\n",
    "    ## \"homer_workflow\"\n",
    "    workflow = \"homer_workflow\" \n",
    "\n",
    "    ## \"fastqc\", \"alignment\", \"make_tag_directory\", \"make_UCSC_file\", \"find_peaks\", \"annotate_peaks\", \"pos2bed\", \"find_motifs_genome\"\n",
    "    analysis_steps = [\"annotate_peaks\", \"pos2bed\", \"find_motifs_genome\"]\n",
    "\n",
    "    ## the style option can be either \"factor\", \"histone\".\n",
    "    style = \"histone\"\n",
    "\n",
    "    ## current available genomes: hg18, hg19, mm9, mm10\n",
    "    genome = \"hg19\"\n",
    "\n",
    "    ## load design file by calling a function load_design_file in GroupFileMaker.\n",
    "    design_file = os.getcwd().replace(\"notebooks/awsCluster\", \"data/awsCluster/chipSeq_design_example.txt\")\n",
    "    sample_list, group_list = DesignFileLoader.load_chipseq_design_file(design_file)\n",
    "\n",
    "    ## run the ChiP sequencing pipeline\n",
    "    ChipPipelineManager.run_analysis(ssh_client, workflow, project_name, analysis_steps,\n",
    "                     s3_input_files_address, sample_list, group_list, style, genome, s3_output_files_address)"
   ]
  },
  {
   "cell_type": "markdown",
   "metadata": {},
   "source": [
    "## Use case 4: Run the miRNA sequencing pipeline"
   ]
  },
  {
   "cell_type": "code",
   "execution_count": null,
   "metadata": {
    "collapsed": false
   },
   "outputs": [],
   "source": [
    "from miRNASeq import SmallRNAPipelineManager\n",
    "\n",
    "if use_case == \"4\":\n",
    "    ## \"fastqc\", \"bowtie-alignment\", \"counting\"\n",
    "    analysis_steps = [\"fastqc\", \"bowtie-alignment\", \"counting\"]\n",
    "    \n",
    "    ## load design file by calling a function load_design_file in GroupFileMaker.\n",
    "    design_file = os.getcwd().replace(\"notebooks/awsCluster\", \"data/awsCluster/smallrnaseq_design_example.txt\")\n",
    "    sample_list, group_list = DesignFileLoader.load_design_file(design_file)\n",
    "    \n",
    "    SmallRNAPipelineManager.execute(ssh_client, project_name, analysis_steps, s3_input_files_address,\n",
    "                       sample_list, group_list, s3_output_files_address)"
   ]
  },
  {
   "cell_type": "markdown",
   "metadata": {},
   "source": [
    "### To check the processing status"
   ]
  },
  {
   "cell_type": "code",
   "execution_count": null,
   "metadata": {
    "collapsed": false
   },
   "outputs": [],
   "source": [
    "from miRNASeq import SmallRNAPipelineManager\n",
    "from chipSeq import ChipPipelineManager\n",
    "from dnaSeq import WGSPipelineManager\n",
    "from rnaSeq import RNAPipelineManager\n",
    "\n",
    "if use_case == \"1\":\n",
    "    WGSPipelineManager.check_processing_status(ssh_client)\n",
    "if use_case.startswith(\"2\"):\n",
    "    RNAPipelineManager.check_processing_status(ssh_client)\n",
    "if use_case == \"3\":\n",
    "    ChipPipelineManager.check_processing_status(ssh_client) \n",
    "if use_case == \"4\":\n",
    "    SmallRNAPipelineManager.check_processing_status(ssh_client)"
   ]
  },
  {
   "cell_type": "markdown",
   "metadata": {
    "collapsed": true
   },
   "source": [
    "### To delete the cluster, you just need to set the cluster name and call the below function."
   ]
  },
  {
   "cell_type": "code",
   "execution_count": null,
   "metadata": {
    "collapsed": false
   },
   "outputs": [],
   "source": [
    "from cfnCluster import CFNClusterManager\n",
    "\n",
    "if delete_cfncluster == True:\n",
    "    CFNClusterManager.delete_cfn_cluster(cluster_name=your_cluster_name)"
   ]
  },
  {
   "cell_type": "markdown",
   "metadata": {
    "collapsed": true
   },
   "source": [
    "## TODO: Using configuration builder to add option settings for each module. "
   ]
  },
  {
   "cell_type": "code",
   "execution_count": null,
   "metadata": {
    "collapsed": true
   },
   "outputs": [],
   "source": [
    "from rnaSeq import ConfigureBuilder\n",
    "\n",
    "## creating a list of options for configuration.\n",
    "## configuring Star options\n",
    "star_option_list = [[\"runThreadN\", \"1\"], [\"clip3pNbases\", \"0\"], [\"outFileNamePrefix\", \"mysam\"], [\"outReadsUnmapped\", \"None\"]]\n",
    "ConfigureBuilder.configure_star(star_option_list)\n",
    "\n",
    "## configuring Kallisto options\n",
    "kallisto_option_list = [[\"fragment-length\", \"50\"], [\"bootstrap-samples\", \"0\"], [\"seed\", \"42\"]]\n",
    "ConfigureBuilder.configure_kallisto(kallisto_option_list)\n"
   ]
  }
 ],
 "metadata": {
  "kernelspec": {
   "display_name": "Python 2",
   "language": "python",
   "name": "python2"
  },
  "language_info": {
   "codemirror_mode": {
    "name": "ipython",
    "version": 2
   },
   "file_extension": ".py",
   "mimetype": "text/x-python",
   "name": "python",
   "nbconvert_exporter": "python",
   "pygments_lexer": "ipython2",
   "version": "2.7.8"
  }
 },
 "nbformat": 4,
 "nbformat_minor": 0
}
