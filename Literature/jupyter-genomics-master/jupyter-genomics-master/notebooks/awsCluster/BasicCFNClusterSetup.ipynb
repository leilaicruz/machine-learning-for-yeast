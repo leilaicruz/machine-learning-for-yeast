{
 "cells": [
  {
   "cell_type": "markdown",
   "metadata": {
    "collapsed": true
   },
   "source": [
    "<h1 align=\"center\">Basic CFNCluster Setup</h1> \n",
    "<h3 align=\"center\">Author: Guorong Xu (g1xu@ucsd.edu) </h3>\n",
    "<h3 align=\"center\">2016-4-22</h3> "
   ]
  },
  {
   "cell_type": "markdown",
   "metadata": {},
   "source": [
    "## The notebook is an example that tells you how to call API to install, configure CFNCluster package, create a cluster, and connect to the master node. Currently we only support Linux, Mac OS platforms."
   ]
  },
  {
   "cell_type": "markdown",
   "metadata": {},
   "source": [
    "## <font color='red'>Notice:</font> First step is to fill in the AWS account access keys and then follow the instructions to install CFNCluster package and create a cluster. "
   ]
  },
  {
   "cell_type": "code",
   "execution_count": null,
   "metadata": {
    "collapsed": false
   },
   "outputs": [],
   "source": [
    "import os\n",
    "import sys\n",
    "\n",
    "sys.path.append(os.getcwd().replace(\"notebooks/awsCluster\", \"src/awsCluster\"))\n",
    "\n",
    "## Input the AWS account access keys\n",
    "aws_access_key_id = \"/**aws_access_key_id**/\" \n",
    "aws_secret_access_key = \"/**aws_secret_access_key**/\"\n",
    "\n",
    "## CFNCluster name\n",
    "your_cluster_name = \"cluster_name\"\n",
    "\n",
    "## The private key pair for accessing cluster.\n",
    "private_key = \"/path/to/aws_priate_key.pem\"\n",
    "\n",
    "## If delete cfncluster after job is done.\n",
    "delete_cfncluster = False"
   ]
  },
  {
   "cell_type": "markdown",
   "metadata": {},
   "source": [
    "## 1. Install CFNCluster"
   ]
  },
  {
   "cell_type": "markdown",
   "metadata": {},
   "source": [
    "### Notice: The CFNCluster package can be only installed on Linux box which supports pip installation."
   ]
  },
  {
   "cell_type": "code",
   "execution_count": null,
   "metadata": {
    "collapsed": false
   },
   "outputs": [],
   "source": [
    "from cfnCluster import CFNClusterManager\n",
    "CFNClusterManager.install_cfn_cluster()"
   ]
  },
  {
   "cell_type": "markdown",
   "metadata": {},
   "source": [
    "## 2. Upgrade CFNCluster"
   ]
  },
  {
   "cell_type": "code",
   "execution_count": null,
   "metadata": {
    "collapsed": false
   },
   "outputs": [],
   "source": [
    "from cfnCluster import CFNClusterManager\n",
    "CFNClusterManager.upgrade_cfn_cluster()"
   ]
  },
  {
   "cell_type": "markdown",
   "metadata": {},
   "source": [
    "## 3. Configure CFNCluster"
   ]
  },
  {
   "cell_type": "markdown",
   "metadata": {},
   "source": [
    "### To configure CFNCluster settings, you need to import the package CFNCluster. The below functions tell you how to insert AWS access keys, configure instance types, spot price and S3 resource."
   ]
  },
  {
   "cell_type": "code",
   "execution_count": null,
   "metadata": {
    "collapsed": false
   },
   "outputs": [],
   "source": [
    "from cfnCluster import CFNClusterManager\n",
    "\n",
    "## Configure cfncluster settings\n",
    "CFNClusterManager.insert_access_keys(aws_access_key_id=aws_access_key_id, aws_secret_access_key=aws_secret_access_key)\n",
    "CFNClusterManager.config_key_name(private_key)\n",
    "CFNClusterManager.config_instance_types(master_instance_type=\"m3.large\", compute_instance_type=\"m4.xlarge\")\n",
    "CFNClusterManager.config_initial_cluster_size(initial_cluster_size=\"0\")\n",
    "CFNClusterManager.config_spot_price(spot_price=\"0.7\")\n",
    "CFNClusterManager.config_volume_size(volume_size=\"300\")\n",
    "CFNClusterManager.config_ebs_snapshot_id(ebs_snapshot_id=\"snap-058a7554\")\n",
    "CFNClusterManager.config_aws_region_name(aws_region_name=\"us-west-2\")\n",
    "CFNClusterManager.config_post_install(post_install=\"s3://path/to/postinstall.sh\")\n",
    "CFNClusterManager.config_vpc_subnet_id(master_subnet_id=\"subnet-00000000\", vpc_id=\"vpc-00000000\")\n",
    "CFNClusterManager.config_s3_resource(s3_read_resource=\"s3://bucket_name/\", s3_read_write_resource=\"s3://bucket_name/\")"
   ]
  },
  {
   "cell_type": "markdown",
   "metadata": {},
   "source": [
    "### After you finish configuration, you can call the below function to double check if your settings are correct."
   ]
  },
  {
   "cell_type": "markdown",
   "metadata": {},
   "source": [
    "### Before you create a new cluster, you can check the current running clusters to avoid to use the different cluster name by call the below function."
   ]
  },
  {
   "cell_type": "code",
   "execution_count": null,
   "metadata": {
    "collapsed": false
   },
   "outputs": [],
   "source": [
    "CFNClusterManager.view_cfncluster_config()"
   ]
  },
  {
   "cell_type": "code",
   "execution_count": null,
   "metadata": {
    "collapsed": false
   },
   "outputs": [],
   "source": [
    "CFNClusterManager.list_cfn_cluster()"
   ]
  },
  {
   "cell_type": "markdown",
   "metadata": {},
   "source": [
    "### To create a new cluster, you need to set a cluster name and then call the below function. After the creation is complete, you will see the output information about your cluser IP address."
   ]
  },
  {
   "cell_type": "code",
   "execution_count": null,
   "metadata": {
    "collapsed": false
   },
   "outputs": [],
   "source": [
    "master_ip_address = CFNClusterManager.create_cfn_cluster(cluster_name=your_cluster_name)"
   ]
  },
  {
   "cell_type": "markdown",
   "metadata": {},
   "source": [
    "## 4. Manage cluster"
   ]
  },
  {
   "cell_type": "markdown",
   "metadata": {},
   "source": [
    "### To manage your new created cluster, you need to import  ConnectionManager. The ConnectionManager can create the connection to the master node, execute commands on the master node, transfer files to the master. To create a connection to the master node, you need to set the hostname, username and your private key file. The hostname IP address (MasterPublicIP) can be found when your cluster creation is complete. The private key file should be the same when you configure CFNCluster. "
   ]
  },
  {
   "cell_type": "code",
   "execution_count": null,
   "metadata": {
    "collapsed": false
   },
   "outputs": [],
   "source": [
    "from cfnCluster import ConnectionManager\n",
    "ssh_client = ConnectionManager.connect_master(hostname=master_ip_address,\n",
    "               username=\"ec2-user\",\n",
    "               private_key_file=private_key)"
   ]
  },
  {
   "cell_type": "markdown",
   "metadata": {},
   "source": [
    "### To install GATK\n",
    "#### <font color='red'>Notice:</font> You need to download the GenomeAnalysisTK.jar from the official website to your local machine, then upload to the cluster.\n",
    "The GATK official website: https://software.broadinstitute.org/gatk/download/"
   ]
  },
  {
   "cell_type": "code",
   "execution_count": null,
   "metadata": {
    "collapsed": false
   },
   "outputs": [],
   "source": [
    "from cfnCluster import ConnectionManager\n",
    "ConnectionManager.copy_gatk(ssh_client, \"/path/to/local/GenomeAnalysisTK.jar\")"
   ]
  },
  {
   "cell_type": "markdown",
   "metadata": {},
   "source": [
    "### After the job is done, you can call the below function to close the connection. "
   ]
  },
  {
   "cell_type": "code",
   "execution_count": null,
   "metadata": {
    "collapsed": true
   },
   "outputs": [],
   "source": [
    "ConnectionManager.close_connection(ssh_client)"
   ]
  },
  {
   "cell_type": "markdown",
   "metadata": {},
   "source": [
    "### To delete the cluster, you just need to set the cluster name and call the below function."
   ]
  },
  {
   "cell_type": "code",
   "execution_count": null,
   "metadata": {
    "collapsed": false
   },
   "outputs": [],
   "source": [
    "from cfnCluster import CFNClusterManager\n",
    "\n",
    "if delete_cfncluster == True:\n",
    "    CFNClusterManager.delete_cfn_cluster(cluster_name=your_cluster_name)"
   ]
  },
  {
   "cell_type": "code",
   "execution_count": null,
   "metadata": {
    "collapsed": true
   },
   "outputs": [],
   "source": []
  }
 ],
 "metadata": {
  "kernelspec": {
   "display_name": "Python 2",
   "language": "python",
   "name": "python2"
  },
  "language_info": {
   "codemirror_mode": {
    "name": "ipython",
    "version": 2
   },
   "file_extension": ".py",
   "mimetype": "text/x-python",
   "name": "python",
   "nbconvert_exporter": "python",
   "pygments_lexer": "ipython2",
   "version": "2.7.8"
  }
 },
 "nbformat": 4,
 "nbformat_minor": 0
}
