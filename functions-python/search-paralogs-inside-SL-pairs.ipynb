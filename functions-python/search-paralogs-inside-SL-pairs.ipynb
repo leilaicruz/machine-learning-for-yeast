{
 "cells": [
  {
   "cell_type": "code",
   "execution_count": 1,
   "metadata": {},
   "outputs": [],
   "source": [
    "from intermine.webservice import Service\n",
    "import numpy as np\n",
    "import scipy.io\n",
    "import seaborn as sns\n",
    "from scipy import stats, optimize, interpolate\n",
    "import pandas as pd\n",
    "from collections import defaultdict \n",
    "import math\n",
    "import matplotlib.pyplot as plt\n",
    "from scipy.stats import norm, lognorm\n",
    "from scipy import stats\n",
    "import matplotlib.cm as cm\n",
    "import matplotlib.mlab as mlab\n",
    "import os, fnmatch"
   ]
  },
  {
   "cell_type": "code",
   "execution_count": 2,
   "metadata": {},
   "outputs": [],
   "source": [
    "data_sl=pd.read_excel(r'C:\\Users\\linigodelacruz\\Documents\\PhD_2018\\Documentation\\Calculations\\data_BioGrid\\data-synthetic-lethals.xlsx',header=0)"
   ]
  },
  {
   "cell_type": "code",
   "execution_count": 3,
   "metadata": {},
   "outputs": [],
   "source": [
    "def query_filter_paralogs(gene):\n",
    "    service = Service('https://yeastmine.yeastgenome.org/yeastmine/service', token = '11d7t1Y007Fa97c82f27')\n",
    "\n",
    "    # Get a new query on the class (table) you will be querying:\n",
    "    query = service.new_query(\"Gene\")\n",
    "    query.add_view(\n",
    "    \"symbol\", \"secondaryIdentifier\", \"name\", \"homologues.homologue.symbol\",\n",
    "    \"homologues.homologue.secondaryIdentifier\", \"homologues.homologue.name\",\n",
    "    \"homologues.type\", \"homologues.source\", \"homologues.publication.pubMedId\"\n",
    "    )\n",
    "    query.add_constraint(\"homologues.dataSets.dataSource.name\", \"=\", \"SGD\", code = \"C\")\n",
    "    query.add_constraint(\"Gene\", \"LOOKUP\", gene, \"S. cerevisiae\", code = \"A\")\n",
    "\n",
    "    \n",
    "    data_toy=defaultdict(dict)\n",
    "\n",
    "    for row,counter in zip(query.rows(),np.arange(0,len(query.rows()))):\n",
    "        data_toy['name'][counter]=row['symbol']\n",
    "        data_toy['homologue-name'][counter]=row[\"homologues.homologue.symbol\"]\n",
    "        data_toy['source'][counter]= row[\"homologues.source\"]\n",
    "              \n",
    "\n",
    "\n",
    "\n",
    "    data_toy_pd=pd.DataFrame(data_toy)\n",
    "    data_toy_pd=data_toy_pd.drop_duplicates()\n",
    "    return data_toy_pd"
   ]
  },
  {
   "cell_type": "code",
   "execution_count": 5,
   "metadata": {},
   "outputs": [
    {
     "output_type": "execute_result",
     "data": {
      "text/plain": "3518"
     },
     "metadata": {},
     "execution_count": 5
    }
   ],
   "source": [
    "list_queries=data_sl['gene-query-name'].unique()\n",
    "list_queries\n",
    "list_target=data_sl['gene-target-name'].unique()\n",
    "len(list_target)"
   ]
  },
  {
   "cell_type": "code",
   "execution_count": 6,
   "metadata": {},
   "outputs": [
    {
     "output_type": "execute_result",
     "data": {
      "text/plain": "1509"
     },
     "metadata": {},
     "execution_count": 6
    }
   ],
   "source": [
    "list_target_and_query=np.intersect1d(list_queries,list_target)\n",
    "len(list_target_and_query)"
   ]
  },
  {
   "cell_type": "markdown",
   "metadata": {},
   "source": [
    "### Exclude the genes that appear in the query list from the target list"
   ]
  },
  {
   "cell_type": "code",
   "execution_count": 7,
   "metadata": {},
   "outputs": [
    {
     "output_type": "execute_result",
     "data": {
      "text/plain": "2009"
     },
     "metadata": {},
     "execution_count": 7
    }
   ],
   "source": [
    "list_target_only = [x for x in list_target if x not in list_target_and_query]\n",
    "len(list_target_only)"
   ]
  },
  {
   "cell_type": "code",
   "execution_count": 9,
   "metadata": {},
   "outputs": [
    {
     "output_type": "execute_result",
     "data": {
      "text/plain": "     name-gene homologue-gene\n7         FKH2         [FKH1]\n8         ITC1         [None]\n9         IXR1         [ABF2]\n19        LEM3        [CDC50]\n21        SHC1         [SKT5]\n...        ...            ...\n1988      TRR1         [TRR2]\n1989     ASK10         [RGC1]\n1992      KTR6         [KRE2]\n2000      LAM6         [LAM5]\n2001      LEU9         [LEU4]\n\n[361 rows x 2 columns]",
      "text/html": "<div>\n<style scoped>\n    .dataframe tbody tr th:only-of-type {\n        vertical-align: middle;\n    }\n\n    .dataframe tbody tr th {\n        vertical-align: top;\n    }\n\n    .dataframe thead th {\n        text-align: right;\n    }\n</style>\n<table border=\"1\" class=\"dataframe\">\n  <thead>\n    <tr style=\"text-align: right;\">\n      <th></th>\n      <th>name-gene</th>\n      <th>homologue-gene</th>\n    </tr>\n  </thead>\n  <tbody>\n    <tr>\n      <th>7</th>\n      <td>FKH2</td>\n      <td>[FKH1]</td>\n    </tr>\n    <tr>\n      <th>8</th>\n      <td>ITC1</td>\n      <td>[None]</td>\n    </tr>\n    <tr>\n      <th>9</th>\n      <td>IXR1</td>\n      <td>[ABF2]</td>\n    </tr>\n    <tr>\n      <th>19</th>\n      <td>LEM3</td>\n      <td>[CDC50]</td>\n    </tr>\n    <tr>\n      <th>21</th>\n      <td>SHC1</td>\n      <td>[SKT5]</td>\n    </tr>\n    <tr>\n      <th>...</th>\n      <td>...</td>\n      <td>...</td>\n    </tr>\n    <tr>\n      <th>1988</th>\n      <td>TRR1</td>\n      <td>[TRR2]</td>\n    </tr>\n    <tr>\n      <th>1989</th>\n      <td>ASK10</td>\n      <td>[RGC1]</td>\n    </tr>\n    <tr>\n      <th>1992</th>\n      <td>KTR6</td>\n      <td>[KRE2]</td>\n    </tr>\n    <tr>\n      <th>2000</th>\n      <td>LAM6</td>\n      <td>[LAM5]</td>\n    </tr>\n    <tr>\n      <th>2001</th>\n      <td>LEU9</td>\n      <td>[LEU4]</td>\n    </tr>\n  </tbody>\n</table>\n<p>361 rows × 2 columns</p>\n</div>"
     },
     "metadata": {},
     "execution_count": 9
    }
   ],
   "source": [
    "list_queries=list_target_only\n",
    "sl_paralogs=defaultdict(dict)\n",
    "for i in np.arange(0,len(list_queries)): \n",
    "    output=query_filter_paralogs(list_queries[i])\n",
    "    if len(output)!=0:\n",
    "        sl_paralogs[i]['name-gene']=output['name'].tolist()[0]\n",
    "        sl_paralogs[i]['homologue-gene']=output['homologue-name'].tolist()\n",
    "sl_paralogs_pd=pd.DataFrame(sl_paralogs)\n",
    "sl_paralogs_pd.T\n"
   ]
  },
  {
   "cell_type": "code",
   "execution_count": 10,
   "metadata": {},
   "outputs": [],
   "source": [
    "sl_paralogs_pd.to_excel('paralogs_sL_from_target-genes.xlsx')"
   ]
  },
  {
   "cell_type": "markdown",
   "metadata": {},
   "source": [
    "###  Build  a program that reads the paralogs of the que query gene and see if that paralog is also SL of the query gene , by inspecting if the paralog is present in the target genes of the SL database. \n",
    "- this is the first check to analyze if the reason why a SL pair shares domains is because they are also paralogs. \n",
    "\n"
   ]
  },
  {
   "cell_type": "code",
   "execution_count": 228,
   "metadata": {},
   "outputs": [],
   "source": [
    "query_paralogs=pd.read_excel('paralogs_sL_from_query-genes.xlsx')\n",
    "target_paralogs=pd.read_excel('paralogs_sL_from_target-genes.xlsx')\n",
    "\n",
    "query_paralogs_pd=query_paralogs.drop(columns='Unnamed: 0')\n",
    "query_paralogs_pd.columns=['name-gene','name-paralogue']\n",
    "\n",
    "target_paralogs_pd=target_paralogs.drop(columns='Unnamed: 0')\n",
    "target_paralogs_pd.columns=['name-gene','name-paralogue']"
   ]
  },
  {
   "cell_type": "code",
   "execution_count": 229,
   "metadata": {},
   "outputs": [
    {
     "output_type": "execute_result",
     "data": {
      "text/plain": "  name-gene name-paralogue\n0      FKH2           FKH1\n1      IXR1           ABF2\n2      LEM3          CDC50\n3      SHC1           SKT5\n4      VIK1           CIK1",
      "text/html": "<div>\n<style scoped>\n    .dataframe tbody tr th:only-of-type {\n        vertical-align: middle;\n    }\n\n    .dataframe tbody tr th {\n        vertical-align: top;\n    }\n\n    .dataframe thead th {\n        text-align: right;\n    }\n</style>\n<table border=\"1\" class=\"dataframe\">\n  <thead>\n    <tr style=\"text-align: right;\">\n      <th></th>\n      <th>name-gene</th>\n      <th>name-paralogue</th>\n    </tr>\n  </thead>\n  <tbody>\n    <tr>\n      <th>0</th>\n      <td>FKH2</td>\n      <td>FKH1</td>\n    </tr>\n    <tr>\n      <th>1</th>\n      <td>IXR1</td>\n      <td>ABF2</td>\n    </tr>\n    <tr>\n      <th>2</th>\n      <td>LEM3</td>\n      <td>CDC50</td>\n    </tr>\n    <tr>\n      <th>3</th>\n      <td>SHC1</td>\n      <td>SKT5</td>\n    </tr>\n    <tr>\n      <th>4</th>\n      <td>VIK1</td>\n      <td>CIK1</td>\n    </tr>\n  </tbody>\n</table>\n</div>"
     },
     "metadata": {},
     "execution_count": 229
    }
   ],
   "source": [
    "query_paralogs_pd.head()\n",
    "target_paralogs_pd.head()"
   ]
  },
  {
   "cell_type": "code",
   "execution_count": 210,
   "metadata": {},
   "outputs": [],
   "source": [
    "paralog_target=query_paralogs_pd[query_paralogs_pd['name-gene']==query_paralogs_pd['name-gene'][0]]['name-paralogue'].tolist()\n",
    "# paralog_query=target_paralogs_pd[target_paralogs_pd['name-gene']==target_paralogs_pd['name-gene'][0]]['name-paralogue'].tolist()"
   ]
  },
  {
   "cell_type": "code",
   "execution_count": 230,
   "metadata": {},
   "outputs": [],
   "source": [
    "indexes_sl_query=[]\n",
    "for i in np.arange(0,len(query_paralogs_pd)):\n",
    "    paralog_target=query_paralogs_pd[query_paralogs_pd['name-gene']==query_paralogs_pd['name-gene'][i]]['name-paralogue'].tolist()\n",
    "    list_targets_sl=data_sl[data_sl['gene-query-name']==query_paralogs_pd['name-gene'][i]]['gene-target-name'].tolist()\n",
    "\n",
    "\n",
    "    \n",
    "    if paralog_target[0] in list_targets_sl:\n",
    "        indexes_sl_query.append(query_paralogs_pd[query_paralogs_pd['name-paralogue']==paralog_target[0]].index[0])\n",
    "\n",
    "\n",
    "indexes_sl_target=[]\n",
    "for i in np.arange(0,len(target_paralogs_pd)): \n",
    "    \n",
    "    paralog_query=target_paralogs_pd[target_paralogs_pd['name-gene']==target_paralogs_pd['name-gene'][i]]['name-paralogue'].tolist()\n",
    "    list_queries_sl=data_sl[data_sl['gene-target-name']==target_paralogs_pd['name-gene'][i]]['gene-query-name'].tolist()\n",
    "\n",
    "\n",
    "    if paralog_query[0] in list_queries_sl:\n",
    "        indexes_sl_target.append(target_paralogs_pd[target_paralogs_pd['name-paralogue']==paralog_query[0]].index[0])\n",
    "\n"
   ]
  },
  {
   "cell_type": "code",
   "execution_count": 192,
   "metadata": {},
   "outputs": [
    {
     "output_type": "execute_result",
     "data": {
      "text/plain": "(array([], dtype=int64),)"
     },
     "metadata": {},
     "execution_count": 192
    }
   ],
   "source": [
    "cla4test=data_sl[data_sl['gene-query-name']=='CLA4']\n",
    "cla4test_sl=cla4test[cla4test['interaction-type']=='Synthetic Lethality']['gene-target-name']=='SKM1'\n",
    "np.where(cla4test_sl==True)"
   ]
  },
  {
   "cell_type": "code",
   "execution_count": 239,
   "metadata": {},
   "outputs": [],
   "source": [
    "sL_values=np.zeros_like(query_paralogs_pd['name-gene'])\n",
    "for i in np.arange(0,len(query_paralogs_pd)):\n",
    "    if i in indexes_sl_query:\n",
    "        sL_values[i]=1\n",
    "query_paralogs_pd['sL']=sL_values\n",
    "\n",
    "sL_values=np.zeros_like(target_paralogs_pd['name-gene'])\n",
    "for i in np.arange(0,len(target_paralogs_pd)):\n",
    "    if i in indexes_sl_target:\n",
    "        sL_values[i]=1\n",
    "target_paralogs_pd['sL']=sL_values"
   ]
  },
  {
   "cell_type": "code",
   "execution_count": 241,
   "metadata": {},
   "outputs": [],
   "source": [
    "paralogs_sl_pd=pd.concat([query_paralogs_pd,target_paralogs_pd],axis=0)"
   ]
  },
  {
   "cell_type": "code",
   "execution_count": 244,
   "metadata": {},
   "outputs": [],
   "source": [
    "sl_that_are_paralogs=paralogs_sl_pd[paralogs_sl_pd['sL']==1]"
   ]
  },
  {
   "cell_type": "code",
   "execution_count": 247,
   "metadata": {},
   "outputs": [
    {
     "output_type": "execute_result",
     "data": {
      "text/plain": "    name-gene name-paralogue sL\n0        FKS1           GSC2  1\n1        RAS2           RAS1  1\n2        GSC2           FKS1  1\n3        KRE6           SKN1  1\n4        DBF2          DBF20  1\n..        ...            ... ..\n263    RPS24B         RPS24A  1\n264    RPS26B         RPS26A  1\n265      STD1           MTH1  1\n266     ASK10           RGC1  1\n267      LEU9           LEU4  1\n\n[268 rows x 3 columns]",
      "text/html": "<div>\n<style scoped>\n    .dataframe tbody tr th:only-of-type {\n        vertical-align: middle;\n    }\n\n    .dataframe tbody tr th {\n        vertical-align: top;\n    }\n\n    .dataframe thead th {\n        text-align: right;\n    }\n</style>\n<table border=\"1\" class=\"dataframe\">\n  <thead>\n    <tr style=\"text-align: right;\">\n      <th></th>\n      <th>name-gene</th>\n      <th>name-paralogue</th>\n      <th>sL</th>\n    </tr>\n  </thead>\n  <tbody>\n    <tr>\n      <th>0</th>\n      <td>FKS1</td>\n      <td>GSC2</td>\n      <td>1</td>\n    </tr>\n    <tr>\n      <th>1</th>\n      <td>RAS2</td>\n      <td>RAS1</td>\n      <td>1</td>\n    </tr>\n    <tr>\n      <th>2</th>\n      <td>GSC2</td>\n      <td>FKS1</td>\n      <td>1</td>\n    </tr>\n    <tr>\n      <th>3</th>\n      <td>KRE6</td>\n      <td>SKN1</td>\n      <td>1</td>\n    </tr>\n    <tr>\n      <th>4</th>\n      <td>DBF2</td>\n      <td>DBF20</td>\n      <td>1</td>\n    </tr>\n    <tr>\n      <th>...</th>\n      <td>...</td>\n      <td>...</td>\n      <td>...</td>\n    </tr>\n    <tr>\n      <th>263</th>\n      <td>RPS24B</td>\n      <td>RPS24A</td>\n      <td>1</td>\n    </tr>\n    <tr>\n      <th>264</th>\n      <td>RPS26B</td>\n      <td>RPS26A</td>\n      <td>1</td>\n    </tr>\n    <tr>\n      <th>265</th>\n      <td>STD1</td>\n      <td>MTH1</td>\n      <td>1</td>\n    </tr>\n    <tr>\n      <th>266</th>\n      <td>ASK10</td>\n      <td>RGC1</td>\n      <td>1</td>\n    </tr>\n    <tr>\n      <th>267</th>\n      <td>LEU9</td>\n      <td>LEU4</td>\n      <td>1</td>\n    </tr>\n  </tbody>\n</table>\n<p>268 rows × 3 columns</p>\n</div>"
     },
     "metadata": {},
     "execution_count": 247
    }
   ],
   "source": [
    "sl_that_are_paralogs.set_index(np.arange(0,len(sl_that_are_paralogs)))"
   ]
  },
  {
   "cell_type": "code",
   "execution_count": 251,
   "metadata": {},
   "outputs": [
    {
     "output_type": "execute_result",
     "data": {
      "text/plain": "['FKS1', 'GSC2']"
     },
     "metadata": {},
     "execution_count": 251
    }
   ],
   "source": [
    "sl_that_are_paralogs.iloc[0,0:2].tolist()"
   ]
  },
  {
   "cell_type": "code",
   "execution_count": 256,
   "metadata": {},
   "outputs": [
    {
     "output_type": "execute_result",
     "data": {
      "text/plain": "True"
     },
     "metadata": {},
     "execution_count": 256
    }
   ],
   "source": [
    "a= ['BUD6', 'CDC42']\n",
    "b= ['CDC42', 'BUD6']\n",
    "set(a)==set(b)"
   ]
  },
  {
   "cell_type": "code",
   "execution_count": null,
   "metadata": {},
   "outputs": [],
   "source": [
    "## use this to compare with the pairs of SL that have shared domains from FEATUREPROCESSINg script ## use this to compare with the pairs of SL that have shared domains from FEATUREPROCESSINg script "
   ]
  }
 ],
 "metadata": {
  "language_info": {
   "codemirror_mode": {
    "name": "ipython",
    "version": 3
   },
   "file_extension": ".py",
   "mimetype": "text/x-python",
   "name": "python",
   "nbconvert_exporter": "python",
   "pygments_lexer": "ipython3",
   "version": 3
  },
  "orig_nbformat": 2,
  "kernelspec": {
   "name": "python_defaultSpec_1594899382998",
   "display_name": "Python 3.7.7 64-bit ('base': conda)"
  }
 },
 "nbformat": 4,
 "nbformat_minor": 2
}