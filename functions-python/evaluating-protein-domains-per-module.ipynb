{
 "cells": [
  {
   "cell_type": "markdown",
   "metadata": {},
   "source": [
    "## What is the protein domain profile of genes from the same module ? \n"
   ]
  },
  {
   "cell_type": "code",
   "execution_count": 1,
   "metadata": {},
   "outputs": [],
   "source": [
    "from intermine.webservice import Service\n",
    "import numpy as np\n",
    "import scipy.io\n",
    "import seaborn as sns\n",
    "from scipy import stats, optimize, interpolate\n",
    "import pandas as pd\n",
    "from collections import defaultdict \n",
    "import math\n",
    "import matplotlib.pyplot as plt\n",
    "from scipy.stats import norm, lognorm\n",
    "from scipy import stats\n",
    "import matplotlib.cm as cm\n",
    "import matplotlib.mlab as mlab\n",
    "import os, fnmatch"
   ]
  },
  {
   "cell_type": "markdown",
   "metadata": {},
   "source": [
    "## Selecting the modules to evaluate the protein domains "
   ]
  },
  {
   "cell_type": "code",
   "execution_count": null,
   "metadata": {},
   "outputs": [],
   "source": [
    "pathways=[ 'galactose degradation','phospholipid biosynthesis', \"ethanol degradation\"]\n",
    "biological_processes=[\"cell budding\"]"
   ]
  },
  {
   "cell_type": "code",
   "execution_count": null,
   "metadata": {},
   "outputs": [],
   "source": [
    "service = Service('https://yeastmine.yeastgenome.org/yeastmine/service', token = '11d7t1Y007Fa97c82f27')\n",
    "query = service.new_query(\"Pathway\")\n",
    "query.add_view(\"name\", \"genes.symbol\")\n",
    "query.add_constraint(\"name\", \"=\", \"galactose degradation\", code = \"A\")\n",
    "\n",
    "data_toy=defaultdict(dict)\n",
    "\n",
    "for row,counter in zip(query.rows(),np.arange(0,len(query.rows()))):\n",
    "\n",
    "     data_toy['gene-name'][counter]=row['genes.symbol']\n",
    "\n",
    "data_toy_pd=pd.DataFrame(data_toy)\n",
    "data_gal_pathway=data_toy_pd.drop_duplicates()"
   ]
  },
  {
   "cell_type": "code",
   "execution_count": 2,
   "metadata": {},
   "outputs": [],
   "source": [
    "service = Service('https://yeastmine.yeastgenome.org/yeastmine/service', token = '11d7t1Y007Fa97c82f27')\n",
    "query = service.new_query(\"Gene\")\n",
    "query.add_constraint(\"goAnnotation.ontologyTerm.parents\", \"GOSlimTerm\")\n",
    "query.add_view(\n",
    "    \"symbol\", \"goAnnotation.evidence.code.annotType\",\n",
    "    \"goAnnotation.ontologyTerm.parents.name\"\n",
    ")\n",
    "query.add_constraint(\"goAnnotation.qualifier\", \"!=\", \"NOT\", code = \"C\")\n",
    "query.add_constraint(\"goAnnotation.qualifier\", \"IS NULL\", code = \"D\")\n",
    "query.add_constraint(\"goAnnotation.evidence.code.annotType\", \"=\", \"manually curated\", code = \"F\")\n",
    "query.add_constraint(\"goAnnotation.ontologyTerm.parents.name\", \"=\", \"cell budding\", code = \"G\")\n",
    "query.set_logic(\"(C or D) and F and G\")\n",
    "\n",
    "data_toy=defaultdict(dict)\n",
    "\n",
    "for row,counter in zip(query.rows(),np.arange(0,len(query.rows()))):\n",
    "\n",
    "     data_toy['gene-name'][counter]=row[\"symbol\"]\n",
    "     data_toy['evidence'][counter]=row[\"goAnnotation.evidence.code.annotType\"]\n",
    "     data_toy['annotation'][counter]=row[\"goAnnotation.ontologyTerm.parents.name\"]\n",
    "\n",
    "\n",
    "data_toy_pd=pd.DataFrame(data_toy)\n",
    "data_cell_budding=data_toy_pd.drop_duplicates()\n",
    "\n"
   ]
  },
  {
   "cell_type": "code",
   "execution_count": 3,
   "metadata": {},
   "outputs": [
    {
     "output_type": "execute_result",
     "data": {
      "text/plain": "   gene-name          evidence    annotation\n0       BUD6  manually curated  cell budding\n2       MOB2  manually curated  cell budding\n5       SLA2  manually curated  cell budding\n6       BUD4  manually curated  cell budding\n7       TGL3  manually curated  cell budding\n9       CMD1  manually curated  cell budding\n10     PPH22  manually curated  cell budding\n11     PPH21  manually curated  cell budding\n12     STE20  manually curated  cell budding\n15      PEA2  manually curated  cell budding\n17     VPS51  manually curated  cell budding\n18      SPA2  manually curated  cell budding\n22      HYM1  manually curated  cell budding\n25      TAO3  manually curated  cell budding\n29     ERV14  manually curated  cell budding\n30     CDC28  manually curated  cell budding\n32      REI1  manually curated  cell budding\n33      UBA4  manually curated  cell budding\n34      END3  manually curated  cell budding\n35      BNI1  manually curated  cell budding\n37      BUD2  manually curated  cell budding\n38      RGA1  manually curated  cell budding\n40      RHO1  manually curated  cell budding\n42      BUD5  manually curated  cell budding\n43      BUD3  manually curated  cell budding\n44      AXL1  manually curated  cell budding\n45      NAP1  manually curated  cell budding\n46      AXL2  manually curated  cell budding\n47      SOG2  manually curated  cell budding\n48      TPM1  manually curated  cell budding\n49      TPM2  manually curated  cell budding\n50      ROT1  manually curated  cell budding\n52      TGL4  manually curated  cell budding\n54      ATC1  manually curated  cell budding\n55      MYO5  manually curated  cell budding\n56      MYO3  manually curated  cell budding\n57      PAN1  manually curated  cell budding\n58      PEF1  manually curated  cell budding\n59      NBA1  manually curated  cell budding\n60      NIS1  manually curated  cell budding\n61      RAX1  manually curated  cell budding\n63     ERV15  manually curated  cell budding\n64      BOI2  manually curated  cell budding\n65      BOI1  manually curated  cell budding\n66      SPH1  manually curated  cell budding\n67      GIN4  manually curated  cell budding\n69      KCC4  manually curated  cell budding\n70      KIC1  manually curated  cell budding\n72      RAX2  manually curated  cell budding\n74      DFG5  manually curated  cell budding\n75      DCW1  manually curated  cell budding\n76      RSR1  manually curated  cell budding\n77      ELM1  manually curated  cell budding\n78      CBK1  manually curated  cell budding\n83     CDC42  manually curated  cell budding\n84      GLC7  manually curated  cell budding\n85      MYO2  manually curated  cell budding\n86      URM1  manually curated  cell budding\n87      VRP1  manually curated  cell budding",
      "text/html": "<div>\n<style scoped>\n    .dataframe tbody tr th:only-of-type {\n        vertical-align: middle;\n    }\n\n    .dataframe tbody tr th {\n        vertical-align: top;\n    }\n\n    .dataframe thead th {\n        text-align: right;\n    }\n</style>\n<table border=\"1\" class=\"dataframe\">\n  <thead>\n    <tr style=\"text-align: right;\">\n      <th></th>\n      <th>gene-name</th>\n      <th>evidence</th>\n      <th>annotation</th>\n    </tr>\n  </thead>\n  <tbody>\n    <tr>\n      <th>0</th>\n      <td>BUD6</td>\n      <td>manually curated</td>\n      <td>cell budding</td>\n    </tr>\n    <tr>\n      <th>2</th>\n      <td>MOB2</td>\n      <td>manually curated</td>\n      <td>cell budding</td>\n    </tr>\n    <tr>\n      <th>5</th>\n      <td>SLA2</td>\n      <td>manually curated</td>\n      <td>cell budding</td>\n    </tr>\n    <tr>\n      <th>6</th>\n      <td>BUD4</td>\n      <td>manually curated</td>\n      <td>cell budding</td>\n    </tr>\n    <tr>\n      <th>7</th>\n      <td>TGL3</td>\n      <td>manually curated</td>\n      <td>cell budding</td>\n    </tr>\n    <tr>\n      <th>9</th>\n      <td>CMD1</td>\n      <td>manually curated</td>\n      <td>cell budding</td>\n    </tr>\n    <tr>\n      <th>10</th>\n      <td>PPH22</td>\n      <td>manually curated</td>\n      <td>cell budding</td>\n    </tr>\n    <tr>\n      <th>11</th>\n      <td>PPH21</td>\n      <td>manually curated</td>\n      <td>cell budding</td>\n    </tr>\n    <tr>\n      <th>12</th>\n      <td>STE20</td>\n      <td>manually curated</td>\n      <td>cell budding</td>\n    </tr>\n    <tr>\n      <th>15</th>\n      <td>PEA2</td>\n      <td>manually curated</td>\n      <td>cell budding</td>\n    </tr>\n    <tr>\n      <th>17</th>\n      <td>VPS51</td>\n      <td>manually curated</td>\n      <td>cell budding</td>\n    </tr>\n    <tr>\n      <th>18</th>\n      <td>SPA2</td>\n      <td>manually curated</td>\n      <td>cell budding</td>\n    </tr>\n    <tr>\n      <th>22</th>\n      <td>HYM1</td>\n      <td>manually curated</td>\n      <td>cell budding</td>\n    </tr>\n    <tr>\n      <th>25</th>\n      <td>TAO3</td>\n      <td>manually curated</td>\n      <td>cell budding</td>\n    </tr>\n    <tr>\n      <th>29</th>\n      <td>ERV14</td>\n      <td>manually curated</td>\n      <td>cell budding</td>\n    </tr>\n    <tr>\n      <th>30</th>\n      <td>CDC28</td>\n      <td>manually curated</td>\n      <td>cell budding</td>\n    </tr>\n    <tr>\n      <th>32</th>\n      <td>REI1</td>\n      <td>manually curated</td>\n      <td>cell budding</td>\n    </tr>\n    <tr>\n      <th>33</th>\n      <td>UBA4</td>\n      <td>manually curated</td>\n      <td>cell budding</td>\n    </tr>\n    <tr>\n      <th>34</th>\n      <td>END3</td>\n      <td>manually curated</td>\n      <td>cell budding</td>\n    </tr>\n    <tr>\n      <th>35</th>\n      <td>BNI1</td>\n      <td>manually curated</td>\n      <td>cell budding</td>\n    </tr>\n    <tr>\n      <th>37</th>\n      <td>BUD2</td>\n      <td>manually curated</td>\n      <td>cell budding</td>\n    </tr>\n    <tr>\n      <th>38</th>\n      <td>RGA1</td>\n      <td>manually curated</td>\n      <td>cell budding</td>\n    </tr>\n    <tr>\n      <th>40</th>\n      <td>RHO1</td>\n      <td>manually curated</td>\n      <td>cell budding</td>\n    </tr>\n    <tr>\n      <th>42</th>\n      <td>BUD5</td>\n      <td>manually curated</td>\n      <td>cell budding</td>\n    </tr>\n    <tr>\n      <th>43</th>\n      <td>BUD3</td>\n      <td>manually curated</td>\n      <td>cell budding</td>\n    </tr>\n    <tr>\n      <th>44</th>\n      <td>AXL1</td>\n      <td>manually curated</td>\n      <td>cell budding</td>\n    </tr>\n    <tr>\n      <th>45</th>\n      <td>NAP1</td>\n      <td>manually curated</td>\n      <td>cell budding</td>\n    </tr>\n    <tr>\n      <th>46</th>\n      <td>AXL2</td>\n      <td>manually curated</td>\n      <td>cell budding</td>\n    </tr>\n    <tr>\n      <th>47</th>\n      <td>SOG2</td>\n      <td>manually curated</td>\n      <td>cell budding</td>\n    </tr>\n    <tr>\n      <th>48</th>\n      <td>TPM1</td>\n      <td>manually curated</td>\n      <td>cell budding</td>\n    </tr>\n    <tr>\n      <th>49</th>\n      <td>TPM2</td>\n      <td>manually curated</td>\n      <td>cell budding</td>\n    </tr>\n    <tr>\n      <th>50</th>\n      <td>ROT1</td>\n      <td>manually curated</td>\n      <td>cell budding</td>\n    </tr>\n    <tr>\n      <th>52</th>\n      <td>TGL4</td>\n      <td>manually curated</td>\n      <td>cell budding</td>\n    </tr>\n    <tr>\n      <th>54</th>\n      <td>ATC1</td>\n      <td>manually curated</td>\n      <td>cell budding</td>\n    </tr>\n    <tr>\n      <th>55</th>\n      <td>MYO5</td>\n      <td>manually curated</td>\n      <td>cell budding</td>\n    </tr>\n    <tr>\n      <th>56</th>\n      <td>MYO3</td>\n      <td>manually curated</td>\n      <td>cell budding</td>\n    </tr>\n    <tr>\n      <th>57</th>\n      <td>PAN1</td>\n      <td>manually curated</td>\n      <td>cell budding</td>\n    </tr>\n    <tr>\n      <th>58</th>\n      <td>PEF1</td>\n      <td>manually curated</td>\n      <td>cell budding</td>\n    </tr>\n    <tr>\n      <th>59</th>\n      <td>NBA1</td>\n      <td>manually curated</td>\n      <td>cell budding</td>\n    </tr>\n    <tr>\n      <th>60</th>\n      <td>NIS1</td>\n      <td>manually curated</td>\n      <td>cell budding</td>\n    </tr>\n    <tr>\n      <th>61</th>\n      <td>RAX1</td>\n      <td>manually curated</td>\n      <td>cell budding</td>\n    </tr>\n    <tr>\n      <th>63</th>\n      <td>ERV15</td>\n      <td>manually curated</td>\n      <td>cell budding</td>\n    </tr>\n    <tr>\n      <th>64</th>\n      <td>BOI2</td>\n      <td>manually curated</td>\n      <td>cell budding</td>\n    </tr>\n    <tr>\n      <th>65</th>\n      <td>BOI1</td>\n      <td>manually curated</td>\n      <td>cell budding</td>\n    </tr>\n    <tr>\n      <th>66</th>\n      <td>SPH1</td>\n      <td>manually curated</td>\n      <td>cell budding</td>\n    </tr>\n    <tr>\n      <th>67</th>\n      <td>GIN4</td>\n      <td>manually curated</td>\n      <td>cell budding</td>\n    </tr>\n    <tr>\n      <th>69</th>\n      <td>KCC4</td>\n      <td>manually curated</td>\n      <td>cell budding</td>\n    </tr>\n    <tr>\n      <th>70</th>\n      <td>KIC1</td>\n      <td>manually curated</td>\n      <td>cell budding</td>\n    </tr>\n    <tr>\n      <th>72</th>\n      <td>RAX2</td>\n      <td>manually curated</td>\n      <td>cell budding</td>\n    </tr>\n    <tr>\n      <th>74</th>\n      <td>DFG5</td>\n      <td>manually curated</td>\n      <td>cell budding</td>\n    </tr>\n    <tr>\n      <th>75</th>\n      <td>DCW1</td>\n      <td>manually curated</td>\n      <td>cell budding</td>\n    </tr>\n    <tr>\n      <th>76</th>\n      <td>RSR1</td>\n      <td>manually curated</td>\n      <td>cell budding</td>\n    </tr>\n    <tr>\n      <th>77</th>\n      <td>ELM1</td>\n      <td>manually curated</td>\n      <td>cell budding</td>\n    </tr>\n    <tr>\n      <th>78</th>\n      <td>CBK1</td>\n      <td>manually curated</td>\n      <td>cell budding</td>\n    </tr>\n    <tr>\n      <th>83</th>\n      <td>CDC42</td>\n      <td>manually curated</td>\n      <td>cell budding</td>\n    </tr>\n    <tr>\n      <th>84</th>\n      <td>GLC7</td>\n      <td>manually curated</td>\n      <td>cell budding</td>\n    </tr>\n    <tr>\n      <th>85</th>\n      <td>MYO2</td>\n      <td>manually curated</td>\n      <td>cell budding</td>\n    </tr>\n    <tr>\n      <th>86</th>\n      <td>URM1</td>\n      <td>manually curated</td>\n      <td>cell budding</td>\n    </tr>\n    <tr>\n      <th>87</th>\n      <td>VRP1</td>\n      <td>manually curated</td>\n      <td>cell budding</td>\n    </tr>\n  </tbody>\n</table>\n</div>"
     },
     "metadata": {},
     "execution_count": 3
    }
   ],
   "source": [
    "data_cell_budding"
   ]
  },
  {
   "cell_type": "code",
   "execution_count": null,
   "metadata": {},
   "outputs": [],
   "source": [
    "## Build a protein list of pairs from that module "
   ]
  }
 ],
 "metadata": {
  "language_info": {
   "codemirror_mode": {
    "name": "ipython",
    "version": 3
   },
   "file_extension": ".py",
   "mimetype": "text/x-python",
   "name": "python",
   "nbconvert_exporter": "python",
   "pygments_lexer": "ipython3",
   "version": "3.7.7-final"
  },
  "orig_nbformat": 2,
  "kernelspec": {
   "name": "python37064bitbaseconda6c8618fc0f0945779f8ded01abbb1089",
   "display_name": "Python 3.7.0 64-bit ('base': conda)"
  }
 },
 "nbformat": 4,
 "nbformat_minor": 2
}