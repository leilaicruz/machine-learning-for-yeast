{
 "nbformat": 4,
 "nbformat_minor": 2,
 "metadata": {
  "language_info": {
   "name": "python",
   "codemirror_mode": {
    "name": "ipython",
    "version": 3
   },
   "version": "3.7.0-final"
  },
  "orig_nbformat": 2,
  "file_extension": ".py",
  "mimetype": "text/x-python",
  "name": "python",
  "npconvert_exporter": "python",
  "pygments_lexer": "ipython3",
  "version": 3,
  "kernelspec": {
   "name": "python37064bitbaseconda6c8618fc0f0945779f8ded01abbb1089",
   "display_name": "Python 3.7.0 64-bit ('base': conda)"
  }
 },
 "cells": [
  {
   "cell_type": "code",
   "execution_count": 1,
   "metadata": {},
   "outputs": [],
   "source": [
    "from intermine.webservice import Service\n",
    "import numpy as np\n",
    "import scipy.io\n",
    "import seaborn as sns\n",
    "from scipy import stats, optimize, interpolate\n",
    "import pandas as pd\n",
    "from collections import defaultdict \n",
    "import math\n",
    "import matplotlib.pyplot as plt\n",
    "from scipy.stats import norm, lognorm\n",
    "from scipy import stats\n",
    "import matplotlib.cm as cm\n",
    "import matplotlib.mlab as mlab\n",
    "import os, fnmatch"
   ]
  },
  {
   "cell_type": "code",
   "execution_count": 2,
   "metadata": {},
   "outputs": [],
   "source": [
    "def query_filter_prot_domains():\n",
    "    service = Service('https://yeastmine.yeastgenome.org/yeastmine/service', token = '11d7t1Y007Fa97c82f27')\n",
    "\n",
    "    # Get a new query on the class (table) you will be querying:\n",
    "    query = service.new_query(\"Gene\")\n",
    "    query.add_view(\n",
    "    \"secondaryIdentifier\", \"symbol\", \"proteins.proteinDomains.name\",\n",
    "    \"proteins.proteinDomains.description\", \"proteins.proteinDomains.start\",\n",
    "    \"proteins.proteinDomains.end\", \"proteins.proteinDomains.method\",\n",
    "    \"proteins.proteinDomains.id\")\n",
    "\n",
    "    query.add_sort_order(\"Gene.symbol\", \"ASC\")\n",
    "    query.add_constraint(\"proteins.proteinDomains.method\", \"=\", \"Pfam\", code = \"A\")\n",
    "\n",
    "    data_toy=defaultdict(dict)\n",
    "\n",
    "    for row,counter in zip(query.rows(),np.arange(0,len(query.rows()))):\n",
    "        data_toy['name'][counter]=row['symbol']\n",
    "        data_toy['domain-name'][counter]=row[\"proteins.proteinDomains.name\"]\n",
    "        data_toy['domain-descrip'][counter]=row[\"proteins.proteinDomains.description\"]\n",
    "        data_toy['domain-start'][counter]=row[\"proteins.proteinDomains.start\"]\n",
    "        data_toy['domain-end'][counter]=row[\"proteins.proteinDomains.end\"]\n",
    "        data_toy['domain-method'][counter]=row[\"proteins.proteinDomains.method\"]\n",
    "        data_toy['domain-id'][counter]=row[\"proteins.proteinDomains.id\"]\n",
    "\n",
    "\n",
    "\n",
    "    data_toy_pd=pd.DataFrame(data_toy)\n",
    "    data_toy_pd=data_toy_pd.drop_duplicates()\n",
    "    return data_toy_pd"
   ]
  },
  {
   "cell_type": "code",
   "execution_count": 3,
   "metadata": {},
   "outputs": [],
   "source": [
    "data_domains=query_filter_prot_domains()\n"
   ]
  },
  {
   "cell_type": "code",
   "execution_count": 22,
   "metadata": {},
   "outputs": [],
   "source": [
    "data_domains.to_excel('proteins-domains-from-Pfam.xlsx')"
   ]
  },
  {
   "cell_type": "code",
   "execution_count": 10,
   "metadata": {},
   "outputs": [
    {
     "output_type": "execute_result",
     "data": {
      "text/plain": "True"
     },
     "metadata": {},
     "execution_count": 10
    }
   ],
   "source": [
    "domain_name_unique=np.unique(data_domains['domain-name'])\n",
    "domain_name_unique[0]=='PF00004'"
   ]
  },
  {
   "cell_type": "code",
   "execution_count": 5,
   "metadata": {},
   "outputs": [
    {
     "output_type": "execute_result",
     "data": {
      "text/plain": "     name domain-name              domain-descrip  domain-start  domain-end  \\\n538  BEM1     PF00018           SH3_1; SH3 domain            78         123   \n539  BEM1     PF00018           SH3_1; SH3 domain           161         209   \n540  BEM1     PF00787  PX; Phox homologous domain           293         398   \n\n    domain-method  domain-id  \n538          Pfam    2067303  \n539          Pfam    2067304  \n540          Pfam    2067305  ",
      "text/html": "<div>\n<style scoped>\n    .dataframe tbody tr th:only-of-type {\n        vertical-align: middle;\n    }\n\n    .dataframe tbody tr th {\n        vertical-align: top;\n    }\n\n    .dataframe thead th {\n        text-align: right;\n    }\n</style>\n<table border=\"1\" class=\"dataframe\">\n  <thead>\n    <tr style=\"text-align: right;\">\n      <th></th>\n      <th>name</th>\n      <th>domain-name</th>\n      <th>domain-descrip</th>\n      <th>domain-start</th>\n      <th>domain-end</th>\n      <th>domain-method</th>\n      <th>domain-id</th>\n    </tr>\n  </thead>\n  <tbody>\n    <tr>\n      <th>538</th>\n      <td>BEM1</td>\n      <td>PF00018</td>\n      <td>SH3_1; SH3 domain</td>\n      <td>78</td>\n      <td>123</td>\n      <td>Pfam</td>\n      <td>2067303</td>\n    </tr>\n    <tr>\n      <th>539</th>\n      <td>BEM1</td>\n      <td>PF00018</td>\n      <td>SH3_1; SH3 domain</td>\n      <td>161</td>\n      <td>209</td>\n      <td>Pfam</td>\n      <td>2067304</td>\n    </tr>\n    <tr>\n      <th>540</th>\n      <td>BEM1</td>\n      <td>PF00787</td>\n      <td>PX; Phox homologous domain</td>\n      <td>293</td>\n      <td>398</td>\n      <td>Pfam</td>\n      <td>2067305</td>\n    </tr>\n  </tbody>\n</table>\n</div>"
     },
     "metadata": {},
     "execution_count": 5
    }
   ],
   "source": [
    "data_domains[data_domains['name']=='BEM1']"
   ]
  },
  {
   "cell_type": "code",
   "execution_count": 14,
   "metadata": {},
   "outputs": [],
   "source": [
    "data_sl=pd.read_excel(r'C:\\Users\\linigodelacruz\\Documents\\PhD_2018\\Documentation\\Calculations\\data_BioGrid\\data-synthetic-lethals.xlsx',header=0)"
   ]
  },
  {
   "cell_type": "code",
   "execution_count": 15,
   "metadata": {},
   "outputs": [
    {
     "output_type": "execute_result",
     "data": {
      "text/plain": "      gene-query gene-target gene-query-name gene-target-name  \\\n0        YNL271C     YJL187C            BNI1             SWE1   \n1        YLR319C     YJL187C            BUD6             SWE1   \n2        YLR229C     YBR200W           CDC42             BEM1   \n3        YLR229C     YPL161C           CDC42             BEM4   \n4        YLR229C     YNL271C           CDC42             BNI1   \n...          ...         ...             ...              ...   \n17701    YDL087C     YPL157W            LUC7             TGS1   \n17702    YDL087C     YPL178W            LUC7             CBC2   \n17703    YDL087C     YIL061C            LUC7             SNP1   \n17704    YGR152C     YBR200W            RSR1             BEM1   \n17705    YGR252W     YOR064C            GCN5             YNG1   \n\n                                  gene-query-description  \\\n0                       PPF3|SHE5|formin BNI1|L000000190   \n1                             AIP3|L000000071|L000002602   \n2                     Rho family GTPase CDC42|L000000276   \n3                     Rho family GTPase CDC42|L000000276   \n4                     Rho family GTPase CDC42|L000000276   \n...                                                  ...   \n17701                               EPE1|EXM2|L000003348   \n17702                               EPE1|EXM2|L000003348   \n17703                               EPE1|EXM2|L000003348   \n17704             BUD1|Ras family GTPase RSR1|L000001780   \n17705  AAS104|ADA4|SWI9|histone acetyltransferase GCN...   \n\n                                 gene-target-description     interaction-type  \\\n0           WEE1|tyrosine protein kinase SWE1|L000002248  Synthetic Lethality   \n1           WEE1|tyrosine protein kinase SWE1|L000002248  Synthetic Lethality   \n2      SRO1|phosphatidylinositol-3-phosphate-binding ...  Synthetic Lethality   \n3                                        ROM7|L000000170  Synthetic Lethality   \n4                       PPF3|SHE5|formin BNI1|L000000190  Synthetic Lethality   \n...                                                  ...                  ...   \n17701                                                  -  Synthetic Lethality   \n17702             CBP20|MUD13|SAE1|L000002891|L000004111  Synthetic Lethality   \n17703                                  U1-70K|L000001954  Synthetic Lethality   \n17704  SRO1|phosphatidylinositol-3-phosphate-binding ...  Synthetic Lethality   \n17705                                YOR29-15|S000007517  Synthetic Lethality   \n\n              paper-source  \n0       Goehring AS (2003)  \n1       Goehring AS (2003)  \n2      Kozminski KG (2003)  \n3      Kozminski KG (2003)  \n4      Kozminski KG (2003)  \n...                    ...  \n17701     Agarwal R (2016)  \n17702     Agarwal R (2016)  \n17703     Agarwal R (2016)  \n17704       Woods B (2015)  \n17705    Gilbert TM (2014)  \n\n[17706 rows x 8 columns]",
      "text/html": "<div>\n<style scoped>\n    .dataframe tbody tr th:only-of-type {\n        vertical-align: middle;\n    }\n\n    .dataframe tbody tr th {\n        vertical-align: top;\n    }\n\n    .dataframe thead th {\n        text-align: right;\n    }\n</style>\n<table border=\"1\" class=\"dataframe\">\n  <thead>\n    <tr style=\"text-align: right;\">\n      <th></th>\n      <th>gene-query</th>\n      <th>gene-target</th>\n      <th>gene-query-name</th>\n      <th>gene-target-name</th>\n      <th>gene-query-description</th>\n      <th>gene-target-description</th>\n      <th>interaction-type</th>\n      <th>paper-source</th>\n    </tr>\n  </thead>\n  <tbody>\n    <tr>\n      <th>0</th>\n      <td>YNL271C</td>\n      <td>YJL187C</td>\n      <td>BNI1</td>\n      <td>SWE1</td>\n      <td>PPF3|SHE5|formin BNI1|L000000190</td>\n      <td>WEE1|tyrosine protein kinase SWE1|L000002248</td>\n      <td>Synthetic Lethality</td>\n      <td>Goehring AS (2003)</td>\n    </tr>\n    <tr>\n      <th>1</th>\n      <td>YLR319C</td>\n      <td>YJL187C</td>\n      <td>BUD6</td>\n      <td>SWE1</td>\n      <td>AIP3|L000000071|L000002602</td>\n      <td>WEE1|tyrosine protein kinase SWE1|L000002248</td>\n      <td>Synthetic Lethality</td>\n      <td>Goehring AS (2003)</td>\n    </tr>\n    <tr>\n      <th>2</th>\n      <td>YLR229C</td>\n      <td>YBR200W</td>\n      <td>CDC42</td>\n      <td>BEM1</td>\n      <td>Rho family GTPase CDC42|L000000276</td>\n      <td>SRO1|phosphatidylinositol-3-phosphate-binding ...</td>\n      <td>Synthetic Lethality</td>\n      <td>Kozminski KG (2003)</td>\n    </tr>\n    <tr>\n      <th>3</th>\n      <td>YLR229C</td>\n      <td>YPL161C</td>\n      <td>CDC42</td>\n      <td>BEM4</td>\n      <td>Rho family GTPase CDC42|L000000276</td>\n      <td>ROM7|L000000170</td>\n      <td>Synthetic Lethality</td>\n      <td>Kozminski KG (2003)</td>\n    </tr>\n    <tr>\n      <th>4</th>\n      <td>YLR229C</td>\n      <td>YNL271C</td>\n      <td>CDC42</td>\n      <td>BNI1</td>\n      <td>Rho family GTPase CDC42|L000000276</td>\n      <td>PPF3|SHE5|formin BNI1|L000000190</td>\n      <td>Synthetic Lethality</td>\n      <td>Kozminski KG (2003)</td>\n    </tr>\n    <tr>\n      <th>...</th>\n      <td>...</td>\n      <td>...</td>\n      <td>...</td>\n      <td>...</td>\n      <td>...</td>\n      <td>...</td>\n      <td>...</td>\n      <td>...</td>\n    </tr>\n    <tr>\n      <th>17701</th>\n      <td>YDL087C</td>\n      <td>YPL157W</td>\n      <td>LUC7</td>\n      <td>TGS1</td>\n      <td>EPE1|EXM2|L000003348</td>\n      <td>-</td>\n      <td>Synthetic Lethality</td>\n      <td>Agarwal R (2016)</td>\n    </tr>\n    <tr>\n      <th>17702</th>\n      <td>YDL087C</td>\n      <td>YPL178W</td>\n      <td>LUC7</td>\n      <td>CBC2</td>\n      <td>EPE1|EXM2|L000003348</td>\n      <td>CBP20|MUD13|SAE1|L000002891|L000004111</td>\n      <td>Synthetic Lethality</td>\n      <td>Agarwal R (2016)</td>\n    </tr>\n    <tr>\n      <th>17703</th>\n      <td>YDL087C</td>\n      <td>YIL061C</td>\n      <td>LUC7</td>\n      <td>SNP1</td>\n      <td>EPE1|EXM2|L000003348</td>\n      <td>U1-70K|L000001954</td>\n      <td>Synthetic Lethality</td>\n      <td>Agarwal R (2016)</td>\n    </tr>\n    <tr>\n      <th>17704</th>\n      <td>YGR152C</td>\n      <td>YBR200W</td>\n      <td>RSR1</td>\n      <td>BEM1</td>\n      <td>BUD1|Ras family GTPase RSR1|L000001780</td>\n      <td>SRO1|phosphatidylinositol-3-phosphate-binding ...</td>\n      <td>Synthetic Lethality</td>\n      <td>Woods B (2015)</td>\n    </tr>\n    <tr>\n      <th>17705</th>\n      <td>YGR252W</td>\n      <td>YOR064C</td>\n      <td>GCN5</td>\n      <td>YNG1</td>\n      <td>AAS104|ADA4|SWI9|histone acetyltransferase GCN...</td>\n      <td>YOR29-15|S000007517</td>\n      <td>Synthetic Lethality</td>\n      <td>Gilbert TM (2014)</td>\n    </tr>\n  </tbody>\n</table>\n<p>17706 rows × 8 columns</p>\n</div>"
     },
     "metadata": {},
     "execution_count": 15
    }
   ],
   "source": [
    "data_sl"
   ]
  },
  {
   "cell_type": "code",
   "execution_count": 21,
   "metadata": {},
   "outputs": [
    {
     "output_type": "execute_result",
     "data": {
      "text/plain": "     gene-query gene-target gene-query-name gene-target-name  \\\n9331    YBL030C     YPR024W            PET9             YME1   \n9454    YBL030C     YJR077C            PET9             MIR1   \n9455    YBL030C     YDL198C            PET9             GGC1   \n9712    YBL030C     YOR065W            PET9             CYT1   \n9713    YBL030C     YGL187C            PET9             COX4   \n9714    YBL030C     YGR132C            PET9             PHB1   \n9715    YBL030C     YGR231C            PET9             PHB2   \n9716    YBL030C     YPR024W            PET9             YME1   \n\n                                 gene-query-description  \\\n9331  AAC2|ANC2|ADP/ATP carrier protein PET9|OP1|L00...   \n9454  AAC2|ANC2|ADP/ATP carrier protein PET9|OP1|L00...   \n9455  AAC2|ANC2|ADP/ATP carrier protein PET9|OP1|L00...   \n9712  AAC2|ANC2|ADP/ATP carrier protein PET9|OP1|L00...   \n9713  AAC2|ANC2|ADP/ATP carrier protein PET9|OP1|L00...   \n9714  AAC2|ANC2|ADP/ATP carrier protein PET9|OP1|L00...   \n9715  AAC2|ANC2|ADP/ATP carrier protein PET9|OP1|L00...   \n9716  AAC2|ANC2|ADP/ATP carrier protein PET9|OP1|L00...   \n\n                                gene-target-description     interaction-type  \\\n9331          OSD1|YTA11|i-AAA protease YME1|L000002522  Synthetic Lethality   \n9454                                     PTP|L000001114  Synthetic Lethality   \n9455                               SHM1|YHM1|L000001881  Synthetic Lethality   \n9712  CTC1|YOR29-16|ubiquinol--cytochrome-c reductas...  Synthetic Lethality   \n9713         cytochrome c oxidase subunit IV|L000000386  Synthetic Lethality   \n9714      prohibitin subunit PHB1|L000001416|L000001415  Synthetic Lethality   \n9715                 prohibitin subunit PHB2|L000004019  Synthetic Lethality   \n9716          OSD1|YTA11|i-AAA protease YME1|L000002522  Synthetic Lethality   \n\n            paper-source  \n9331       Wang X (2008)  \n9454  Claypool SM (2008)  \n9455  Claypool SM (2008)  \n9712       Wang X (2008)  \n9713       Wang X (2008)  \n9714       Wang X (2008)  \n9715       Wang X (2008)  \n9716       Wang X (2008)  ",
      "text/html": "<div>\n<style scoped>\n    .dataframe tbody tr th:only-of-type {\n        vertical-align: middle;\n    }\n\n    .dataframe tbody tr th {\n        vertical-align: top;\n    }\n\n    .dataframe thead th {\n        text-align: right;\n    }\n</style>\n<table border=\"1\" class=\"dataframe\">\n  <thead>\n    <tr style=\"text-align: right;\">\n      <th></th>\n      <th>gene-query</th>\n      <th>gene-target</th>\n      <th>gene-query-name</th>\n      <th>gene-target-name</th>\n      <th>gene-query-description</th>\n      <th>gene-target-description</th>\n      <th>interaction-type</th>\n      <th>paper-source</th>\n    </tr>\n  </thead>\n  <tbody>\n    <tr>\n      <th>9331</th>\n      <td>YBL030C</td>\n      <td>YPR024W</td>\n      <td>PET9</td>\n      <td>YME1</td>\n      <td>AAC2|ANC2|ADP/ATP carrier protein PET9|OP1|L00...</td>\n      <td>OSD1|YTA11|i-AAA protease YME1|L000002522</td>\n      <td>Synthetic Lethality</td>\n      <td>Wang X (2008)</td>\n    </tr>\n    <tr>\n      <th>9454</th>\n      <td>YBL030C</td>\n      <td>YJR077C</td>\n      <td>PET9</td>\n      <td>MIR1</td>\n      <td>AAC2|ANC2|ADP/ATP carrier protein PET9|OP1|L00...</td>\n      <td>PTP|L000001114</td>\n      <td>Synthetic Lethality</td>\n      <td>Claypool SM (2008)</td>\n    </tr>\n    <tr>\n      <th>9455</th>\n      <td>YBL030C</td>\n      <td>YDL198C</td>\n      <td>PET9</td>\n      <td>GGC1</td>\n      <td>AAC2|ANC2|ADP/ATP carrier protein PET9|OP1|L00...</td>\n      <td>SHM1|YHM1|L000001881</td>\n      <td>Synthetic Lethality</td>\n      <td>Claypool SM (2008)</td>\n    </tr>\n    <tr>\n      <th>9712</th>\n      <td>YBL030C</td>\n      <td>YOR065W</td>\n      <td>PET9</td>\n      <td>CYT1</td>\n      <td>AAC2|ANC2|ADP/ATP carrier protein PET9|OP1|L00...</td>\n      <td>CTC1|YOR29-16|ubiquinol--cytochrome-c reductas...</td>\n      <td>Synthetic Lethality</td>\n      <td>Wang X (2008)</td>\n    </tr>\n    <tr>\n      <th>9713</th>\n      <td>YBL030C</td>\n      <td>YGL187C</td>\n      <td>PET9</td>\n      <td>COX4</td>\n      <td>AAC2|ANC2|ADP/ATP carrier protein PET9|OP1|L00...</td>\n      <td>cytochrome c oxidase subunit IV|L000000386</td>\n      <td>Synthetic Lethality</td>\n      <td>Wang X (2008)</td>\n    </tr>\n    <tr>\n      <th>9714</th>\n      <td>YBL030C</td>\n      <td>YGR132C</td>\n      <td>PET9</td>\n      <td>PHB1</td>\n      <td>AAC2|ANC2|ADP/ATP carrier protein PET9|OP1|L00...</td>\n      <td>prohibitin subunit PHB1|L000001416|L000001415</td>\n      <td>Synthetic Lethality</td>\n      <td>Wang X (2008)</td>\n    </tr>\n    <tr>\n      <th>9715</th>\n      <td>YBL030C</td>\n      <td>YGR231C</td>\n      <td>PET9</td>\n      <td>PHB2</td>\n      <td>AAC2|ANC2|ADP/ATP carrier protein PET9|OP1|L00...</td>\n      <td>prohibitin subunit PHB2|L000004019</td>\n      <td>Synthetic Lethality</td>\n      <td>Wang X (2008)</td>\n    </tr>\n    <tr>\n      <th>9716</th>\n      <td>YBL030C</td>\n      <td>YPR024W</td>\n      <td>PET9</td>\n      <td>YME1</td>\n      <td>AAC2|ANC2|ADP/ATP carrier protein PET9|OP1|L00...</td>\n      <td>OSD1|YTA11|i-AAA protease YME1|L000002522</td>\n      <td>Synthetic Lethality</td>\n      <td>Wang X (2008)</td>\n    </tr>\n  </tbody>\n</table>\n</div>"
     },
     "metadata": {},
     "execution_count": 21
    }
   ],
   "source": [
    "data_sl[data_sl['gene-query-name']=='PET9']"
   ]
  },
  {
   "cell_type": "code",
   "execution_count": null,
   "metadata": {},
   "outputs": [],
   "source": []
  }
 ]
}