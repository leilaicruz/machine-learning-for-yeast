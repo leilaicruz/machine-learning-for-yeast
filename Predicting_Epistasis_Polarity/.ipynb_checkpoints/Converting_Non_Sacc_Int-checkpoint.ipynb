{
 "cells": [
  {
   "cell_type": "markdown",
   "metadata": {},
   "source": [
    "Not all proteins listed in the paper 'Patterns of Conservation and Diversification in the Fungal Polarization Network' are present or have a clear functional analogue in *Saccharomyces cerevisiae*, making it impossible to directly integrate them into the interaction network that we get from SGD. This code is aimed at finding the which *Saccharomyces* proteins these proteins interact with."
   ]
  },
  {
   "cell_type": "markdown",
   "metadata": {},
   "source": [
    "The proteins/genes that do not occur in Saccharomyces are: \n",
    "\n",
    "**SEPA FOR3 RAC1 SEPDIA**"
   ]
  },
  {
   "cell_type": "markdown",
   "metadata": {},
   "source": [
    "## SEPA\n",
    "\n",
    "SEPA is a gene *Neurospora crassa* that has no identified orthologue in *Saccharomyces cerevisiae* (based on the FungiDB database, https://fungidb.org/fungidb/app/record/gene/UMAG_01141#category:taxonomy) (**Actually, SEPA may be an ortologue of BNI1**). The interactions of SEPA with other proteins/genes in *Neurospora crassa* can be found on the STRINGS database ()"
   ]
  },
  {
   "cell_type": "code",
   "execution_count": 211,
   "metadata": {},
   "outputs": [
    {
     "name": "stdout",
     "output_type": "stream",
     "text": [
      "['ncr:NCU00440', 'ncr:NCU03485', 'ncr:NCU03563', 'ncr:NCU03115', 'ncr:NCU03092', 'ncr:NCU02393', 'ncr:NCU04247', 'ncr:NCU04173', 'ncr:NCU10927', 'ncr:NCU05206', 'ncr:NCU06397', 'ncr:NCU06454', 'ncr:NCU06493', 'ncr:NCU09132', 'ncr:NCU06729', 'ncr:NCU06943', 'ncr:NCU01431', 'ncr:NCU08468', 'ncr:NCU08840', 'ncr:NCU09468', 'ncr:NCU09696', 'ncr:NCU01484']\n"
     ]
    }
   ],
   "source": [
    "import pandas as pd\n",
    "import numpy as np\n",
    "import csv\n",
    "\n",
    "Interactions_Datafile = pd.ExcelFile('Interactions_Non_Saccharomyces/SEPA_Interactions.xlsx')\n",
    "Interactions_SEPA = pd.read_excel(Interactions_Datafile, header=None)\n",
    "\n",
    "Gene_ID = []\n",
    "\n",
    "for i in range(0,len(Interactions_SEPA),1):\n",
    "    \n",
    "    Indx = Interactions_SEPA.iloc[i,:].str.contains('ncr')\n",
    "    Indx = Indx == 1\n",
    "    Value = Interactions_SEPA.loc[i,Indx].tolist()\n",
    "    \n",
    "    if Value!=[]:\n",
    "        Gene_ID.append(Value[0])\n",
    "    \n",
    "print(Gene_ID)\n",
    "\n",
    "\n",
    "with open('Interactions_Non_Saccharomyces\\Gene_ID_Sepa_Int.tsv', 'w', newline='') as f_output:\n",
    "    tsv_output = csv.writer(f_output, delimiter='\\t')\n",
    "    tsv_output.writerow(Gene_ID)\n"
   ]
  },
  {
   "cell_type": "markdown",
   "metadata": {},
   "source": [
    "## FOR3\n",
    "\n",
    "FOR3 is a gene from *Saccharomyces Pombe* and has no identified orthologue in *Saccharomyces cerevisiae* (https://www.pombase.org/gene/SPCC895.05). Here I will attempt to find which of the genes from our (sub) polarity network FOR3 interacts with."
   ]
  },
  {
   "cell_type": "code",
   "execution_count": 119,
   "metadata": {},
   "outputs": [
    {
     "name": "stdout",
     "output_type": "stream",
     "text": [
      "         0 Interaction\n",
      "0     SRP1    Physical\n",
      "1     KEL2    Physical\n",
      "2     CTH1    Physical\n",
      "3     SEC3    Physical\n",
      "4     BOI1    Physical\n",
      "5    BUD14    Physical\n",
      "6     MYO4    Physical\n",
      "7    CDC42    Physical\n",
      "8     RHO3    Physical\n",
      "9     KEL1    Physical\n",
      "10   TIS11    Physical\n",
      "11    BOI2    Physical\n",
      "12    MYO2    Physical\n",
      "13    BNI1     Genetic\n",
      "14    BNR1     Genetic\n",
      "15    MIH1     Genetic\n",
      "16   EXO70     Genetic\n",
      "17    KIN1     Genetic\n",
      "18    KEL2     Genetic\n",
      "19    DCV1     Genetic\n",
      "20    BUD4     Genetic\n",
      "21   SCS22     Genetic\n",
      "22   SCS22     Genetic\n",
      "23    SEC8     Genetic\n",
      "24   BUD14     Genetic\n",
      "25    GPD1     Genetic\n",
      "26    RGA2     Genetic\n",
      "27    INN1     Genetic\n",
      "28    KIP2     Genetic\n",
      "29    MYO4     Genetic\n",
      "..     ...         ...\n",
      "56  RVS161     Genetic\n",
      "57    DOA1     Genetic\n",
      "58    SSK1     Genetic\n",
      "59    HST2     Genetic\n",
      "60   PHO85     Genetic\n",
      "61    SET1     Genetic\n",
      "62    SWC5     Genetic\n",
      "63    SPP1     Genetic\n",
      "64    MSS4     Genetic\n",
      "65    IQG1     Genetic\n",
      "66    MLC2     Genetic\n",
      "67    MLC1     Genetic\n",
      "68    KIN2     Genetic\n",
      "69    KEL1     Genetic\n",
      "70    RIM9     Genetic\n",
      "71    SCS2     Genetic\n",
      "72    SCS2     Genetic\n",
      "73    RGA1     Genetic\n",
      "74    MYO2     Genetic\n",
      "75    KEL1     Genetic\n",
      "76    PMP3     Genetic\n",
      "77    KIN2     Genetic\n",
      "78    KEL1     Genetic\n",
      "79    RIM9     Genetic\n",
      "80    SCS2     Genetic\n",
      "81    SCS2     Genetic\n",
      "82    RGA1     Genetic\n",
      "83    MYO2     Genetic\n",
      "84    KEL1     Genetic\n",
      "85    PMP3     Genetic\n",
      "\n",
      "[86 rows x 2 columns]\n"
     ]
    }
   ],
   "source": [
    "import pandas as pd\n",
    "import csv\n",
    "\n",
    "# Import the physical and genetic interactors of FOR3 from separate tsv files. These tsv files contain the\n",
    "# Budding yeast orthologs for each interactor of FOR3\n",
    "\n",
    "Physical_Int_FOR3 = pd.read_csv('Interactions_Non_Saccharomyces/Physical_Interactions_FOR3.tsv',sep='\\t')\n",
    "Genetic_Int_FOR3 = pd.read_csv('Interactions_Non_Saccharomyces/Genetic_Interactions_FOR3.tsv',sep='\\t')\n",
    "\n",
    "#Select the column that contains the Budding yeast orthologs, ommiting the rows that have a NaN value \n",
    "# (those are the interactors of pombe that do not have a cerevisiae ortholog) \n",
    "Phys_Int_cer = Physical_Int_FOR3['Budding yeast orthologs'].dropna()\n",
    "Gen_Int_cer = Genetic_Int_FOR3['Budding yeast orthologs'].dropna()\n",
    "\n",
    "# Split the occurences where a pombe gene has 2 or more orthologues in cerevisiae \n",
    "# (this means that if an interactor of FOR3 has more than 1 orthlogue in cerevisiae, we assume that \n",
    "# FOR3 will interact with both of them)\n",
    "Phys_Int_Sep = Phys_Int_cer.str.split(',',expand=True)\n",
    "Gen_Int_Sep = Gen_Int_cer.str.split(',',expand=True)\n",
    "\n",
    "# Now append the different columns of the multi-column dataframes into a single column\n",
    "# First do it for the physical interactions\n",
    "Phys_Int_FOR3 = pd.DataFrame({\"0\":Phys_Int_Sep.iloc[:,0]}) \n",
    "\n",
    "for i in range(1,Phys_Int_Sep.shape[1],1):\n",
    "    Temp_DataFrame_Phys = pd.DataFrame({\"0\":Phys_Int_Sep.iloc[:,i]})\n",
    "    Phys_Int_FOR3 = Phys_Int_FOR3.append(Temp_DataFrame_Phys,ignore_index=True).dropna()\n",
    "    \n",
    "    \n",
    "# Then do it for the genetic interactions\n",
    "Gen_Int_FOR3 = pd.DataFrame({\"0\":Gen_Int_Sep.iloc[:,0]})\n",
    "\n",
    "for j in range(1,Gen_Int_Sep.shape[1],1):\n",
    "    Temp_DataFrame_Gen = pd.DataFrame({\"0\":Gen_Int_Sep.iloc[:,1]})\n",
    "    Gen_Int_FOR3 = Gen_Int_FOR3.append(Temp_DataFrame_Gen,ignore_index=True).dropna()\n",
    "\n",
    "# Add a second column to the dataframes to describe the type of interaction\n",
    "Phys_Int_FOR3[\"Interaction\"] = 'Physical'\n",
    "Gen_Int_FOR3[\"Interaction\"] = 'Genetic'\n",
    "\n",
    "# Create new dataframe that combines the physical and genetic interaction\n",
    "Interactions_FOR3 = Phys_Int_FOR3\n",
    "Interactions_FOR3 = Interactions_FOR3.append(Gen_Int_FOR3,ignore_index=True)\n",
    "\n",
    "print(Interactions_FOR3)\n",
    "\n",
    "# Save the interactions in as  \n",
    "with open('Interactions_Non_Saccharomyces\\Gene_ID_Sepa_Int.tsv', 'w', newline='') as f_output:\n",
    "    tsv_output = csv.writer(f_output, delimiter='\\t')\n",
    "    tsv_output.writerow(Gene_ID)"
   ]
  },
  {
   "cell_type": "markdown",
   "metadata": {},
   "source": [
    "## RAC1\n",
    "\n",
    "Rac1 is a gene from *Ustilago maydis* that seems to have a function that is similar to Cdc42: the deletion of either Rac1 or Cdc42 in *Ustilago maydis* causes morphological defects, but only the deletion of both is lethal. The systematic name for Rac1 in *Ustilago maydis* is UMAG_00774 and its interactors can be found in the STRING database (https://string-db.org/cgi/network.pl?taskId=DXu1omnaoRMI, use the systematic name when searching). Downloaded the interactors from the STRING database (inccluded only the interactions from curated databases and experiments, medium confidence score:0.4)."
   ]
  },
  {
   "cell_type": "code",
   "execution_count": 1,
   "metadata": {},
   "outputs": [
    {
     "name": "stdout",
     "output_type": "stream",
     "text": [
      "0           None\n",
      "1     UMAG_00295\n",
      "2     UMAG_00356\n",
      "3     UMAG_00736\n",
      "4     UMAG_00774\n",
      "5     UMAG_00986\n",
      "6     UMAG_01141\n",
      "7     UMAG_01178\n",
      "8     UMAG_10803\n",
      "9     UMAG_11909\n",
      "10    UMAG_10145\n",
      "11    UMAG_02422\n",
      "12    UMAG_11476\n",
      "13    UMAG_03687\n",
      "14    UMAG_03864\n",
      "15    UMAG_12254\n",
      "16    UMAG_12272\n",
      "17    UMAG_10200\n",
      "18    UMAG_05693\n",
      "19    UMAG_10934\n",
      "20    UMAG_06013\n",
      "21    UMAG_06412\n",
      "Name: 1, dtype: object\n"
     ]
    }
   ],
   "source": [
    "import pandas as pd\n",
    "\n",
    "Interactions = pd.read_csv(\"Interactions_Non_Saccharomyces/Rac1_Interactions.tsv\",sep='\\n',header=None)\n",
    "Interactions = Interactions[0].str.split('uma:', expand=True)\n",
    "\n",
    "print(Interactions[1])"
   ]
  },
  {
   "cell_type": "markdown",
   "metadata": {},
   "source": [
    "These gene identifiers can be converted to their *Saccharomyces* orthologues by using the database from https://fungidb.org/fungidb/"
   ]
  },
  {
   "cell_type": "markdown",
   "metadata": {},
   "source": [
    "## Drf1\n",
    "\n",
    "Drf1 is a protein from *Ustilago maydis* that has no identified orthologue in *Saccharomyces cerevisiae* (Based on the FungiDB database,https://fungidb.org/fungidb/app/record/gene/UMAG_01141). The interactions of Drf1 with other proteins in *Ustilago maydis* can be found in the STRINGS database (https://string-db.org/cgi/network.pl?taskId=116PvqGDcUOT, only included interactions from experiments and other databases with a medium confidence score).  "
   ]
  },
  {
   "cell_type": "code",
   "execution_count": 212,
   "metadata": {},
   "outputs": [
    {
     "name": "stdout",
     "output_type": "stream",
     "text": [
      "0           None\n",
      "1     UMAG_00295\n",
      "2     UMAG_00774\n",
      "3     UMAG_01141\n",
      "4     UMAG_11657\n",
      "5     UMAG_02494\n",
      "6           None\n",
      "7     UMAG_11076\n",
      "8     UMAG_10663\n",
      "9     UMAG_04070\n",
      "10    UMAG_04411\n",
      "11    UMAG_11985\n",
      "12    UMAG_11792\n",
      "13    UMAG_05734\n",
      "14    UMAG_11232\n",
      "Name: 1, dtype: object\n"
     ]
    }
   ],
   "source": [
    "import pandas as pd\n",
    "\n",
    "Interactions = pd.read_csv(\"Interactions_Non_Saccharomyces/Drf1_Interactions.tsv\",sep='\\n',header=None)\n",
    "Interactions = Interactions[0].str.split('uma:', expand=True)\n",
    "\n",
    "print(Interactions[1])\n",
    "\n",
    "\n"
   ]
  },
  {
   "cell_type": "markdown",
   "metadata": {},
   "source": [
    "These gene identifiers can be converted to their *Saccharomyces* orthologues by using the database from https://fungidb.org/fungidb/"
   ]
  }
 ],
 "metadata": {
  "kernelspec": {
   "display_name": "Python 3",
   "language": "python",
   "name": "python3"
  },
  "language_info": {
   "codemirror_mode": {
    "name": "ipython",
    "version": 3
   },
   "file_extension": ".py",
   "mimetype": "text/x-python",
   "name": "python",
   "nbconvert_exporter": "python",
   "pygments_lexer": "ipython3",
   "version": "3.7.1"
  }
 },
 "nbformat": 4,
 "nbformat_minor": 2
}
